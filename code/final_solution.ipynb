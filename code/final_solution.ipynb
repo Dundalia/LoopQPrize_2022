{
 "cells": [
  {
   "cell_type": "markdown",
   "metadata": {},
   "source": [
    "## Importing dependencies and dataset"
   ]
  },
  {
   "cell_type": "code",
   "execution_count": 1,
   "metadata": {},
   "outputs": [],
   "source": [
    "import os\n",
    "import pandas as pd\n",
    "import numpy as np\n",
    "import librosa\n",
    "import librosa.display\n",
    "import matplotlib.pyplot as plt\n",
    "import seaborn as sns\n",
    "import random\n",
    "import sys\n",
    "from sklearn.model_selection import train_test_split\n",
    "from sklearn.preprocessing import OneHotEncoder\n",
    "from sklearn.metrics import classification_report, confusion_matrix\n",
    "\n",
    "from Utils import AudioUtil, compile_and_train\n",
    "\n",
    "import tensorflow as tf\n",
    "from tensorflow.keras.layers import Input, Reshape, Conv2D, SeparableConv2D,  Conv1D, ZeroPadding2D, Dense, Flatten, Layer, LayerNormalization, BatchNormalization , Flatten\n",
    "from tensorflow.keras.layers import ReLU,ELU,  LeakyReLU, MaxPool2D, MaxPool1D, add, Dropout, SpatialDropout2D, LSTM, Bidirectional, concatenate, Activation, GlobalAveragePooling1D, MultiHeadAttention\n",
    "from tensorflow.keras.models import Model, Sequential\n",
    "from tensorflow.keras import metrics\n",
    "from tensorflow.keras.callbacks import EarlyStopping, ModelCheckpoint"
   ]
  },
  {
   "cell_type": "code",
   "execution_count": 2,
   "metadata": {},
   "outputs": [
    {
     "name": "stdout",
     "output_type": "stream",
     "text": [
      "c:\\Users\\david\\Desktop\\LOOP_Q_PRIZE\n",
      "c:\\Users\\david\\Desktop\\LOOP_Q_PRIZE\\train\n"
     ]
    },
    {
     "data": {
      "text/html": [
       "<div>\n",
       "<style scoped>\n",
       "    .dataframe tbody tr th:only-of-type {\n",
       "        vertical-align: middle;\n",
       "    }\n",
       "\n",
       "    .dataframe tbody tr th {\n",
       "        vertical-align: top;\n",
       "    }\n",
       "\n",
       "    .dataframe thead th {\n",
       "        text-align: right;\n",
       "    }\n",
       "</style>\n",
       "<table border=\"1\" class=\"dataframe\">\n",
       "  <thead>\n",
       "    <tr style=\"text-align: right;\">\n",
       "      <th></th>\n",
       "      <th>file_id</th>\n",
       "      <th>emotion</th>\n",
       "      <th>origin</th>\n",
       "    </tr>\n",
       "  </thead>\n",
       "  <tbody>\n",
       "    <tr>\n",
       "      <th>8937</th>\n",
       "      <td>b78b41bd-3c6f-4182-94ac-430bad71f4e0.wav</td>\n",
       "      <td>NaN</td>\n",
       "      <td>tess</td>\n",
       "    </tr>\n",
       "  </tbody>\n",
       "</table>\n",
       "</div>"
      ],
      "text/plain": [
       "                                       file_id emotion origin\n",
       "8937  b78b41bd-3c6f-4182-94ac-430bad71f4e0.wav     NaN   tess"
      ]
     },
     "metadata": {},
     "output_type": "display_data"
    },
    {
     "name": "stdout",
     "output_type": "stream",
     "text": [
      "Number of rows: 10109\n"
     ]
    },
    {
     "data": {
      "text/html": [
       "<div>\n",
       "<style scoped>\n",
       "    .dataframe tbody tr th:only-of-type {\n",
       "        vertical-align: middle;\n",
       "    }\n",
       "\n",
       "    .dataframe tbody tr th {\n",
       "        vertical-align: top;\n",
       "    }\n",
       "\n",
       "    .dataframe thead th {\n",
       "        text-align: right;\n",
       "    }\n",
       "</style>\n",
       "<table border=\"1\" class=\"dataframe\">\n",
       "  <thead>\n",
       "    <tr style=\"text-align: right;\">\n",
       "      <th></th>\n",
       "      <th>file_id</th>\n",
       "      <th>emotion</th>\n",
       "      <th>origin</th>\n",
       "    </tr>\n",
       "  </thead>\n",
       "  <tbody>\n",
       "    <tr>\n",
       "      <th>9783</th>\n",
       "      <td>40623b56-3a55-4014-8ed4-643cb626c5d2.wav</td>\n",
       "      <td>disgust</td>\n",
       "      <td>tess</td>\n",
       "    </tr>\n",
       "    <tr>\n",
       "      <th>5602</th>\n",
       "      <td>2519e0c9-1fe7-4414-8755-37789d8e5840.wav</td>\n",
       "      <td>fear</td>\n",
       "      <td>crema</td>\n",
       "    </tr>\n",
       "    <tr>\n",
       "      <th>4469</th>\n",
       "      <td>7df0576b-c763-43c6-b307-d019f6e5b1d6.wav</td>\n",
       "      <td>angry</td>\n",
       "      <td>crema</td>\n",
       "    </tr>\n",
       "    <tr>\n",
       "      <th>7326</th>\n",
       "      <td>7d8a819d-85db-440a-976f-ef6e6d18cd12.wav</td>\n",
       "      <td>happy</td>\n",
       "      <td>ravdess</td>\n",
       "    </tr>\n",
       "    <tr>\n",
       "      <th>9068</th>\n",
       "      <td>d9728b79-ab99-4f3b-ba03-340caa518ae6.wav</td>\n",
       "      <td>sadness</td>\n",
       "      <td>tess</td>\n",
       "    </tr>\n",
       "    <tr>\n",
       "      <th>2405</th>\n",
       "      <td>14361163-1c26-46c0-88d4-c24f5f11c46f.wav</td>\n",
       "      <td>disgust</td>\n",
       "      <td>crema</td>\n",
       "    </tr>\n",
       "    <tr>\n",
       "      <th>740</th>\n",
       "      <td>19678e10-9a8c-470c-8083-c744eb22e2a9.wav</td>\n",
       "      <td>neutral</td>\n",
       "      <td>crema</td>\n",
       "    </tr>\n",
       "    <tr>\n",
       "      <th>7978</th>\n",
       "      <td>67d5b20d-5304-4afa-86eb-7ba599fc0604.wav</td>\n",
       "      <td>neutral</td>\n",
       "      <td>tess</td>\n",
       "    </tr>\n",
       "    <tr>\n",
       "      <th>6061</th>\n",
       "      <td>fe749d64-bf3a-4c8e-9757-4d155a9086b6.wav</td>\n",
       "      <td>happy</td>\n",
       "      <td>crema</td>\n",
       "    </tr>\n",
       "    <tr>\n",
       "      <th>2286</th>\n",
       "      <td>10d7878d-4ea8-4706-a2c8-7b139e7d07bb.wav</td>\n",
       "      <td>fear</td>\n",
       "      <td>crema</td>\n",
       "    </tr>\n",
       "  </tbody>\n",
       "</table>\n",
       "</div>"
      ],
      "text/plain": [
       "                                       file_id  emotion   origin\n",
       "9783  40623b56-3a55-4014-8ed4-643cb626c5d2.wav  disgust     tess\n",
       "5602  2519e0c9-1fe7-4414-8755-37789d8e5840.wav     fear    crema\n",
       "4469  7df0576b-c763-43c6-b307-d019f6e5b1d6.wav    angry    crema\n",
       "7326  7d8a819d-85db-440a-976f-ef6e6d18cd12.wav    happy  ravdess\n",
       "9068  d9728b79-ab99-4f3b-ba03-340caa518ae6.wav  sadness     tess\n",
       "2405  14361163-1c26-46c0-88d4-c24f5f11c46f.wav  disgust    crema\n",
       "740   19678e10-9a8c-470c-8083-c744eb22e2a9.wav  neutral    crema\n",
       "7978  67d5b20d-5304-4afa-86eb-7ba599fc0604.wav  neutral     tess\n",
       "6061  fe749d64-bf3a-4c8e-9757-4d155a9086b6.wav    happy    crema\n",
       "2286  10d7878d-4ea8-4706-a2c8-7b139e7d07bb.wav     fear    crema"
      ]
     },
     "metadata": {},
     "output_type": "display_data"
    }
   ],
   "source": [
    "main_dir=os.getcwd()\n",
    "train_dir=main_dir+'\\\\train'\n",
    "print('{}\\n{}'.format(main_dir,train_dir))\n",
    "\n",
    "train_df = pd.read_csv(main_dir+'\\\\2022challengeA_train.csv', index_col=0)\n",
    "\n",
    "display(train_df[train_df.isna().any(axis=1)])\n",
    "train_df = train_df.dropna()\n",
    "train_df = train_df.drop([168], axis = 0)\n",
    "train_df.index=range(len(train_df))\n",
    "\n",
    "n_samples = len(train_df)\n",
    "\n",
    "print('Number of rows: {}'.format(train_df.shape[0]))\n",
    "display(train_df.sample(10))\n",
    "\n",
    "au = AudioUtil()"
   ]
  },
  {
   "cell_type": "markdown",
   "metadata": {},
   "source": [
    "## Introduction"
   ]
  },
  {
   "cell_type": "markdown",
   "metadata": {},
   "source": [
    "I have extracted five different features from the audio files:\n",
    "\n",
    "- Melscale spectrogram;\n",
    "- Mfcc;\n",
    "- Tonnetz representation;\n",
    "- Chroma gram;\n",
    "- Spectral Contrast.\n",
    "\n",
    "I have used a length of the fft window of 1024, which corespond to 0.064s, and a number of samples between successive frames of 512. \n",
    "In this way all the features have 126 time steps\n",
    "\n",
    "I have built a model for each feature. All the models share the same architecture: two 1D convolution to reduce the time steps dimension followed by two Bidirectional LSTM layers. Each convolutional layer is followed by a BatchNormalization layer and the last LSTM layer is followed by a 1D MaxPooling to reduce the dimensions and then flattened.\n",
    "\n",
    "On top I have stacked two Dense layers of 256 neurons each, followed by the classification layer. \n",
    "\n",
    "As activation function I have used swish for each convolutional and dense layer except from the last layer, whose activation function is softmax.\n",
    "\n",
    "I have pretrained each model to make them understand how to extract the relevant informations for this particular task.\n",
    "\n",
    "To ensemble the models I have proceeded as follows:\n",
    "- I have removed the last layer from each model;\n",
    "- I have stacked a Dense layer with 64 neurons to each model;\n",
    "- I have summed the outputs;\n",
    "- I have stacked the classification layer with 7 neurons and the softmax activation function on top of the ensemble model."
   ]
  },
  {
   "cell_type": "markdown",
   "metadata": {},
   "source": [
    "## extracting features"
   ]
  },
  {
   "cell_type": "code",
   "execution_count": 3,
   "metadata": {},
   "outputs": [],
   "source": [
    "# setting the parameters\n",
    "\n",
    "n_fft = 1024\n",
    "n_mels = 64\n",
    "hop_len = int(n_fft / 2)"
   ]
  },
  {
   "cell_type": "code",
   "execution_count": 4,
   "metadata": {},
   "outputs": [],
   "source": [
    "# inizializing the arrays of the features\n",
    "\n",
    "sg = np.zeros(shape = (n_samples*3, 126, 64))\n",
    "mf = np.zeros(shape = (n_samples*3, 126, 20))\n",
    "cg = np.zeros(shape = (n_samples*3, 126, 12))\n",
    "tn = np.zeros(shape = (n_samples*3, 126, 6))\n",
    "sc = np.zeros(shape = (n_samples*3, 126, 7))"
   ]
  },
  {
   "cell_type": "code",
   "execution_count": 5,
   "metadata": {},
   "outputs": [
    {
     "name": "stdout",
     "output_type": "stream",
     "text": [
      "Creating the dataset with the features ...\n",
      "[=====================================================================================================>]\n",
      "Done !!\n"
     ]
    }
   ],
   "source": [
    "print('Creating the dataset with the features ...')\n",
    "\n",
    "for i in range(n_samples):\n",
    "    audio_file = train_dir + '\\\\' + train_df.loc[i, 'file_id']\n",
    "    aud = librosa.load(audio_file)\n",
    "    aud = au.process_audio(aud)\n",
    "    for j in range(3):\n",
    "\n",
    "        # Data Augmentation\n",
    "        if j in [1,2]:\n",
    "            aud = au.noise(aud)\n",
    "            aud = au.time_shift(aud)\n",
    "\n",
    "        mel_sg = au.spectro_gram(aud, n_mels = n_mels, n_fft = n_fft, hop_len = hop_len)\n",
    "        mfcc = librosa.feature.mfcc(S = mel_sg)\n",
    "        chroma_gram = librosa.feature.chroma_cqt(y = aud[0], sr = aud[1], hop_length=hop_len)\n",
    "        tonnetz = librosa.feature.tonnetz(chroma = chroma_gram)\n",
    "        spectral_contrast = librosa.feature.spectral_contrast(y = aud[0], sr = aud[1], n_fft = n_fft, hop_length = hop_len)\n",
    "\n",
    "        k = n_samples*j + i\n",
    "\n",
    "        sg[k] = mel_sg.transpose()\n",
    "        mf[k] = mfcc.transpose()\n",
    "        cg[k] = chroma_gram.transpose()\n",
    "        tn[k] = tonnetz.transpose()\n",
    "        sc[k] = spectral_contrast.transpose() \n",
    "\n",
    "    if i%100==0:\n",
    "        print (str(['=' for i in range(i//100)]+['>']+['.' for i in range(n_samples//100-i//100)]).replace(',','').replace(' ','').replace(\"'\", ''), end='\\r')\n",
    "print()       \n",
    "\n",
    "print('Done !!')"
   ]
  },
  {
   "cell_type": "markdown",
   "metadata": {},
   "source": [
    "Creating the masks for the training and test set"
   ]
  },
  {
   "cell_type": "code",
   "execution_count": 6,
   "metadata": {},
   "outputs": [],
   "source": [
    "n = np.arange(len(train_df))\n",
    "\n",
    "mask_train, mask_test = train_test_split(n, test_size = 0.1, random_state = 10)\n",
    "\n",
    "mask_train = np.concatenate([mask_train, mask_train + n_samples, mask_train + 2*n_samples])\n",
    "mask_test = np.concatenate([mask_test, mask_test + n_samples, mask_test + 2*n_samples])"
   ]
  },
  {
   "cell_type": "markdown",
   "metadata": {},
   "source": [
    "Creating the array of the labels one hot encoded"
   ]
  },
  {
   "cell_type": "code",
   "execution_count": 15,
   "metadata": {},
   "outputs": [],
   "source": [
    "enc = OneHotEncoder()\n",
    "y = enc.fit_transform(np.array(train_df['emotion']).reshape(-1,1)).toarray()\n",
    "y = np.concatenate([y, y, y])"
   ]
  },
  {
   "cell_type": "markdown",
   "metadata": {},
   "source": [
    "## Creating and training the base models"
   ]
  },
  {
   "cell_type": "markdown",
   "metadata": {},
   "source": [
    "Defining two utility functions to respectively download the data and build the model."
   ]
  },
  {
   "cell_type": "code",
   "execution_count": 8,
   "metadata": {},
   "outputs": [],
   "source": [
    "\n",
    "def get_data(feature):\n",
    "    X = feature\n",
    "   \n",
    "    X_train, X_test, y_train, y_test = X[mask_train], X[mask_test], y[mask_train], y[mask_test]\n",
    "\n",
    "    print('Shape of the feature = ', X[0].shape)\n",
    "    print('(n train, n val, n test) = ', (mask_train.shape[0], mask_test.shape[0]))\n",
    "\n",
    "    return X_train, X_test, y_train, y_test\n",
    "\n",
    "def get_lstm_model(input_shape):\n",
    "    input = Input(shape = input_shape)\n",
    "\n",
    "    x = Conv1D(32, 5, padding = 'same')(input)\n",
    "    x = BatchNormalization()(x)\n",
    "    x = Activation('swish')(x)\n",
    "    x = MaxPool1D(2)(x)\n",
    "\n",
    "    x = Conv1D(32, 5, padding = 'same')(x)\n",
    "    x = BatchNormalization()(x)\n",
    "    x = Activation('swish')(x)\n",
    "    x = MaxPool1D(2)(x)\n",
    "\n",
    "    x = Bidirectional(LSTM(32, return_sequences = True, dropout=0.3, recurrent_dropout = 0.3))(x)\n",
    "    x = Bidirectional(LSTM(32, return_sequences = True, dropout=0.3, recurrent_dropout = 0.3))(x)\n",
    "    x = MaxPool1D(2)(x)\n",
    "    x = Flatten()(x)\n",
    "\n",
    "    x = Dropout(0.4)(x)\n",
    "    x = Dense(256, activation = 'swish')(x)\n",
    "    x = Dense(256, activation = 'swish')(x)\n",
    "    output = Dense(7, activation = 'softmax')(x)\n",
    "\n",
    "    model = Model(input, output)\n",
    "    return model "
   ]
  },
  {
   "cell_type": "markdown",
   "metadata": {},
   "source": [
    "Training a model for each feature."
   ]
  },
  {
   "cell_type": "code",
   "execution_count": 19,
   "metadata": {},
   "outputs": [
    {
     "name": "stdout",
     "output_type": "stream",
     "text": [
      "\n",
      "\n",
      "-----------------SG-----------------\n",
      "\n",
      "\n",
      "Shape of the feature =  (126, 64)\n",
      "(n train, n val, n test) =  (27294, 3033)\n",
      "Model: \"model_1\"\n",
      "_________________________________________________________________\n",
      " Layer (type)                Output Shape              Param #   \n",
      "=================================================================\n",
      " input_2 (InputLayer)        [(None, 126, 64)]         0         \n",
      "                                                                 \n",
      " conv1d_2 (Conv1D)           (None, 126, 32)           10272     \n",
      "                                                                 \n",
      " batch_normalization_2 (Batc  (None, 126, 32)          128       \n",
      " hNormalization)                                                 \n",
      "                                                                 \n",
      " activation_2 (Activation)   (None, 126, 32)           0         \n",
      "                                                                 \n",
      " max_pooling1d_3 (MaxPooling  (None, 63, 32)           0         \n",
      " 1D)                                                             \n",
      "                                                                 \n",
      " conv1d_3 (Conv1D)           (None, 63, 32)            5152      \n",
      "                                                                 \n",
      " batch_normalization_3 (Batc  (None, 63, 32)           128       \n",
      " hNormalization)                                                 \n",
      "                                                                 \n",
      " activation_3 (Activation)   (None, 63, 32)            0         \n",
      "                                                                 \n",
      " max_pooling1d_4 (MaxPooling  (None, 31, 32)           0         \n",
      " 1D)                                                             \n",
      "                                                                 \n",
      " bidirectional_2 (Bidirectio  (None, 31, 64)           16640     \n",
      " nal)                                                            \n",
      "                                                                 \n",
      " bidirectional_3 (Bidirectio  (None, 31, 64)           24832     \n",
      " nal)                                                            \n",
      "                                                                 \n",
      " max_pooling1d_5 (MaxPooling  (None, 15, 64)           0         \n",
      " 1D)                                                             \n",
      "                                                                 \n",
      " flatten_1 (Flatten)         (None, 960)               0         \n",
      "                                                                 \n",
      " dropout_1 (Dropout)         (None, 960)               0         \n",
      "                                                                 \n",
      " dense_3 (Dense)             (None, 256)               246016    \n",
      "                                                                 \n",
      " dense_4 (Dense)             (None, 256)               65792     \n",
      "                                                                 \n",
      " dense_5 (Dense)             (None, 7)                 1799      \n",
      "                                                                 \n",
      "=================================================================\n",
      "Total params: 370,759\n",
      "Trainable params: 370,631\n",
      "Non-trainable params: 128\n",
      "_________________________________________________________________\n",
      "Epoch 1/100\n",
      "853/853 [==============================] - ETA: 0s - loss: 1.3042 - categorical_accuracy: 0.4805INFO:tensorflow:Assets written to: models\\lstm_sg\\assets\n"
     ]
    },
    {
     "name": "stderr",
     "output_type": "stream",
     "text": [
      "WARNING:absl:<keras.layers.recurrent.LSTMCell object at 0x00000183EBFE1630> has the same name 'LSTMCell' as a built-in Keras object. Consider renaming <class 'keras.layers.recurrent.LSTMCell'> to avoid naming conflicts when loading with `tf.keras.models.load_model`. If renaming is not possible, pass the object in the `custom_objects` parameter of the load function.\n",
      "WARNING:absl:<keras.layers.recurrent.LSTMCell object at 0x00000183EBFE1B40> has the same name 'LSTMCell' as a built-in Keras object. Consider renaming <class 'keras.layers.recurrent.LSTMCell'> to avoid naming conflicts when loading with `tf.keras.models.load_model`. If renaming is not possible, pass the object in the `custom_objects` parameter of the load function.\n",
      "WARNING:absl:<keras.layers.recurrent.LSTMCell object at 0x00000183EC05A110> has the same name 'LSTMCell' as a built-in Keras object. Consider renaming <class 'keras.layers.recurrent.LSTMCell'> to avoid naming conflicts when loading with `tf.keras.models.load_model`. If renaming is not possible, pass the object in the `custom_objects` parameter of the load function.\n",
      "WARNING:absl:<keras.layers.recurrent.LSTMCell object at 0x00000183EC05AB00> has the same name 'LSTMCell' as a built-in Keras object. Consider renaming <class 'keras.layers.recurrent.LSTMCell'> to avoid naming conflicts when loading with `tf.keras.models.load_model`. If renaming is not possible, pass the object in the `custom_objects` parameter of the load function.\n"
     ]
    },
    {
     "name": "stdout",
     "output_type": "stream",
     "text": [
      "853/853 [==============================] - 74s 77ms/step - loss: 1.3042 - categorical_accuracy: 0.4805 - val_loss: 4.0041 - val_categorical_accuracy: 0.2493\n",
      "Epoch 2/100\n",
      "853/853 [==============================] - ETA: 0s - loss: 1.0992 - categorical_accuracy: 0.5697INFO:tensorflow:Assets written to: models\\lstm_sg\\assets\n"
     ]
    },
    {
     "name": "stderr",
     "output_type": "stream",
     "text": [
      "INFO:tensorflow:Assets written to: models\\lstm_sg\\assets\n",
      "WARNING:absl:<keras.layers.recurrent.LSTMCell object at 0x00000183EBFE1630> has the same name 'LSTMCell' as a built-in Keras object. Consider renaming <class 'keras.layers.recurrent.LSTMCell'> to avoid naming conflicts when loading with `tf.keras.models.load_model`. If renaming is not possible, pass the object in the `custom_objects` parameter of the load function.\n",
      "WARNING:absl:<keras.layers.recurrent.LSTMCell object at 0x00000183EBFE1B40> has the same name 'LSTMCell' as a built-in Keras object. Consider renaming <class 'keras.layers.recurrent.LSTMCell'> to avoid naming conflicts when loading with `tf.keras.models.load_model`. If renaming is not possible, pass the object in the `custom_objects` parameter of the load function.\n",
      "WARNING:absl:<keras.layers.recurrent.LSTMCell object at 0x00000183EC05A110> has the same name 'LSTMCell' as a built-in Keras object. Consider renaming <class 'keras.layers.recurrent.LSTMCell'> to avoid naming conflicts when loading with `tf.keras.models.load_model`. If renaming is not possible, pass the object in the `custom_objects` parameter of the load function.\n",
      "WARNING:absl:<keras.layers.recurrent.LSTMCell object at 0x00000183EC05AB00> has the same name 'LSTMCell' as a built-in Keras object. Consider renaming <class 'keras.layers.recurrent.LSTMCell'> to avoid naming conflicts when loading with `tf.keras.models.load_model`. If renaming is not possible, pass the object in the `custom_objects` parameter of the load function.\n"
     ]
    },
    {
     "name": "stdout",
     "output_type": "stream",
     "text": [
      "853/853 [==============================] - 63s 74ms/step - loss: 1.0992 - categorical_accuracy: 0.5697 - val_loss: 1.2142 - val_categorical_accuracy: 0.5308\n",
      "Epoch 3/100\n",
      "853/853 [==============================] - 51s 60ms/step - loss: 1.0237 - categorical_accuracy: 0.6024 - val_loss: 1.9340 - val_categorical_accuracy: 0.3670\n",
      "Epoch 4/100\n",
      "853/853 [==============================] - 52s 61ms/step - loss: 0.9655 - categorical_accuracy: 0.6262 - val_loss: 2.0803 - val_categorical_accuracy: 0.4286\n",
      "Epoch 5/100\n",
      "853/853 [==============================] - 51s 60ms/step - loss: 0.9115 - categorical_accuracy: 0.6494 - val_loss: 1.5441 - val_categorical_accuracy: 0.5058\n",
      "Epoch 6/100\n",
      "853/853 [==============================] - ETA: 0s - loss: 0.8767 - categorical_accuracy: 0.6610INFO:tensorflow:Assets written to: models\\lstm_sg\\assets\n"
     ]
    },
    {
     "name": "stderr",
     "output_type": "stream",
     "text": [
      "INFO:tensorflow:Assets written to: models\\lstm_sg\\assets\n",
      "WARNING:absl:<keras.layers.recurrent.LSTMCell object at 0x00000183EBFE1630> has the same name 'LSTMCell' as a built-in Keras object. Consider renaming <class 'keras.layers.recurrent.LSTMCell'> to avoid naming conflicts when loading with `tf.keras.models.load_model`. If renaming is not possible, pass the object in the `custom_objects` parameter of the load function.\n",
      "WARNING:absl:<keras.layers.recurrent.LSTMCell object at 0x00000183EBFE1B40> has the same name 'LSTMCell' as a built-in Keras object. Consider renaming <class 'keras.layers.recurrent.LSTMCell'> to avoid naming conflicts when loading with `tf.keras.models.load_model`. If renaming is not possible, pass the object in the `custom_objects` parameter of the load function.\n",
      "WARNING:absl:<keras.layers.recurrent.LSTMCell object at 0x00000183EC05A110> has the same name 'LSTMCell' as a built-in Keras object. Consider renaming <class 'keras.layers.recurrent.LSTMCell'> to avoid naming conflicts when loading with `tf.keras.models.load_model`. If renaming is not possible, pass the object in the `custom_objects` parameter of the load function.\n",
      "WARNING:absl:<keras.layers.recurrent.LSTMCell object at 0x00000183EC05AB00> has the same name 'LSTMCell' as a built-in Keras object. Consider renaming <class 'keras.layers.recurrent.LSTMCell'> to avoid naming conflicts when loading with `tf.keras.models.load_model`. If renaming is not possible, pass the object in the `custom_objects` parameter of the load function.\n"
     ]
    },
    {
     "name": "stdout",
     "output_type": "stream",
     "text": [
      "853/853 [==============================] - 65s 76ms/step - loss: 0.8767 - categorical_accuracy: 0.6610 - val_loss: 1.0028 - val_categorical_accuracy: 0.6189\n",
      "Epoch 7/100\n",
      "853/853 [==============================] - ETA: 0s - loss: 0.8427 - categorical_accuracy: 0.6777INFO:tensorflow:Assets written to: models\\lstm_sg\\assets\n"
     ]
    },
    {
     "name": "stderr",
     "output_type": "stream",
     "text": [
      "INFO:tensorflow:Assets written to: models\\lstm_sg\\assets\n",
      "WARNING:absl:<keras.layers.recurrent.LSTMCell object at 0x00000183EBFE1630> has the same name 'LSTMCell' as a built-in Keras object. Consider renaming <class 'keras.layers.recurrent.LSTMCell'> to avoid naming conflicts when loading with `tf.keras.models.load_model`. If renaming is not possible, pass the object in the `custom_objects` parameter of the load function.\n",
      "WARNING:absl:<keras.layers.recurrent.LSTMCell object at 0x00000183EBFE1B40> has the same name 'LSTMCell' as a built-in Keras object. Consider renaming <class 'keras.layers.recurrent.LSTMCell'> to avoid naming conflicts when loading with `tf.keras.models.load_model`. If renaming is not possible, pass the object in the `custom_objects` parameter of the load function.\n",
      "WARNING:absl:<keras.layers.recurrent.LSTMCell object at 0x00000183EC05A110> has the same name 'LSTMCell' as a built-in Keras object. Consider renaming <class 'keras.layers.recurrent.LSTMCell'> to avoid naming conflicts when loading with `tf.keras.models.load_model`. If renaming is not possible, pass the object in the `custom_objects` parameter of the load function.\n",
      "WARNING:absl:<keras.layers.recurrent.LSTMCell object at 0x00000183EC05AB00> has the same name 'LSTMCell' as a built-in Keras object. Consider renaming <class 'keras.layers.recurrent.LSTMCell'> to avoid naming conflicts when loading with `tf.keras.models.load_model`. If renaming is not possible, pass the object in the `custom_objects` parameter of the load function.\n"
     ]
    },
    {
     "name": "stdout",
     "output_type": "stream",
     "text": [
      "853/853 [==============================] - 64s 75ms/step - loss: 0.8427 - categorical_accuracy: 0.6777 - val_loss: 1.0525 - val_categorical_accuracy: 0.6212\n",
      "Epoch 8/100\n",
      "853/853 [==============================] - ETA: 0s - loss: 0.8116 - categorical_accuracy: 0.6859INFO:tensorflow:Assets written to: models\\lstm_sg\\assets\n"
     ]
    },
    {
     "name": "stderr",
     "output_type": "stream",
     "text": [
      "INFO:tensorflow:Assets written to: models\\lstm_sg\\assets\n",
      "WARNING:absl:<keras.layers.recurrent.LSTMCell object at 0x00000183EBFE1630> has the same name 'LSTMCell' as a built-in Keras object. Consider renaming <class 'keras.layers.recurrent.LSTMCell'> to avoid naming conflicts when loading with `tf.keras.models.load_model`. If renaming is not possible, pass the object in the `custom_objects` parameter of the load function.\n",
      "WARNING:absl:<keras.layers.recurrent.LSTMCell object at 0x00000183EBFE1B40> has the same name 'LSTMCell' as a built-in Keras object. Consider renaming <class 'keras.layers.recurrent.LSTMCell'> to avoid naming conflicts when loading with `tf.keras.models.load_model`. If renaming is not possible, pass the object in the `custom_objects` parameter of the load function.\n",
      "WARNING:absl:<keras.layers.recurrent.LSTMCell object at 0x00000183EC05A110> has the same name 'LSTMCell' as a built-in Keras object. Consider renaming <class 'keras.layers.recurrent.LSTMCell'> to avoid naming conflicts when loading with `tf.keras.models.load_model`. If renaming is not possible, pass the object in the `custom_objects` parameter of the load function.\n",
      "WARNING:absl:<keras.layers.recurrent.LSTMCell object at 0x00000183EC05AB00> has the same name 'LSTMCell' as a built-in Keras object. Consider renaming <class 'keras.layers.recurrent.LSTMCell'> to avoid naming conflicts when loading with `tf.keras.models.load_model`. If renaming is not possible, pass the object in the `custom_objects` parameter of the load function.\n"
     ]
    },
    {
     "name": "stdout",
     "output_type": "stream",
     "text": [
      "853/853 [==============================] - 69s 81ms/step - loss: 0.8116 - categorical_accuracy: 0.6859 - val_loss: 0.9550 - val_categorical_accuracy: 0.6426\n",
      "Epoch 9/100\n",
      "853/853 [==============================] - 54s 63ms/step - loss: 0.7869 - categorical_accuracy: 0.6962 - val_loss: 1.1017 - val_categorical_accuracy: 0.6017\n",
      "Epoch 10/100\n",
      "853/853 [==============================] - 53s 62ms/step - loss: 0.7558 - categorical_accuracy: 0.7096 - val_loss: 1.1676 - val_categorical_accuracy: 0.5714\n",
      "Epoch 11/100\n",
      "853/853 [==============================] - 53s 63ms/step - loss: 0.7300 - categorical_accuracy: 0.7201 - val_loss: 1.0046 - val_categorical_accuracy: 0.6340\n",
      "Epoch 12/100\n",
      "853/853 [==============================] - 55s 64ms/step - loss: 0.7070 - categorical_accuracy: 0.7287 - val_loss: 1.5905 - val_categorical_accuracy: 0.5585\n",
      "Epoch 13/100\n",
      "853/853 [==============================] - 55s 64ms/step - loss: 0.6805 - categorical_accuracy: 0.7369 - val_loss: 1.1999 - val_categorical_accuracy: 0.5964\n",
      "Epoch 14/100\n",
      "853/853 [==============================] - 58s 67ms/step - loss: 0.6519 - categorical_accuracy: 0.7484 - val_loss: 1.1065 - val_categorical_accuracy: 0.6096\n",
      "Epoch 15/100\n",
      "853/853 [==============================] - 55s 64ms/step - loss: 0.6318 - categorical_accuracy: 0.7558 - val_loss: 1.2987 - val_categorical_accuracy: 0.6030\n",
      "Epoch 16/100\n",
      "853/853 [==============================] - 54s 63ms/step - loss: 0.6143 - categorical_accuracy: 0.7660 - val_loss: 1.1772 - val_categorical_accuracy: 0.6149\n",
      "Epoch 17/100\n",
      "853/853 [==============================] - 56s 65ms/step - loss: 0.5892 - categorical_accuracy: 0.7739 - val_loss: 1.0644 - val_categorical_accuracy: 0.6195\n",
      "Epoch 18/100\n",
      "852/853 [============================>.] - ETA: 0s - loss: 0.5765 - categorical_accuracy: 0.7764INFO:tensorflow:Assets written to: models\\lstm_sg\\assets\n"
     ]
    },
    {
     "name": "stderr",
     "output_type": "stream",
     "text": [
      "INFO:tensorflow:Assets written to: models\\lstm_sg\\assets\n",
      "WARNING:absl:<keras.layers.recurrent.LSTMCell object at 0x00000183EBFE1630> has the same name 'LSTMCell' as a built-in Keras object. Consider renaming <class 'keras.layers.recurrent.LSTMCell'> to avoid naming conflicts when loading with `tf.keras.models.load_model`. If renaming is not possible, pass the object in the `custom_objects` parameter of the load function.\n",
      "WARNING:absl:<keras.layers.recurrent.LSTMCell object at 0x00000183EBFE1B40> has the same name 'LSTMCell' as a built-in Keras object. Consider renaming <class 'keras.layers.recurrent.LSTMCell'> to avoid naming conflicts when loading with `tf.keras.models.load_model`. If renaming is not possible, pass the object in the `custom_objects` parameter of the load function.\n",
      "WARNING:absl:<keras.layers.recurrent.LSTMCell object at 0x00000183EC05A110> has the same name 'LSTMCell' as a built-in Keras object. Consider renaming <class 'keras.layers.recurrent.LSTMCell'> to avoid naming conflicts when loading with `tf.keras.models.load_model`. If renaming is not possible, pass the object in the `custom_objects` parameter of the load function.\n",
      "WARNING:absl:<keras.layers.recurrent.LSTMCell object at 0x00000183EC05AB00> has the same name 'LSTMCell' as a built-in Keras object. Consider renaming <class 'keras.layers.recurrent.LSTMCell'> to avoid naming conflicts when loading with `tf.keras.models.load_model`. If renaming is not possible, pass the object in the `custom_objects` parameter of the load function.\n"
     ]
    },
    {
     "name": "stdout",
     "output_type": "stream",
     "text": [
      "853/853 [==============================] - 66s 77ms/step - loss: 0.5764 - categorical_accuracy: 0.7765 - val_loss: 1.0143 - val_categorical_accuracy: 0.6469\n",
      "Epoch 19/100\n",
      "853/853 [==============================] - 53s 62ms/step - loss: 0.5536 - categorical_accuracy: 0.7875 - val_loss: 1.4884 - val_categorical_accuracy: 0.5951\n",
      "Epoch 20/100\n",
      "853/853 [==============================] - 54s 63ms/step - loss: 0.5377 - categorical_accuracy: 0.7941 - val_loss: 1.1681 - val_categorical_accuracy: 0.6241\n",
      "Epoch 21/100\n",
      "853/853 [==============================] - 54s 64ms/step - loss: 0.5197 - categorical_accuracy: 0.8002 - val_loss: 1.2689 - val_categorical_accuracy: 0.6264\n",
      "Epoch 22/100\n",
      "853/853 [==============================] - ETA: 0s - loss: 0.5061 - categorical_accuracy: 0.8070INFO:tensorflow:Assets written to: models\\lstm_sg\\assets\n"
     ]
    },
    {
     "name": "stderr",
     "output_type": "stream",
     "text": [
      "INFO:tensorflow:Assets written to: models\\lstm_sg\\assets\n",
      "WARNING:absl:<keras.layers.recurrent.LSTMCell object at 0x00000183EBFE1630> has the same name 'LSTMCell' as a built-in Keras object. Consider renaming <class 'keras.layers.recurrent.LSTMCell'> to avoid naming conflicts when loading with `tf.keras.models.load_model`. If renaming is not possible, pass the object in the `custom_objects` parameter of the load function.\n",
      "WARNING:absl:<keras.layers.recurrent.LSTMCell object at 0x00000183EBFE1B40> has the same name 'LSTMCell' as a built-in Keras object. Consider renaming <class 'keras.layers.recurrent.LSTMCell'> to avoid naming conflicts when loading with `tf.keras.models.load_model`. If renaming is not possible, pass the object in the `custom_objects` parameter of the load function.\n",
      "WARNING:absl:<keras.layers.recurrent.LSTMCell object at 0x00000183EC05A110> has the same name 'LSTMCell' as a built-in Keras object. Consider renaming <class 'keras.layers.recurrent.LSTMCell'> to avoid naming conflicts when loading with `tf.keras.models.load_model`. If renaming is not possible, pass the object in the `custom_objects` parameter of the load function.\n",
      "WARNING:absl:<keras.layers.recurrent.LSTMCell object at 0x00000183EC05AB00> has the same name 'LSTMCell' as a built-in Keras object. Consider renaming <class 'keras.layers.recurrent.LSTMCell'> to avoid naming conflicts when loading with `tf.keras.models.load_model`. If renaming is not possible, pass the object in the `custom_objects` parameter of the load function.\n"
     ]
    },
    {
     "name": "stdout",
     "output_type": "stream",
     "text": [
      "853/853 [==============================] - 67s 79ms/step - loss: 0.5061 - categorical_accuracy: 0.8070 - val_loss: 1.0964 - val_categorical_accuracy: 0.6680\n",
      "Epoch 23/100\n",
      "853/853 [==============================] - 55s 65ms/step - loss: 0.4904 - categorical_accuracy: 0.8101 - val_loss: 1.7039 - val_categorical_accuracy: 0.5964\n",
      "Epoch 24/100\n",
      "853/853 [==============================] - 58s 68ms/step - loss: 0.4712 - categorical_accuracy: 0.8203 - val_loss: 1.6436 - val_categorical_accuracy: 0.6014\n",
      "Epoch 25/100\n",
      "853/853 [==============================] - 57s 66ms/step - loss: 0.4586 - categorical_accuracy: 0.8258 - val_loss: 1.2799 - val_categorical_accuracy: 0.6185\n",
      "Epoch 26/100\n",
      "853/853 [==============================] - 57s 67ms/step - loss: 0.4398 - categorical_accuracy: 0.8310 - val_loss: 1.2535 - val_categorical_accuracy: 0.6479\n",
      "Epoch 27/100\n",
      "853/853 [==============================] - ETA: 0s - loss: 0.4384 - categorical_accuracy: 0.8318INFO:tensorflow:Assets written to: models\\lstm_sg\\assets\n"
     ]
    },
    {
     "name": "stderr",
     "output_type": "stream",
     "text": [
      "INFO:tensorflow:Assets written to: models\\lstm_sg\\assets\n",
      "WARNING:absl:<keras.layers.recurrent.LSTMCell object at 0x00000183EBFE1630> has the same name 'LSTMCell' as a built-in Keras object. Consider renaming <class 'keras.layers.recurrent.LSTMCell'> to avoid naming conflicts when loading with `tf.keras.models.load_model`. If renaming is not possible, pass the object in the `custom_objects` parameter of the load function.\n",
      "WARNING:absl:<keras.layers.recurrent.LSTMCell object at 0x00000183EBFE1B40> has the same name 'LSTMCell' as a built-in Keras object. Consider renaming <class 'keras.layers.recurrent.LSTMCell'> to avoid naming conflicts when loading with `tf.keras.models.load_model`. If renaming is not possible, pass the object in the `custom_objects` parameter of the load function.\n",
      "WARNING:absl:<keras.layers.recurrent.LSTMCell object at 0x00000183EC05A110> has the same name 'LSTMCell' as a built-in Keras object. Consider renaming <class 'keras.layers.recurrent.LSTMCell'> to avoid naming conflicts when loading with `tf.keras.models.load_model`. If renaming is not possible, pass the object in the `custom_objects` parameter of the load function.\n",
      "WARNING:absl:<keras.layers.recurrent.LSTMCell object at 0x00000183EC05AB00> has the same name 'LSTMCell' as a built-in Keras object. Consider renaming <class 'keras.layers.recurrent.LSTMCell'> to avoid naming conflicts when loading with `tf.keras.models.load_model`. If renaming is not possible, pass the object in the `custom_objects` parameter of the load function.\n"
     ]
    },
    {
     "name": "stdout",
     "output_type": "stream",
     "text": [
      "853/853 [==============================] - 72s 84ms/step - loss: 0.4384 - categorical_accuracy: 0.8318 - val_loss: 1.1268 - val_categorical_accuracy: 0.6690\n",
      "Epoch 28/100\n",
      "853/853 [==============================] - 56s 66ms/step - loss: 0.4246 - categorical_accuracy: 0.8387 - val_loss: 1.3168 - val_categorical_accuracy: 0.6307\n",
      "Epoch 29/100\n",
      "853/853 [==============================] - 57s 66ms/step - loss: 0.4076 - categorical_accuracy: 0.8433 - val_loss: 1.1568 - val_categorical_accuracy: 0.6670\n",
      "Epoch 30/100\n",
      "853/853 [==============================] - 56s 65ms/step - loss: 0.3994 - categorical_accuracy: 0.8465 - val_loss: 1.2733 - val_categorical_accuracy: 0.6512\n",
      "Epoch 31/100\n",
      "853/853 [==============================] - 55s 64ms/step - loss: 0.3871 - categorical_accuracy: 0.8543 - val_loss: 1.3227 - val_categorical_accuracy: 0.6525\n",
      "Epoch 32/100\n",
      "853/853 [==============================] - ETA: 0s - loss: 0.3894 - categorical_accuracy: 0.8520INFO:tensorflow:Assets written to: models\\lstm_sg\\assets\n"
     ]
    },
    {
     "name": "stderr",
     "output_type": "stream",
     "text": [
      "INFO:tensorflow:Assets written to: models\\lstm_sg\\assets\n",
      "WARNING:absl:<keras.layers.recurrent.LSTMCell object at 0x00000183EBFE1630> has the same name 'LSTMCell' as a built-in Keras object. Consider renaming <class 'keras.layers.recurrent.LSTMCell'> to avoid naming conflicts when loading with `tf.keras.models.load_model`. If renaming is not possible, pass the object in the `custom_objects` parameter of the load function.\n",
      "WARNING:absl:<keras.layers.recurrent.LSTMCell object at 0x00000183EBFE1B40> has the same name 'LSTMCell' as a built-in Keras object. Consider renaming <class 'keras.layers.recurrent.LSTMCell'> to avoid naming conflicts when loading with `tf.keras.models.load_model`. If renaming is not possible, pass the object in the `custom_objects` parameter of the load function.\n",
      "WARNING:absl:<keras.layers.recurrent.LSTMCell object at 0x00000183EC05A110> has the same name 'LSTMCell' as a built-in Keras object. Consider renaming <class 'keras.layers.recurrent.LSTMCell'> to avoid naming conflicts when loading with `tf.keras.models.load_model`. If renaming is not possible, pass the object in the `custom_objects` parameter of the load function.\n",
      "WARNING:absl:<keras.layers.recurrent.LSTMCell object at 0x00000183EC05AB00> has the same name 'LSTMCell' as a built-in Keras object. Consider renaming <class 'keras.layers.recurrent.LSTMCell'> to avoid naming conflicts when loading with `tf.keras.models.load_model`. If renaming is not possible, pass the object in the `custom_objects` parameter of the load function.\n"
     ]
    },
    {
     "name": "stdout",
     "output_type": "stream",
     "text": [
      "853/853 [==============================] - 69s 81ms/step - loss: 0.3894 - categorical_accuracy: 0.8520 - val_loss: 1.1791 - val_categorical_accuracy: 0.6700\n",
      "Epoch 33/100\n",
      "853/853 [==============================] - 55s 64ms/step - loss: 0.3671 - categorical_accuracy: 0.8624 - val_loss: 1.2230 - val_categorical_accuracy: 0.6459\n",
      "Epoch 34/100\n",
      "853/853 [==============================] - 58s 68ms/step - loss: 0.3597 - categorical_accuracy: 0.8642 - val_loss: 1.5802 - val_categorical_accuracy: 0.6001\n",
      "Epoch 35/100\n",
      "853/853 [==============================] - 58s 68ms/step - loss: 0.3518 - categorical_accuracy: 0.8677 - val_loss: 1.6559 - val_categorical_accuracy: 0.6142\n",
      "Epoch 36/100\n",
      "853/853 [==============================] - 54s 63ms/step - loss: 0.3539 - categorical_accuracy: 0.8665 - val_loss: 1.4726 - val_categorical_accuracy: 0.6182\n",
      "Epoch 37/100\n",
      "853/853 [==============================] - 61s 71ms/step - loss: 0.3412 - categorical_accuracy: 0.8703 - val_loss: 1.5583 - val_categorical_accuracy: 0.6222\n",
      "Epoch 38/100\n",
      "853/853 [==============================] - 57s 67ms/step - loss: 0.3307 - categorical_accuracy: 0.8730 - val_loss: 1.5202 - val_categorical_accuracy: 0.6271\n",
      "Epoch 39/100\n",
      "853/853 [==============================] - 58s 68ms/step - loss: 0.3239 - categorical_accuracy: 0.8759 - val_loss: 1.4992 - val_categorical_accuracy: 0.6433\n",
      "Epoch 40/100\n",
      "853/853 [==============================] - 59s 70ms/step - loss: 0.3230 - categorical_accuracy: 0.8784 - val_loss: 1.6722 - val_categorical_accuracy: 0.6047\n",
      "Epoch 41/100\n",
      "853/853 [==============================] - 59s 69ms/step - loss: 0.3140 - categorical_accuracy: 0.8833 - val_loss: 1.4016 - val_categorical_accuracy: 0.6330\n",
      "Epoch 42/100\n",
      "853/853 [==============================] - 58s 68ms/step - loss: 0.3035 - categorical_accuracy: 0.8871 - val_loss: 1.3367 - val_categorical_accuracy: 0.6433\n",
      "\n",
      "\n",
      "-----------------END-----------------\n",
      "\n",
      "\n",
      "\n",
      "\n",
      "-----------------MF-----------------\n",
      "\n",
      "\n",
      "Shape of the feature =  (126, 20)\n",
      "(n train, n val, n test) =  (27294, 3033)\n",
      "Model: \"model_2\"\n",
      "_________________________________________________________________\n",
      " Layer (type)                Output Shape              Param #   \n",
      "=================================================================\n",
      " input_3 (InputLayer)        [(None, 126, 20)]         0         \n",
      "                                                                 \n",
      " conv1d_4 (Conv1D)           (None, 126, 32)           3232      \n",
      "                                                                 \n",
      " batch_normalization_4 (Batc  (None, 126, 32)          128       \n",
      " hNormalization)                                                 \n",
      "                                                                 \n",
      " activation_4 (Activation)   (None, 126, 32)           0         \n",
      "                                                                 \n",
      " max_pooling1d_6 (MaxPooling  (None, 63, 32)           0         \n",
      " 1D)                                                             \n",
      "                                                                 \n",
      " conv1d_5 (Conv1D)           (None, 63, 32)            5152      \n",
      "                                                                 \n",
      " batch_normalization_5 (Batc  (None, 63, 32)           128       \n",
      " hNormalization)                                                 \n",
      "                                                                 \n",
      " activation_5 (Activation)   (None, 63, 32)            0         \n",
      "                                                                 \n",
      " max_pooling1d_7 (MaxPooling  (None, 31, 32)           0         \n",
      " 1D)                                                             \n",
      "                                                                 \n",
      " bidirectional_4 (Bidirectio  (None, 31, 64)           16640     \n",
      " nal)                                                            \n",
      "                                                                 \n",
      " bidirectional_5 (Bidirectio  (None, 31, 64)           24832     \n",
      " nal)                                                            \n",
      "                                                                 \n",
      " max_pooling1d_8 (MaxPooling  (None, 15, 64)           0         \n",
      " 1D)                                                             \n",
      "                                                                 \n",
      " flatten_2 (Flatten)         (None, 960)               0         \n",
      "                                                                 \n",
      " dropout_2 (Dropout)         (None, 960)               0         \n",
      "                                                                 \n",
      " dense_6 (Dense)             (None, 256)               246016    \n",
      "                                                                 \n",
      " dense_7 (Dense)             (None, 256)               65792     \n",
      "                                                                 \n",
      " dense_8 (Dense)             (None, 7)                 1799      \n",
      "                                                                 \n",
      "=================================================================\n",
      "Total params: 363,719\n",
      "Trainable params: 363,591\n",
      "Non-trainable params: 128\n",
      "_________________________________________________________________\n",
      "Epoch 1/100\n",
      "853/853 [==============================] - ETA: 0s - loss: 1.2901 - categorical_accuracy: 0.4921INFO:tensorflow:Assets written to: models\\lstm_mf\\assets\n"
     ]
    },
    {
     "name": "stderr",
     "output_type": "stream",
     "text": [
      "INFO:tensorflow:Assets written to: models\\lstm_mf\\assets\n",
      "WARNING:absl:<keras.layers.recurrent.LSTMCell object at 0x0000018458856560> has the same name 'LSTMCell' as a built-in Keras object. Consider renaming <class 'keras.layers.recurrent.LSTMCell'> to avoid naming conflicts when loading with `tf.keras.models.load_model`. If renaming is not possible, pass the object in the `custom_objects` parameter of the load function.\n",
      "WARNING:absl:<keras.layers.recurrent.LSTMCell object at 0x0000018439FC1900> has the same name 'LSTMCell' as a built-in Keras object. Consider renaming <class 'keras.layers.recurrent.LSTMCell'> to avoid naming conflicts when loading with `tf.keras.models.load_model`. If renaming is not possible, pass the object in the `custom_objects` parameter of the load function.\n",
      "WARNING:absl:<keras.layers.recurrent.LSTMCell object at 0x0000018460245540> has the same name 'LSTMCell' as a built-in Keras object. Consider renaming <class 'keras.layers.recurrent.LSTMCell'> to avoid naming conflicts when loading with `tf.keras.models.load_model`. If renaming is not possible, pass the object in the `custom_objects` parameter of the load function.\n",
      "WARNING:absl:<keras.layers.recurrent.LSTMCell object at 0x0000018460245FF0> has the same name 'LSTMCell' as a built-in Keras object. Consider renaming <class 'keras.layers.recurrent.LSTMCell'> to avoid naming conflicts when loading with `tf.keras.models.load_model`. If renaming is not possible, pass the object in the `custom_objects` parameter of the load function.\n"
     ]
    },
    {
     "name": "stdout",
     "output_type": "stream",
     "text": [
      "853/853 [==============================] - 79s 82ms/step - loss: 1.2901 - categorical_accuracy: 0.4921 - val_loss: 1.2198 - val_categorical_accuracy: 0.5285\n",
      "Epoch 2/100\n",
      "853/853 [==============================] - ETA: 0s - loss: 1.0652 - categorical_accuracy: 0.5831INFO:tensorflow:Assets written to: models\\lstm_mf\\assets\n"
     ]
    },
    {
     "name": "stderr",
     "output_type": "stream",
     "text": [
      "INFO:tensorflow:Assets written to: models\\lstm_mf\\assets\n",
      "WARNING:absl:<keras.layers.recurrent.LSTMCell object at 0x0000018458856560> has the same name 'LSTMCell' as a built-in Keras object. Consider renaming <class 'keras.layers.recurrent.LSTMCell'> to avoid naming conflicts when loading with `tf.keras.models.load_model`. If renaming is not possible, pass the object in the `custom_objects` parameter of the load function.\n",
      "WARNING:absl:<keras.layers.recurrent.LSTMCell object at 0x0000018439FC1900> has the same name 'LSTMCell' as a built-in Keras object. Consider renaming <class 'keras.layers.recurrent.LSTMCell'> to avoid naming conflicts when loading with `tf.keras.models.load_model`. If renaming is not possible, pass the object in the `custom_objects` parameter of the load function.\n",
      "WARNING:absl:<keras.layers.recurrent.LSTMCell object at 0x0000018460245540> has the same name 'LSTMCell' as a built-in Keras object. Consider renaming <class 'keras.layers.recurrent.LSTMCell'> to avoid naming conflicts when loading with `tf.keras.models.load_model`. If renaming is not possible, pass the object in the `custom_objects` parameter of the load function.\n",
      "WARNING:absl:<keras.layers.recurrent.LSTMCell object at 0x0000018460245FF0> has the same name 'LSTMCell' as a built-in Keras object. Consider renaming <class 'keras.layers.recurrent.LSTMCell'> to avoid naming conflicts when loading with `tf.keras.models.load_model`. If renaming is not possible, pass the object in the `custom_objects` parameter of the load function.\n"
     ]
    },
    {
     "name": "stdout",
     "output_type": "stream",
     "text": [
      "853/853 [==============================] - 69s 81ms/step - loss: 1.0652 - categorical_accuracy: 0.5831 - val_loss: 1.0380 - val_categorical_accuracy: 0.5895\n",
      "Epoch 3/100\n",
      "853/853 [==============================] - 57s 66ms/step - loss: 0.9881 - categorical_accuracy: 0.6164 - val_loss: 1.0745 - val_categorical_accuracy: 0.5773\n",
      "Epoch 4/100\n",
      "853/853 [==============================] - ETA: 0s - loss: 0.9284 - categorical_accuracy: 0.6422INFO:tensorflow:Assets written to: models\\lstm_mf\\assets\n"
     ]
    },
    {
     "name": "stderr",
     "output_type": "stream",
     "text": [
      "INFO:tensorflow:Assets written to: models\\lstm_mf\\assets\n",
      "WARNING:absl:<keras.layers.recurrent.LSTMCell object at 0x0000018458856560> has the same name 'LSTMCell' as a built-in Keras object. Consider renaming <class 'keras.layers.recurrent.LSTMCell'> to avoid naming conflicts when loading with `tf.keras.models.load_model`. If renaming is not possible, pass the object in the `custom_objects` parameter of the load function.\n",
      "WARNING:absl:<keras.layers.recurrent.LSTMCell object at 0x0000018439FC1900> has the same name 'LSTMCell' as a built-in Keras object. Consider renaming <class 'keras.layers.recurrent.LSTMCell'> to avoid naming conflicts when loading with `tf.keras.models.load_model`. If renaming is not possible, pass the object in the `custom_objects` parameter of the load function.\n",
      "WARNING:absl:<keras.layers.recurrent.LSTMCell object at 0x0000018460245540> has the same name 'LSTMCell' as a built-in Keras object. Consider renaming <class 'keras.layers.recurrent.LSTMCell'> to avoid naming conflicts when loading with `tf.keras.models.load_model`. If renaming is not possible, pass the object in the `custom_objects` parameter of the load function.\n",
      "WARNING:absl:<keras.layers.recurrent.LSTMCell object at 0x0000018460245FF0> has the same name 'LSTMCell' as a built-in Keras object. Consider renaming <class 'keras.layers.recurrent.LSTMCell'> to avoid naming conflicts when loading with `tf.keras.models.load_model`. If renaming is not possible, pass the object in the `custom_objects` parameter of the load function.\n"
     ]
    },
    {
     "name": "stdout",
     "output_type": "stream",
     "text": [
      "853/853 [==============================] - 71s 84ms/step - loss: 0.9284 - categorical_accuracy: 0.6422 - val_loss: 0.9676 - val_categorical_accuracy: 0.6350\n",
      "Epoch 5/100\n",
      "853/853 [==============================] - 57s 66ms/step - loss: 0.8858 - categorical_accuracy: 0.6556 - val_loss: 0.9315 - val_categorical_accuracy: 0.6347\n",
      "Epoch 6/100\n",
      "853/853 [==============================] - 57s 66ms/step - loss: 0.8495 - categorical_accuracy: 0.6724 - val_loss: 1.1655 - val_categorical_accuracy: 0.5697\n",
      "Epoch 7/100\n",
      "853/853 [==============================] - 56s 66ms/step - loss: 0.8112 - categorical_accuracy: 0.6904 - val_loss: 1.0129 - val_categorical_accuracy: 0.6169\n",
      "Epoch 8/100\n",
      "853/853 [==============================] - ETA: 0s - loss: 0.7809 - categorical_accuracy: 0.7026INFO:tensorflow:Assets written to: models\\lstm_mf\\assets\n"
     ]
    },
    {
     "name": "stderr",
     "output_type": "stream",
     "text": [
      "INFO:tensorflow:Assets written to: models\\lstm_mf\\assets\n",
      "WARNING:absl:<keras.layers.recurrent.LSTMCell object at 0x0000018458856560> has the same name 'LSTMCell' as a built-in Keras object. Consider renaming <class 'keras.layers.recurrent.LSTMCell'> to avoid naming conflicts when loading with `tf.keras.models.load_model`. If renaming is not possible, pass the object in the `custom_objects` parameter of the load function.\n",
      "WARNING:absl:<keras.layers.recurrent.LSTMCell object at 0x0000018439FC1900> has the same name 'LSTMCell' as a built-in Keras object. Consider renaming <class 'keras.layers.recurrent.LSTMCell'> to avoid naming conflicts when loading with `tf.keras.models.load_model`. If renaming is not possible, pass the object in the `custom_objects` parameter of the load function.\n",
      "WARNING:absl:<keras.layers.recurrent.LSTMCell object at 0x0000018460245540> has the same name 'LSTMCell' as a built-in Keras object. Consider renaming <class 'keras.layers.recurrent.LSTMCell'> to avoid naming conflicts when loading with `tf.keras.models.load_model`. If renaming is not possible, pass the object in the `custom_objects` parameter of the load function.\n",
      "WARNING:absl:<keras.layers.recurrent.LSTMCell object at 0x0000018460245FF0> has the same name 'LSTMCell' as a built-in Keras object. Consider renaming <class 'keras.layers.recurrent.LSTMCell'> to avoid naming conflicts when loading with `tf.keras.models.load_model`. If renaming is not possible, pass the object in the `custom_objects` parameter of the load function.\n"
     ]
    },
    {
     "name": "stdout",
     "output_type": "stream",
     "text": [
      "853/853 [==============================] - 71s 83ms/step - loss: 0.7809 - categorical_accuracy: 0.7026 - val_loss: 1.0162 - val_categorical_accuracy: 0.6357\n",
      "Epoch 9/100\n",
      "853/853 [==============================] - 57s 66ms/step - loss: 0.7495 - categorical_accuracy: 0.7122 - val_loss: 1.2737 - val_categorical_accuracy: 0.5813\n",
      "Epoch 10/100\n",
      "853/853 [==============================] - ETA: 0s - loss: 0.7240 - categorical_accuracy: 0.7213INFO:tensorflow:Assets written to: models\\lstm_mf\\assets\n"
     ]
    },
    {
     "name": "stderr",
     "output_type": "stream",
     "text": [
      "INFO:tensorflow:Assets written to: models\\lstm_mf\\assets\n",
      "WARNING:absl:<keras.layers.recurrent.LSTMCell object at 0x0000018458856560> has the same name 'LSTMCell' as a built-in Keras object. Consider renaming <class 'keras.layers.recurrent.LSTMCell'> to avoid naming conflicts when loading with `tf.keras.models.load_model`. If renaming is not possible, pass the object in the `custom_objects` parameter of the load function.\n",
      "WARNING:absl:<keras.layers.recurrent.LSTMCell object at 0x0000018439FC1900> has the same name 'LSTMCell' as a built-in Keras object. Consider renaming <class 'keras.layers.recurrent.LSTMCell'> to avoid naming conflicts when loading with `tf.keras.models.load_model`. If renaming is not possible, pass the object in the `custom_objects` parameter of the load function.\n",
      "WARNING:absl:<keras.layers.recurrent.LSTMCell object at 0x0000018460245540> has the same name 'LSTMCell' as a built-in Keras object. Consider renaming <class 'keras.layers.recurrent.LSTMCell'> to avoid naming conflicts when loading with `tf.keras.models.load_model`. If renaming is not possible, pass the object in the `custom_objects` parameter of the load function.\n",
      "WARNING:absl:<keras.layers.recurrent.LSTMCell object at 0x0000018460245FF0> has the same name 'LSTMCell' as a built-in Keras object. Consider renaming <class 'keras.layers.recurrent.LSTMCell'> to avoid naming conflicts when loading with `tf.keras.models.load_model`. If renaming is not possible, pass the object in the `custom_objects` parameter of the load function.\n"
     ]
    },
    {
     "name": "stdout",
     "output_type": "stream",
     "text": [
      "853/853 [==============================] - 71s 83ms/step - loss: 0.7240 - categorical_accuracy: 0.7213 - val_loss: 0.9819 - val_categorical_accuracy: 0.6485\n",
      "Epoch 11/100\n",
      "853/853 [==============================] - ETA: 0s - loss: 0.7003 - categorical_accuracy: 0.7331INFO:tensorflow:Assets written to: models\\lstm_mf\\assets\n"
     ]
    },
    {
     "name": "stderr",
     "output_type": "stream",
     "text": [
      "INFO:tensorflow:Assets written to: models\\lstm_mf\\assets\n",
      "WARNING:absl:<keras.layers.recurrent.LSTMCell object at 0x0000018458856560> has the same name 'LSTMCell' as a built-in Keras object. Consider renaming <class 'keras.layers.recurrent.LSTMCell'> to avoid naming conflicts when loading with `tf.keras.models.load_model`. If renaming is not possible, pass the object in the `custom_objects` parameter of the load function.\n",
      "WARNING:absl:<keras.layers.recurrent.LSTMCell object at 0x0000018439FC1900> has the same name 'LSTMCell' as a built-in Keras object. Consider renaming <class 'keras.layers.recurrent.LSTMCell'> to avoid naming conflicts when loading with `tf.keras.models.load_model`. If renaming is not possible, pass the object in the `custom_objects` parameter of the load function.\n",
      "WARNING:absl:<keras.layers.recurrent.LSTMCell object at 0x0000018460245540> has the same name 'LSTMCell' as a built-in Keras object. Consider renaming <class 'keras.layers.recurrent.LSTMCell'> to avoid naming conflicts when loading with `tf.keras.models.load_model`. If renaming is not possible, pass the object in the `custom_objects` parameter of the load function.\n",
      "WARNING:absl:<keras.layers.recurrent.LSTMCell object at 0x0000018460245FF0> has the same name 'LSTMCell' as a built-in Keras object. Consider renaming <class 'keras.layers.recurrent.LSTMCell'> to avoid naming conflicts when loading with `tf.keras.models.load_model`. If renaming is not possible, pass the object in the `custom_objects` parameter of the load function.\n"
     ]
    },
    {
     "name": "stdout",
     "output_type": "stream",
     "text": [
      "853/853 [==============================] - 70s 82ms/step - loss: 0.7003 - categorical_accuracy: 0.7331 - val_loss: 0.9183 - val_categorical_accuracy: 0.6630\n",
      "Epoch 12/100\n",
      "853/853 [==============================] - ETA: 0s - loss: 0.6741 - categorical_accuracy: 0.7435INFO:tensorflow:Assets written to: models\\lstm_mf\\assets\n"
     ]
    },
    {
     "name": "stderr",
     "output_type": "stream",
     "text": [
      "INFO:tensorflow:Assets written to: models\\lstm_mf\\assets\n",
      "WARNING:absl:<keras.layers.recurrent.LSTMCell object at 0x0000018458856560> has the same name 'LSTMCell' as a built-in Keras object. Consider renaming <class 'keras.layers.recurrent.LSTMCell'> to avoid naming conflicts when loading with `tf.keras.models.load_model`. If renaming is not possible, pass the object in the `custom_objects` parameter of the load function.\n",
      "WARNING:absl:<keras.layers.recurrent.LSTMCell object at 0x0000018439FC1900> has the same name 'LSTMCell' as a built-in Keras object. Consider renaming <class 'keras.layers.recurrent.LSTMCell'> to avoid naming conflicts when loading with `tf.keras.models.load_model`. If renaming is not possible, pass the object in the `custom_objects` parameter of the load function.\n",
      "WARNING:absl:<keras.layers.recurrent.LSTMCell object at 0x0000018460245540> has the same name 'LSTMCell' as a built-in Keras object. Consider renaming <class 'keras.layers.recurrent.LSTMCell'> to avoid naming conflicts when loading with `tf.keras.models.load_model`. If renaming is not possible, pass the object in the `custom_objects` parameter of the load function.\n",
      "WARNING:absl:<keras.layers.recurrent.LSTMCell object at 0x0000018460245FF0> has the same name 'LSTMCell' as a built-in Keras object. Consider renaming <class 'keras.layers.recurrent.LSTMCell'> to avoid naming conflicts when loading with `tf.keras.models.load_model`. If renaming is not possible, pass the object in the `custom_objects` parameter of the load function.\n"
     ]
    },
    {
     "name": "stdout",
     "output_type": "stream",
     "text": [
      "853/853 [==============================] - 70s 82ms/step - loss: 0.6741 - categorical_accuracy: 0.7435 - val_loss: 0.9330 - val_categorical_accuracy: 0.6726\n",
      "Epoch 13/100\n",
      "853/853 [==============================] - 56s 65ms/step - loss: 0.6487 - categorical_accuracy: 0.7521 - val_loss: 1.0236 - val_categorical_accuracy: 0.6413\n",
      "Epoch 14/100\n",
      "853/853 [==============================] - ETA: 0s - loss: 0.6334 - categorical_accuracy: 0.7602INFO:tensorflow:Assets written to: models\\lstm_mf\\assets\n"
     ]
    },
    {
     "name": "stderr",
     "output_type": "stream",
     "text": [
      "INFO:tensorflow:Assets written to: models\\lstm_mf\\assets\n",
      "WARNING:absl:<keras.layers.recurrent.LSTMCell object at 0x0000018458856560> has the same name 'LSTMCell' as a built-in Keras object. Consider renaming <class 'keras.layers.recurrent.LSTMCell'> to avoid naming conflicts when loading with `tf.keras.models.load_model`. If renaming is not possible, pass the object in the `custom_objects` parameter of the load function.\n",
      "WARNING:absl:<keras.layers.recurrent.LSTMCell object at 0x0000018439FC1900> has the same name 'LSTMCell' as a built-in Keras object. Consider renaming <class 'keras.layers.recurrent.LSTMCell'> to avoid naming conflicts when loading with `tf.keras.models.load_model`. If renaming is not possible, pass the object in the `custom_objects` parameter of the load function.\n",
      "WARNING:absl:<keras.layers.recurrent.LSTMCell object at 0x0000018460245540> has the same name 'LSTMCell' as a built-in Keras object. Consider renaming <class 'keras.layers.recurrent.LSTMCell'> to avoid naming conflicts when loading with `tf.keras.models.load_model`. If renaming is not possible, pass the object in the `custom_objects` parameter of the load function.\n",
      "WARNING:absl:<keras.layers.recurrent.LSTMCell object at 0x0000018460245FF0> has the same name 'LSTMCell' as a built-in Keras object. Consider renaming <class 'keras.layers.recurrent.LSTMCell'> to avoid naming conflicts when loading with `tf.keras.models.load_model`. If renaming is not possible, pass the object in the `custom_objects` parameter of the load function.\n"
     ]
    },
    {
     "name": "stdout",
     "output_type": "stream",
     "text": [
      "853/853 [==============================] - 69s 81ms/step - loss: 0.6334 - categorical_accuracy: 0.7602 - val_loss: 0.9526 - val_categorical_accuracy: 0.6779\n",
      "Epoch 15/100\n",
      "853/853 [==============================] - 56s 66ms/step - loss: 0.6078 - categorical_accuracy: 0.7676 - val_loss: 1.0214 - val_categorical_accuracy: 0.6591\n",
      "Epoch 16/100\n",
      "853/853 [==============================] - 57s 66ms/step - loss: 0.5801 - categorical_accuracy: 0.7780 - val_loss: 1.0057 - val_categorical_accuracy: 0.6673\n",
      "Epoch 17/100\n",
      "853/853 [==============================] - 57s 67ms/step - loss: 0.5658 - categorical_accuracy: 0.7820 - val_loss: 1.0820 - val_categorical_accuracy: 0.6495\n",
      "Epoch 18/100\n",
      "853/853 [==============================] - 57s 67ms/step - loss: 0.5425 - categorical_accuracy: 0.7907 - val_loss: 1.0456 - val_categorical_accuracy: 0.6617\n",
      "Epoch 19/100\n",
      "853/853 [==============================] - 57s 66ms/step - loss: 0.5234 - categorical_accuracy: 0.7994 - val_loss: 1.0820 - val_categorical_accuracy: 0.6710\n",
      "Epoch 20/100\n",
      "853/853 [==============================] - 60s 70ms/step - loss: 0.5052 - categorical_accuracy: 0.8061 - val_loss: 1.0716 - val_categorical_accuracy: 0.6663\n",
      "Epoch 21/100\n",
      "853/853 [==============================] - 59s 69ms/step - loss: 0.4902 - categorical_accuracy: 0.8139 - val_loss: 1.1223 - val_categorical_accuracy: 0.6703\n",
      "Epoch 22/100\n",
      "853/853 [==============================] - ETA: 0s - loss: 0.4812 - categorical_accuracy: 0.8165INFO:tensorflow:Assets written to: models\\lstm_mf\\assets\n"
     ]
    },
    {
     "name": "stderr",
     "output_type": "stream",
     "text": [
      "INFO:tensorflow:Assets written to: models\\lstm_mf\\assets\n",
      "WARNING:absl:<keras.layers.recurrent.LSTMCell object at 0x0000018458856560> has the same name 'LSTMCell' as a built-in Keras object. Consider renaming <class 'keras.layers.recurrent.LSTMCell'> to avoid naming conflicts when loading with `tf.keras.models.load_model`. If renaming is not possible, pass the object in the `custom_objects` parameter of the load function.\n",
      "WARNING:absl:<keras.layers.recurrent.LSTMCell object at 0x0000018439FC1900> has the same name 'LSTMCell' as a built-in Keras object. Consider renaming <class 'keras.layers.recurrent.LSTMCell'> to avoid naming conflicts when loading with `tf.keras.models.load_model`. If renaming is not possible, pass the object in the `custom_objects` parameter of the load function.\n",
      "WARNING:absl:<keras.layers.recurrent.LSTMCell object at 0x0000018460245540> has the same name 'LSTMCell' as a built-in Keras object. Consider renaming <class 'keras.layers.recurrent.LSTMCell'> to avoid naming conflicts when loading with `tf.keras.models.load_model`. If renaming is not possible, pass the object in the `custom_objects` parameter of the load function.\n",
      "WARNING:absl:<keras.layers.recurrent.LSTMCell object at 0x0000018460245FF0> has the same name 'LSTMCell' as a built-in Keras object. Consider renaming <class 'keras.layers.recurrent.LSTMCell'> to avoid naming conflicts when loading with `tf.keras.models.load_model`. If renaming is not possible, pass the object in the `custom_objects` parameter of the load function.\n"
     ]
    },
    {
     "name": "stdout",
     "output_type": "stream",
     "text": [
      "853/853 [==============================] - 73s 85ms/step - loss: 0.4812 - categorical_accuracy: 0.8165 - val_loss: 1.0614 - val_categorical_accuracy: 0.6785\n",
      "Epoch 23/100\n",
      "853/853 [==============================] - 62s 73ms/step - loss: 0.4598 - categorical_accuracy: 0.8246 - val_loss: 1.1755 - val_categorical_accuracy: 0.6673\n",
      "Epoch 24/100\n",
      "853/853 [==============================] - 63s 74ms/step - loss: 0.4487 - categorical_accuracy: 0.8282 - val_loss: 1.1122 - val_categorical_accuracy: 0.6677\n",
      "Epoch 25/100\n",
      "853/853 [==============================] - 63s 74ms/step - loss: 0.4275 - categorical_accuracy: 0.8370 - val_loss: 1.3233 - val_categorical_accuracy: 0.6538\n",
      "Epoch 26/100\n",
      "853/853 [==============================] - 63s 74ms/step - loss: 0.4183 - categorical_accuracy: 0.8427 - val_loss: 1.1221 - val_categorical_accuracy: 0.6733\n",
      "Epoch 27/100\n",
      "853/853 [==============================] - 63s 74ms/step - loss: 0.4077 - categorical_accuracy: 0.8456 - val_loss: 1.3109 - val_categorical_accuracy: 0.6459\n",
      "Epoch 28/100\n",
      "853/853 [==============================] - 63s 74ms/step - loss: 0.3981 - categorical_accuracy: 0.8494 - val_loss: 1.1240 - val_categorical_accuracy: 0.6673\n",
      "Epoch 29/100\n",
      "853/853 [==============================] - ETA: 0s - loss: 0.3909 - categorical_accuracy: 0.8519INFO:tensorflow:Assets written to: models\\lstm_mf\\assets\n"
     ]
    },
    {
     "name": "stderr",
     "output_type": "stream",
     "text": [
      "INFO:tensorflow:Assets written to: models\\lstm_mf\\assets\n",
      "WARNING:absl:<keras.layers.recurrent.LSTMCell object at 0x0000018458856560> has the same name 'LSTMCell' as a built-in Keras object. Consider renaming <class 'keras.layers.recurrent.LSTMCell'> to avoid naming conflicts when loading with `tf.keras.models.load_model`. If renaming is not possible, pass the object in the `custom_objects` parameter of the load function.\n",
      "WARNING:absl:<keras.layers.recurrent.LSTMCell object at 0x0000018439FC1900> has the same name 'LSTMCell' as a built-in Keras object. Consider renaming <class 'keras.layers.recurrent.LSTMCell'> to avoid naming conflicts when loading with `tf.keras.models.load_model`. If renaming is not possible, pass the object in the `custom_objects` parameter of the load function.\n",
      "WARNING:absl:<keras.layers.recurrent.LSTMCell object at 0x0000018460245540> has the same name 'LSTMCell' as a built-in Keras object. Consider renaming <class 'keras.layers.recurrent.LSTMCell'> to avoid naming conflicts when loading with `tf.keras.models.load_model`. If renaming is not possible, pass the object in the `custom_objects` parameter of the load function.\n",
      "WARNING:absl:<keras.layers.recurrent.LSTMCell object at 0x0000018460245FF0> has the same name 'LSTMCell' as a built-in Keras object. Consider renaming <class 'keras.layers.recurrent.LSTMCell'> to avoid naming conflicts when loading with `tf.keras.models.load_model`. If renaming is not possible, pass the object in the `custom_objects` parameter of the load function.\n"
     ]
    },
    {
     "name": "stdout",
     "output_type": "stream",
     "text": [
      "853/853 [==============================] - 78s 91ms/step - loss: 0.3909 - categorical_accuracy: 0.8519 - val_loss: 1.1876 - val_categorical_accuracy: 0.6828\n",
      "Epoch 30/100\n",
      "853/853 [==============================] - 62s 73ms/step - loss: 0.3704 - categorical_accuracy: 0.8584 - val_loss: 1.3183 - val_categorical_accuracy: 0.6525\n",
      "Epoch 31/100\n",
      "853/853 [==============================] - 62s 73ms/step - loss: 0.3601 - categorical_accuracy: 0.8659 - val_loss: 1.2076 - val_categorical_accuracy: 0.6719\n",
      "Epoch 32/100\n",
      "853/853 [==============================] - 63s 73ms/step - loss: 0.3606 - categorical_accuracy: 0.8654 - val_loss: 1.1564 - val_categorical_accuracy: 0.6789\n",
      "Epoch 33/100\n",
      "853/853 [==============================] - 63s 74ms/step - loss: 0.3374 - categorical_accuracy: 0.8726 - val_loss: 1.3351 - val_categorical_accuracy: 0.6482\n",
      "Epoch 34/100\n",
      "853/853 [==============================] - 64s 75ms/step - loss: 0.3385 - categorical_accuracy: 0.8733 - val_loss: 1.4203 - val_categorical_accuracy: 0.6621\n",
      "Epoch 35/100\n",
      "853/853 [==============================] - 65s 76ms/step - loss: 0.3313 - categorical_accuracy: 0.8760 - val_loss: 1.2228 - val_categorical_accuracy: 0.6782\n",
      "Epoch 36/100\n",
      "853/853 [==============================] - 64s 75ms/step - loss: 0.3167 - categorical_accuracy: 0.8817 - val_loss: 1.2918 - val_categorical_accuracy: 0.6551\n",
      "Epoch 37/100\n",
      "853/853 [==============================] - 63s 74ms/step - loss: 0.3149 - categorical_accuracy: 0.8809 - val_loss: 1.3402 - val_categorical_accuracy: 0.6752\n",
      "Epoch 38/100\n",
      "853/853 [==============================] - 63s 74ms/step - loss: 0.3027 - categorical_accuracy: 0.8877 - val_loss: 1.3437 - val_categorical_accuracy: 0.6742\n",
      "Epoch 39/100\n",
      "853/853 [==============================] - ETA: 0s - loss: 0.2945 - categorical_accuracy: 0.8895INFO:tensorflow:Assets written to: models\\lstm_mf\\assets\n"
     ]
    },
    {
     "name": "stderr",
     "output_type": "stream",
     "text": [
      "INFO:tensorflow:Assets written to: models\\lstm_mf\\assets\n",
      "WARNING:absl:<keras.layers.recurrent.LSTMCell object at 0x0000018458856560> has the same name 'LSTMCell' as a built-in Keras object. Consider renaming <class 'keras.layers.recurrent.LSTMCell'> to avoid naming conflicts when loading with `tf.keras.models.load_model`. If renaming is not possible, pass the object in the `custom_objects` parameter of the load function.\n",
      "WARNING:absl:<keras.layers.recurrent.LSTMCell object at 0x0000018439FC1900> has the same name 'LSTMCell' as a built-in Keras object. Consider renaming <class 'keras.layers.recurrent.LSTMCell'> to avoid naming conflicts when loading with `tf.keras.models.load_model`. If renaming is not possible, pass the object in the `custom_objects` parameter of the load function.\n",
      "WARNING:absl:<keras.layers.recurrent.LSTMCell object at 0x0000018460245540> has the same name 'LSTMCell' as a built-in Keras object. Consider renaming <class 'keras.layers.recurrent.LSTMCell'> to avoid naming conflicts when loading with `tf.keras.models.load_model`. If renaming is not possible, pass the object in the `custom_objects` parameter of the load function.\n",
      "WARNING:absl:<keras.layers.recurrent.LSTMCell object at 0x0000018460245FF0> has the same name 'LSTMCell' as a built-in Keras object. Consider renaming <class 'keras.layers.recurrent.LSTMCell'> to avoid naming conflicts when loading with `tf.keras.models.load_model`. If renaming is not possible, pass the object in the `custom_objects` parameter of the load function.\n"
     ]
    },
    {
     "name": "stdout",
     "output_type": "stream",
     "text": [
      "853/853 [==============================] - 77s 90ms/step - loss: 0.2945 - categorical_accuracy: 0.8895 - val_loss: 1.3117 - val_categorical_accuracy: 0.6835\n",
      "Epoch 40/100\n",
      "853/853 [==============================] - 63s 74ms/step - loss: 0.2971 - categorical_accuracy: 0.8904 - val_loss: 1.4081 - val_categorical_accuracy: 0.6673\n",
      "Epoch 41/100\n",
      "853/853 [==============================] - 63s 74ms/step - loss: 0.2897 - categorical_accuracy: 0.8934 - val_loss: 1.4881 - val_categorical_accuracy: 0.6591\n",
      "Epoch 42/100\n",
      "853/853 [==============================] - 63s 74ms/step - loss: 0.2841 - categorical_accuracy: 0.8959 - val_loss: 1.3624 - val_categorical_accuracy: 0.6713\n",
      "Epoch 43/100\n",
      "853/853 [==============================] - 63s 74ms/step - loss: 0.2708 - categorical_accuracy: 0.8995 - val_loss: 1.3293 - val_categorical_accuracy: 0.6795\n",
      "Epoch 44/100\n",
      "853/853 [==============================] - 63s 74ms/step - loss: 0.2727 - categorical_accuracy: 0.8987 - val_loss: 1.4944 - val_categorical_accuracy: 0.6525\n",
      "Epoch 45/100\n",
      "853/853 [==============================] - ETA: 0s - loss: 0.2652 - categorical_accuracy: 0.9016INFO:tensorflow:Assets written to: models\\lstm_mf\\assets\n"
     ]
    },
    {
     "name": "stderr",
     "output_type": "stream",
     "text": [
      "INFO:tensorflow:Assets written to: models\\lstm_mf\\assets\n",
      "WARNING:absl:<keras.layers.recurrent.LSTMCell object at 0x0000018458856560> has the same name 'LSTMCell' as a built-in Keras object. Consider renaming <class 'keras.layers.recurrent.LSTMCell'> to avoid naming conflicts when loading with `tf.keras.models.load_model`. If renaming is not possible, pass the object in the `custom_objects` parameter of the load function.\n",
      "WARNING:absl:<keras.layers.recurrent.LSTMCell object at 0x0000018439FC1900> has the same name 'LSTMCell' as a built-in Keras object. Consider renaming <class 'keras.layers.recurrent.LSTMCell'> to avoid naming conflicts when loading with `tf.keras.models.load_model`. If renaming is not possible, pass the object in the `custom_objects` parameter of the load function.\n",
      "WARNING:absl:<keras.layers.recurrent.LSTMCell object at 0x0000018460245540> has the same name 'LSTMCell' as a built-in Keras object. Consider renaming <class 'keras.layers.recurrent.LSTMCell'> to avoid naming conflicts when loading with `tf.keras.models.load_model`. If renaming is not possible, pass the object in the `custom_objects` parameter of the load function.\n",
      "WARNING:absl:<keras.layers.recurrent.LSTMCell object at 0x0000018460245FF0> has the same name 'LSTMCell' as a built-in Keras object. Consider renaming <class 'keras.layers.recurrent.LSTMCell'> to avoid naming conflicts when loading with `tf.keras.models.load_model`. If renaming is not possible, pass the object in the `custom_objects` parameter of the load function.\n"
     ]
    },
    {
     "name": "stdout",
     "output_type": "stream",
     "text": [
      "853/853 [==============================] - 76s 89ms/step - loss: 0.2652 - categorical_accuracy: 0.9016 - val_loss: 1.3787 - val_categorical_accuracy: 0.6861\n",
      "Epoch 46/100\n",
      "853/853 [==============================] - 60s 70ms/step - loss: 0.2558 - categorical_accuracy: 0.9066 - val_loss: 1.4109 - val_categorical_accuracy: 0.6756\n",
      "Epoch 47/100\n",
      "853/853 [==============================] - 61s 72ms/step - loss: 0.2511 - categorical_accuracy: 0.9069 - val_loss: 1.5212 - val_categorical_accuracy: 0.6690\n",
      "Epoch 48/100\n",
      "853/853 [==============================] - 61s 72ms/step - loss: 0.2443 - categorical_accuracy: 0.9102 - val_loss: 1.6023 - val_categorical_accuracy: 0.6782\n",
      "Epoch 49/100\n",
      "853/853 [==============================] - 62s 73ms/step - loss: 0.2482 - categorical_accuracy: 0.9094 - val_loss: 1.5675 - val_categorical_accuracy: 0.6630\n",
      "Epoch 50/100\n",
      "853/853 [==============================] - 61s 72ms/step - loss: 0.2434 - categorical_accuracy: 0.9092 - val_loss: 1.4519 - val_categorical_accuracy: 0.6690\n",
      "Epoch 51/100\n",
      "853/853 [==============================] - 61s 71ms/step - loss: 0.2414 - categorical_accuracy: 0.9111 - val_loss: 1.7396 - val_categorical_accuracy: 0.6413\n",
      "Epoch 52/100\n",
      "853/853 [==============================] - 61s 72ms/step - loss: 0.2391 - categorical_accuracy: 0.9118 - val_loss: 1.5432 - val_categorical_accuracy: 0.6736\n",
      "Epoch 53/100\n",
      "853/853 [==============================] - 62s 72ms/step - loss: 0.2256 - categorical_accuracy: 0.9168 - val_loss: 1.6239 - val_categorical_accuracy: 0.6584\n",
      "Epoch 54/100\n",
      "853/853 [==============================] - 61s 71ms/step - loss: 0.2208 - categorical_accuracy: 0.9180 - val_loss: 1.5911 - val_categorical_accuracy: 0.6795\n",
      "Epoch 55/100\n",
      "853/853 [==============================] - 61s 72ms/step - loss: 0.2322 - categorical_accuracy: 0.9153 - val_loss: 1.4684 - val_categorical_accuracy: 0.6789\n",
      "\n",
      "\n",
      "-----------------END-----------------\n",
      "\n",
      "\n",
      "\n",
      "\n",
      "-----------------CG-----------------\n",
      "\n",
      "\n",
      "Shape of the feature =  (126, 12)\n",
      "(n train, n val, n test) =  (27294, 3033)\n",
      "Model: \"model_3\"\n",
      "_________________________________________________________________\n",
      " Layer (type)                Output Shape              Param #   \n",
      "=================================================================\n",
      " input_4 (InputLayer)        [(None, 126, 12)]         0         \n",
      "                                                                 \n",
      " conv1d_6 (Conv1D)           (None, 126, 32)           1952      \n",
      "                                                                 \n",
      " batch_normalization_6 (Batc  (None, 126, 32)          128       \n",
      " hNormalization)                                                 \n",
      "                                                                 \n",
      " activation_6 (Activation)   (None, 126, 32)           0         \n",
      "                                                                 \n",
      " max_pooling1d_9 (MaxPooling  (None, 63, 32)           0         \n",
      " 1D)                                                             \n",
      "                                                                 \n",
      " conv1d_7 (Conv1D)           (None, 63, 32)            5152      \n",
      "                                                                 \n",
      " batch_normalization_7 (Batc  (None, 63, 32)           128       \n",
      " hNormalization)                                                 \n",
      "                                                                 \n",
      " activation_7 (Activation)   (None, 63, 32)            0         \n",
      "                                                                 \n",
      " max_pooling1d_10 (MaxPoolin  (None, 31, 32)           0         \n",
      " g1D)                                                            \n",
      "                                                                 \n",
      " bidirectional_6 (Bidirectio  (None, 31, 64)           16640     \n",
      " nal)                                                            \n",
      "                                                                 \n",
      " bidirectional_7 (Bidirectio  (None, 31, 64)           24832     \n",
      " nal)                                                            \n",
      "                                                                 \n",
      " max_pooling1d_11 (MaxPoolin  (None, 15, 64)           0         \n",
      " g1D)                                                            \n",
      "                                                                 \n",
      " flatten_3 (Flatten)         (None, 960)               0         \n",
      "                                                                 \n",
      " dropout_3 (Dropout)         (None, 960)               0         \n",
      "                                                                 \n",
      " dense_9 (Dense)             (None, 256)               246016    \n",
      "                                                                 \n",
      " dense_10 (Dense)            (None, 256)               65792     \n",
      "                                                                 \n",
      " dense_11 (Dense)            (None, 7)                 1799      \n",
      "                                                                 \n",
      "=================================================================\n",
      "Total params: 362,439\n",
      "Trainable params: 362,311\n",
      "Non-trainable params: 128\n",
      "_________________________________________________________________\n",
      "Epoch 1/100\n",
      "853/853 [==============================] - ETA: 0s - loss: 1.3719 - categorical_accuracy: 0.4428INFO:tensorflow:Assets written to: models\\lstm_cg\\assets\n"
     ]
    },
    {
     "name": "stderr",
     "output_type": "stream",
     "text": [
      "INFO:tensorflow:Assets written to: models\\lstm_cg\\assets\n",
      "WARNING:absl:<keras.layers.recurrent.LSTMCell object at 0x000001841E6343A0> has the same name 'LSTMCell' as a built-in Keras object. Consider renaming <class 'keras.layers.recurrent.LSTMCell'> to avoid naming conflicts when loading with `tf.keras.models.load_model`. If renaming is not possible, pass the object in the `custom_objects` parameter of the load function.\n",
      "WARNING:absl:<keras.layers.recurrent.LSTMCell object at 0x00000183FCC4CBE0> has the same name 'LSTMCell' as a built-in Keras object. Consider renaming <class 'keras.layers.recurrent.LSTMCell'> to avoid naming conflicts when loading with `tf.keras.models.load_model`. If renaming is not possible, pass the object in the `custom_objects` parameter of the load function.\n",
      "WARNING:absl:<keras.layers.recurrent.LSTMCell object at 0x000001847327CAC0> has the same name 'LSTMCell' as a built-in Keras object. Consider renaming <class 'keras.layers.recurrent.LSTMCell'> to avoid naming conflicts when loading with `tf.keras.models.load_model`. If renaming is not possible, pass the object in the `custom_objects` parameter of the load function.\n",
      "WARNING:absl:<keras.layers.recurrent.LSTMCell object at 0x000001841D15D5D0> has the same name 'LSTMCell' as a built-in Keras object. Consider renaming <class 'keras.layers.recurrent.LSTMCell'> to avoid naming conflicts when loading with `tf.keras.models.load_model`. If renaming is not possible, pass the object in the `custom_objects` parameter of the load function.\n"
     ]
    },
    {
     "name": "stdout",
     "output_type": "stream",
     "text": [
      "853/853 [==============================] - 92s 97ms/step - loss: 1.3719 - categorical_accuracy: 0.4428 - val_loss: 1.2578 - val_categorical_accuracy: 0.4807\n",
      "Epoch 2/100\n",
      "853/853 [==============================] - ETA: 0s - loss: 1.1994 - categorical_accuracy: 0.5199INFO:tensorflow:Assets written to: models\\lstm_cg\\assets\n"
     ]
    },
    {
     "name": "stderr",
     "output_type": "stream",
     "text": [
      "INFO:tensorflow:Assets written to: models\\lstm_cg\\assets\n",
      "WARNING:absl:<keras.layers.recurrent.LSTMCell object at 0x000001841E6343A0> has the same name 'LSTMCell' as a built-in Keras object. Consider renaming <class 'keras.layers.recurrent.LSTMCell'> to avoid naming conflicts when loading with `tf.keras.models.load_model`. If renaming is not possible, pass the object in the `custom_objects` parameter of the load function.\n",
      "WARNING:absl:<keras.layers.recurrent.LSTMCell object at 0x00000183FCC4CBE0> has the same name 'LSTMCell' as a built-in Keras object. Consider renaming <class 'keras.layers.recurrent.LSTMCell'> to avoid naming conflicts when loading with `tf.keras.models.load_model`. If renaming is not possible, pass the object in the `custom_objects` parameter of the load function.\n",
      "WARNING:absl:<keras.layers.recurrent.LSTMCell object at 0x000001847327CAC0> has the same name 'LSTMCell' as a built-in Keras object. Consider renaming <class 'keras.layers.recurrent.LSTMCell'> to avoid naming conflicts when loading with `tf.keras.models.load_model`. If renaming is not possible, pass the object in the `custom_objects` parameter of the load function.\n",
      "WARNING:absl:<keras.layers.recurrent.LSTMCell object at 0x000001841D15D5D0> has the same name 'LSTMCell' as a built-in Keras object. Consider renaming <class 'keras.layers.recurrent.LSTMCell'> to avoid naming conflicts when loading with `tf.keras.models.load_model`. If renaming is not possible, pass the object in the `custom_objects` parameter of the load function.\n"
     ]
    },
    {
     "name": "stdout",
     "output_type": "stream",
     "text": [
      "853/853 [==============================] - 82s 96ms/step - loss: 1.1994 - categorical_accuracy: 0.5199 - val_loss: 1.3015 - val_categorical_accuracy: 0.4903\n",
      "Epoch 3/100\n",
      "853/853 [==============================] - ETA: 0s - loss: 1.1327 - categorical_accuracy: 0.5487INFO:tensorflow:Assets written to: models\\lstm_cg\\assets\n"
     ]
    },
    {
     "name": "stderr",
     "output_type": "stream",
     "text": [
      "INFO:tensorflow:Assets written to: models\\lstm_cg\\assets\n",
      "WARNING:absl:<keras.layers.recurrent.LSTMCell object at 0x000001841E6343A0> has the same name 'LSTMCell' as a built-in Keras object. Consider renaming <class 'keras.layers.recurrent.LSTMCell'> to avoid naming conflicts when loading with `tf.keras.models.load_model`. If renaming is not possible, pass the object in the `custom_objects` parameter of the load function.\n",
      "WARNING:absl:<keras.layers.recurrent.LSTMCell object at 0x00000183FCC4CBE0> has the same name 'LSTMCell' as a built-in Keras object. Consider renaming <class 'keras.layers.recurrent.LSTMCell'> to avoid naming conflicts when loading with `tf.keras.models.load_model`. If renaming is not possible, pass the object in the `custom_objects` parameter of the load function.\n",
      "WARNING:absl:<keras.layers.recurrent.LSTMCell object at 0x000001847327CAC0> has the same name 'LSTMCell' as a built-in Keras object. Consider renaming <class 'keras.layers.recurrent.LSTMCell'> to avoid naming conflicts when loading with `tf.keras.models.load_model`. If renaming is not possible, pass the object in the `custom_objects` parameter of the load function.\n",
      "WARNING:absl:<keras.layers.recurrent.LSTMCell object at 0x000001841D15D5D0> has the same name 'LSTMCell' as a built-in Keras object. Consider renaming <class 'keras.layers.recurrent.LSTMCell'> to avoid naming conflicts when loading with `tf.keras.models.load_model`. If renaming is not possible, pass the object in the `custom_objects` parameter of the load function.\n"
     ]
    },
    {
     "name": "stdout",
     "output_type": "stream",
     "text": [
      "853/853 [==============================] - 82s 96ms/step - loss: 1.1327 - categorical_accuracy: 0.5487 - val_loss: 1.2572 - val_categorical_accuracy: 0.4916\n",
      "Epoch 4/100\n",
      "853/853 [==============================] - 69s 80ms/step - loss: 1.0828 - categorical_accuracy: 0.5698 - val_loss: 1.4712 - val_categorical_accuracy: 0.4761\n",
      "Epoch 5/100\n",
      "853/853 [==============================] - ETA: 0s - loss: 1.0435 - categorical_accuracy: 0.5862INFO:tensorflow:Assets written to: models\\lstm_cg\\assets\n"
     ]
    },
    {
     "name": "stderr",
     "output_type": "stream",
     "text": [
      "INFO:tensorflow:Assets written to: models\\lstm_cg\\assets\n",
      "WARNING:absl:<keras.layers.recurrent.LSTMCell object at 0x000001841E6343A0> has the same name 'LSTMCell' as a built-in Keras object. Consider renaming <class 'keras.layers.recurrent.LSTMCell'> to avoid naming conflicts when loading with `tf.keras.models.load_model`. If renaming is not possible, pass the object in the `custom_objects` parameter of the load function.\n",
      "WARNING:absl:<keras.layers.recurrent.LSTMCell object at 0x00000183FCC4CBE0> has the same name 'LSTMCell' as a built-in Keras object. Consider renaming <class 'keras.layers.recurrent.LSTMCell'> to avoid naming conflicts when loading with `tf.keras.models.load_model`. If renaming is not possible, pass the object in the `custom_objects` parameter of the load function.\n",
      "WARNING:absl:<keras.layers.recurrent.LSTMCell object at 0x000001847327CAC0> has the same name 'LSTMCell' as a built-in Keras object. Consider renaming <class 'keras.layers.recurrent.LSTMCell'> to avoid naming conflicts when loading with `tf.keras.models.load_model`. If renaming is not possible, pass the object in the `custom_objects` parameter of the load function.\n",
      "WARNING:absl:<keras.layers.recurrent.LSTMCell object at 0x000001841D15D5D0> has the same name 'LSTMCell' as a built-in Keras object. Consider renaming <class 'keras.layers.recurrent.LSTMCell'> to avoid naming conflicts when loading with `tf.keras.models.load_model`. If renaming is not possible, pass the object in the `custom_objects` parameter of the load function.\n"
     ]
    },
    {
     "name": "stdout",
     "output_type": "stream",
     "text": [
      "853/853 [==============================] - 82s 97ms/step - loss: 1.0435 - categorical_accuracy: 0.5862 - val_loss: 1.1657 - val_categorical_accuracy: 0.5463\n",
      "Epoch 6/100\n",
      "853/853 [==============================] - 64s 75ms/step - loss: 1.0044 - categorical_accuracy: 0.5999 - val_loss: 1.2286 - val_categorical_accuracy: 0.5394\n",
      "Epoch 7/100\n",
      "853/853 [==============================] - 66s 77ms/step - loss: 0.9835 - categorical_accuracy: 0.6130 - val_loss: 1.3919 - val_categorical_accuracy: 0.5091\n",
      "Epoch 8/100\n",
      "853/853 [==============================] - ETA: 0s - loss: 0.9495 - categorical_accuracy: 0.6274INFO:tensorflow:Assets written to: models\\lstm_cg\\assets\n"
     ]
    },
    {
     "name": "stderr",
     "output_type": "stream",
     "text": [
      "INFO:tensorflow:Assets written to: models\\lstm_cg\\assets\n",
      "WARNING:absl:<keras.layers.recurrent.LSTMCell object at 0x000001841E6343A0> has the same name 'LSTMCell' as a built-in Keras object. Consider renaming <class 'keras.layers.recurrent.LSTMCell'> to avoid naming conflicts when loading with `tf.keras.models.load_model`. If renaming is not possible, pass the object in the `custom_objects` parameter of the load function.\n",
      "WARNING:absl:<keras.layers.recurrent.LSTMCell object at 0x00000183FCC4CBE0> has the same name 'LSTMCell' as a built-in Keras object. Consider renaming <class 'keras.layers.recurrent.LSTMCell'> to avoid naming conflicts when loading with `tf.keras.models.load_model`. If renaming is not possible, pass the object in the `custom_objects` parameter of the load function.\n",
      "WARNING:absl:<keras.layers.recurrent.LSTMCell object at 0x000001847327CAC0> has the same name 'LSTMCell' as a built-in Keras object. Consider renaming <class 'keras.layers.recurrent.LSTMCell'> to avoid naming conflicts when loading with `tf.keras.models.load_model`. If renaming is not possible, pass the object in the `custom_objects` parameter of the load function.\n",
      "WARNING:absl:<keras.layers.recurrent.LSTMCell object at 0x000001841D15D5D0> has the same name 'LSTMCell' as a built-in Keras object. Consider renaming <class 'keras.layers.recurrent.LSTMCell'> to avoid naming conflicts when loading with `tf.keras.models.load_model`. If renaming is not possible, pass the object in the `custom_objects` parameter of the load function.\n"
     ]
    },
    {
     "name": "stdout",
     "output_type": "stream",
     "text": [
      "853/853 [==============================] - 80s 93ms/step - loss: 0.9495 - categorical_accuracy: 0.6274 - val_loss: 1.2575 - val_categorical_accuracy: 0.5473\n",
      "Epoch 9/100\n",
      "853/853 [==============================] - 67s 78ms/step - loss: 0.9201 - categorical_accuracy: 0.6414 - val_loss: 1.8712 - val_categorical_accuracy: 0.4685\n",
      "Epoch 10/100\n",
      "853/853 [==============================] - ETA: 0s - loss: 0.8903 - categorical_accuracy: 0.6517INFO:tensorflow:Assets written to: models\\lstm_cg\\assets\n"
     ]
    },
    {
     "name": "stderr",
     "output_type": "stream",
     "text": [
      "INFO:tensorflow:Assets written to: models\\lstm_cg\\assets\n",
      "WARNING:absl:<keras.layers.recurrent.LSTMCell object at 0x000001841E6343A0> has the same name 'LSTMCell' as a built-in Keras object. Consider renaming <class 'keras.layers.recurrent.LSTMCell'> to avoid naming conflicts when loading with `tf.keras.models.load_model`. If renaming is not possible, pass the object in the `custom_objects` parameter of the load function.\n",
      "WARNING:absl:<keras.layers.recurrent.LSTMCell object at 0x00000183FCC4CBE0> has the same name 'LSTMCell' as a built-in Keras object. Consider renaming <class 'keras.layers.recurrent.LSTMCell'> to avoid naming conflicts when loading with `tf.keras.models.load_model`. If renaming is not possible, pass the object in the `custom_objects` parameter of the load function.\n",
      "WARNING:absl:<keras.layers.recurrent.LSTMCell object at 0x000001847327CAC0> has the same name 'LSTMCell' as a built-in Keras object. Consider renaming <class 'keras.layers.recurrent.LSTMCell'> to avoid naming conflicts when loading with `tf.keras.models.load_model`. If renaming is not possible, pass the object in the `custom_objects` parameter of the load function.\n",
      "WARNING:absl:<keras.layers.recurrent.LSTMCell object at 0x000001841D15D5D0> has the same name 'LSTMCell' as a built-in Keras object. Consider renaming <class 'keras.layers.recurrent.LSTMCell'> to avoid naming conflicts when loading with `tf.keras.models.load_model`. If renaming is not possible, pass the object in the `custom_objects` parameter of the load function.\n"
     ]
    },
    {
     "name": "stdout",
     "output_type": "stream",
     "text": [
      "853/853 [==============================] - 81s 96ms/step - loss: 0.8903 - categorical_accuracy: 0.6517 - val_loss: 1.1098 - val_categorical_accuracy: 0.5806\n",
      "Epoch 11/100\n",
      "853/853 [==============================] - 67s 78ms/step - loss: 0.8723 - categorical_accuracy: 0.6577 - val_loss: 1.3030 - val_categorical_accuracy: 0.5305\n",
      "Epoch 12/100\n",
      "853/853 [==============================] - 67s 79ms/step - loss: 0.8349 - categorical_accuracy: 0.6747 - val_loss: 1.2365 - val_categorical_accuracy: 0.5582\n",
      "Epoch 13/100\n",
      "853/853 [==============================] - 69s 81ms/step - loss: 0.8152 - categorical_accuracy: 0.6844 - val_loss: 1.2579 - val_categorical_accuracy: 0.5450\n",
      "Epoch 14/100\n",
      "853/853 [==============================] - 67s 79ms/step - loss: 0.7891 - categorical_accuracy: 0.6925 - val_loss: 1.5660 - val_categorical_accuracy: 0.5275\n",
      "Epoch 15/100\n",
      "853/853 [==============================] - 67s 79ms/step - loss: 0.7689 - categorical_accuracy: 0.6986 - val_loss: 1.3388 - val_categorical_accuracy: 0.5315\n",
      "Epoch 16/100\n",
      "853/853 [==============================] - 68s 79ms/step - loss: 0.7455 - categorical_accuracy: 0.7090 - val_loss: 1.4742 - val_categorical_accuracy: 0.5265\n",
      "Epoch 17/100\n",
      "853/853 [==============================] - 67s 78ms/step - loss: 0.7250 - categorical_accuracy: 0.7225 - val_loss: 1.4413 - val_categorical_accuracy: 0.5256\n",
      "Epoch 18/100\n",
      "853/853 [==============================] - 68s 79ms/step - loss: 0.7001 - categorical_accuracy: 0.7301 - val_loss: 1.4401 - val_categorical_accuracy: 0.5410\n",
      "Epoch 19/100\n",
      "853/853 [==============================] - ETA: 0s - loss: 0.6792 - categorical_accuracy: 0.7343INFO:tensorflow:Assets written to: models\\lstm_cg\\assets\n"
     ]
    },
    {
     "name": "stderr",
     "output_type": "stream",
     "text": [
      "INFO:tensorflow:Assets written to: models\\lstm_cg\\assets\n",
      "WARNING:absl:<keras.layers.recurrent.LSTMCell object at 0x000001841E6343A0> has the same name 'LSTMCell' as a built-in Keras object. Consider renaming <class 'keras.layers.recurrent.LSTMCell'> to avoid naming conflicts when loading with `tf.keras.models.load_model`. If renaming is not possible, pass the object in the `custom_objects` parameter of the load function.\n",
      "WARNING:absl:<keras.layers.recurrent.LSTMCell object at 0x00000183FCC4CBE0> has the same name 'LSTMCell' as a built-in Keras object. Consider renaming <class 'keras.layers.recurrent.LSTMCell'> to avoid naming conflicts when loading with `tf.keras.models.load_model`. If renaming is not possible, pass the object in the `custom_objects` parameter of the load function.\n",
      "WARNING:absl:<keras.layers.recurrent.LSTMCell object at 0x000001847327CAC0> has the same name 'LSTMCell' as a built-in Keras object. Consider renaming <class 'keras.layers.recurrent.LSTMCell'> to avoid naming conflicts when loading with `tf.keras.models.load_model`. If renaming is not possible, pass the object in the `custom_objects` parameter of the load function.\n",
      "WARNING:absl:<keras.layers.recurrent.LSTMCell object at 0x000001841D15D5D0> has the same name 'LSTMCell' as a built-in Keras object. Consider renaming <class 'keras.layers.recurrent.LSTMCell'> to avoid naming conflicts when loading with `tf.keras.models.load_model`. If renaming is not possible, pass the object in the `custom_objects` parameter of the load function.\n"
     ]
    },
    {
     "name": "stdout",
     "output_type": "stream",
     "text": [
      "853/853 [==============================] - 80s 94ms/step - loss: 0.6792 - categorical_accuracy: 0.7343 - val_loss: 1.3080 - val_categorical_accuracy: 0.5816\n",
      "Epoch 20/100\n",
      "853/853 [==============================] - 66s 77ms/step - loss: 0.6619 - categorical_accuracy: 0.7462 - val_loss: 1.3836 - val_categorical_accuracy: 0.5796\n",
      "Epoch 21/100\n",
      "853/853 [==============================] - 65s 76ms/step - loss: 0.6426 - categorical_accuracy: 0.7508 - val_loss: 1.6700 - val_categorical_accuracy: 0.5120\n",
      "Epoch 22/100\n",
      "853/853 [==============================] - 65s 76ms/step - loss: 0.6192 - categorical_accuracy: 0.7615 - val_loss: 1.4825 - val_categorical_accuracy: 0.5500\n",
      "Epoch 23/100\n",
      "853/853 [==============================] - 65s 76ms/step - loss: 0.6153 - categorical_accuracy: 0.7631 - val_loss: 1.6214 - val_categorical_accuracy: 0.5414\n",
      "Epoch 24/100\n",
      "853/853 [==============================] - 65s 76ms/step - loss: 0.5932 - categorical_accuracy: 0.7714 - val_loss: 1.3966 - val_categorical_accuracy: 0.5575\n",
      "Epoch 25/100\n",
      "853/853 [==============================] - 65s 76ms/step - loss: 0.5787 - categorical_accuracy: 0.7772 - val_loss: 1.5136 - val_categorical_accuracy: 0.5368\n",
      "Epoch 26/100\n",
      "853/853 [==============================] - 65s 76ms/step - loss: 0.5629 - categorical_accuracy: 0.7849 - val_loss: 1.4584 - val_categorical_accuracy: 0.5648\n",
      "Epoch 27/100\n",
      "853/853 [==============================] - 65s 76ms/step - loss: 0.5525 - categorical_accuracy: 0.7874 - val_loss: 1.5269 - val_categorical_accuracy: 0.5684\n",
      "Epoch 28/100\n",
      "853/853 [==============================] - 65s 77ms/step - loss: 0.5270 - categorical_accuracy: 0.7979 - val_loss: 2.0485 - val_categorical_accuracy: 0.5232\n",
      "Epoch 29/100\n",
      "853/853 [==============================] - 65s 76ms/step - loss: 0.5113 - categorical_accuracy: 0.8029 - val_loss: 1.5747 - val_categorical_accuracy: 0.5575\n",
      "\n",
      "\n",
      "-----------------END-----------------\n",
      "\n",
      "\n",
      "\n",
      "\n",
      "-----------------TN-----------------\n",
      "\n",
      "\n",
      "Shape of the feature =  (126, 6)\n",
      "(n train, n val, n test) =  (27294, 3033)\n",
      "Model: \"model_4\"\n",
      "_________________________________________________________________\n",
      " Layer (type)                Output Shape              Param #   \n",
      "=================================================================\n",
      " input_5 (InputLayer)        [(None, 126, 6)]          0         \n",
      "                                                                 \n",
      " conv1d_8 (Conv1D)           (None, 126, 32)           992       \n",
      "                                                                 \n",
      " batch_normalization_8 (Batc  (None, 126, 32)          128       \n",
      " hNormalization)                                                 \n",
      "                                                                 \n",
      " activation_8 (Activation)   (None, 126, 32)           0         \n",
      "                                                                 \n",
      " max_pooling1d_12 (MaxPoolin  (None, 63, 32)           0         \n",
      " g1D)                                                            \n",
      "                                                                 \n",
      " conv1d_9 (Conv1D)           (None, 63, 32)            5152      \n",
      "                                                                 \n",
      " batch_normalization_9 (Batc  (None, 63, 32)           128       \n",
      " hNormalization)                                                 \n",
      "                                                                 \n",
      " activation_9 (Activation)   (None, 63, 32)            0         \n",
      "                                                                 \n",
      " max_pooling1d_13 (MaxPoolin  (None, 31, 32)           0         \n",
      " g1D)                                                            \n",
      "                                                                 \n",
      " bidirectional_8 (Bidirectio  (None, 31, 64)           16640     \n",
      " nal)                                                            \n",
      "                                                                 \n",
      " bidirectional_9 (Bidirectio  (None, 31, 64)           24832     \n",
      " nal)                                                            \n",
      "                                                                 \n",
      " max_pooling1d_14 (MaxPoolin  (None, 15, 64)           0         \n",
      " g1D)                                                            \n",
      "                                                                 \n",
      " flatten_4 (Flatten)         (None, 960)               0         \n",
      "                                                                 \n",
      " dropout_4 (Dropout)         (None, 960)               0         \n",
      "                                                                 \n",
      " dense_12 (Dense)            (None, 256)               246016    \n",
      "                                                                 \n",
      " dense_13 (Dense)            (None, 256)               65792     \n",
      "                                                                 \n",
      " dense_14 (Dense)            (None, 7)                 1799      \n",
      "                                                                 \n",
      "=================================================================\n",
      "Total params: 361,479\n",
      "Trainable params: 361,351\n",
      "Non-trainable params: 128\n",
      "_________________________________________________________________\n",
      "Epoch 1/100\n",
      "853/853 [==============================] - ETA: 0s - loss: 1.5054 - categorical_accuracy: 0.3738INFO:tensorflow:Assets written to: models\\lstm_tn\\assets\n"
     ]
    },
    {
     "name": "stderr",
     "output_type": "stream",
     "text": [
      "INFO:tensorflow:Assets written to: models\\lstm_tn\\assets\n",
      "WARNING:absl:<keras.layers.recurrent.LSTMCell object at 0x000001846D9942B0> has the same name 'LSTMCell' as a built-in Keras object. Consider renaming <class 'keras.layers.recurrent.LSTMCell'> to avoid naming conflicts when loading with `tf.keras.models.load_model`. If renaming is not possible, pass the object in the `custom_objects` parameter of the load function.\n",
      "WARNING:absl:<keras.layers.recurrent.LSTMCell object at 0x000001841FD6FFD0> has the same name 'LSTMCell' as a built-in Keras object. Consider renaming <class 'keras.layers.recurrent.LSTMCell'> to avoid naming conflicts when loading with `tf.keras.models.load_model`. If renaming is not possible, pass the object in the `custom_objects` parameter of the load function.\n",
      "WARNING:absl:<keras.layers.recurrent.LSTMCell object at 0x00000184532C43A0> has the same name 'LSTMCell' as a built-in Keras object. Consider renaming <class 'keras.layers.recurrent.LSTMCell'> to avoid naming conflicts when loading with `tf.keras.models.load_model`. If renaming is not possible, pass the object in the `custom_objects` parameter of the load function.\n",
      "WARNING:absl:<keras.layers.recurrent.LSTMCell object at 0x0000018460D5BA00> has the same name 'LSTMCell' as a built-in Keras object. Consider renaming <class 'keras.layers.recurrent.LSTMCell'> to avoid naming conflicts when loading with `tf.keras.models.load_model`. If renaming is not possible, pass the object in the `custom_objects` parameter of the load function.\n"
     ]
    },
    {
     "name": "stdout",
     "output_type": "stream",
     "text": [
      "853/853 [==============================] - 86s 92ms/step - loss: 1.5054 - categorical_accuracy: 0.3738 - val_loss: 1.3955 - val_categorical_accuracy: 0.4181\n",
      "Epoch 2/100\n",
      "853/853 [==============================] - ETA: 0s - loss: 1.3197 - categorical_accuracy: 0.4642INFO:tensorflow:Assets written to: models\\lstm_tn\\assets\n"
     ]
    },
    {
     "name": "stderr",
     "output_type": "stream",
     "text": [
      "INFO:tensorflow:Assets written to: models\\lstm_tn\\assets\n",
      "WARNING:absl:<keras.layers.recurrent.LSTMCell object at 0x000001846D9942B0> has the same name 'LSTMCell' as a built-in Keras object. Consider renaming <class 'keras.layers.recurrent.LSTMCell'> to avoid naming conflicts when loading with `tf.keras.models.load_model`. If renaming is not possible, pass the object in the `custom_objects` parameter of the load function.\n",
      "WARNING:absl:<keras.layers.recurrent.LSTMCell object at 0x000001841FD6FFD0> has the same name 'LSTMCell' as a built-in Keras object. Consider renaming <class 'keras.layers.recurrent.LSTMCell'> to avoid naming conflicts when loading with `tf.keras.models.load_model`. If renaming is not possible, pass the object in the `custom_objects` parameter of the load function.\n",
      "WARNING:absl:<keras.layers.recurrent.LSTMCell object at 0x00000184532C43A0> has the same name 'LSTMCell' as a built-in Keras object. Consider renaming <class 'keras.layers.recurrent.LSTMCell'> to avoid naming conflicts when loading with `tf.keras.models.load_model`. If renaming is not possible, pass the object in the `custom_objects` parameter of the load function.\n",
      "WARNING:absl:<keras.layers.recurrent.LSTMCell object at 0x0000018460D5BA00> has the same name 'LSTMCell' as a built-in Keras object. Consider renaming <class 'keras.layers.recurrent.LSTMCell'> to avoid naming conflicts when loading with `tf.keras.models.load_model`. If renaming is not possible, pass the object in the `custom_objects` parameter of the load function.\n"
     ]
    },
    {
     "name": "stdout",
     "output_type": "stream",
     "text": [
      "853/853 [==============================] - 78s 91ms/step - loss: 1.3197 - categorical_accuracy: 0.4642 - val_loss: 1.3834 - val_categorical_accuracy: 0.4247\n",
      "Epoch 3/100\n",
      "853/853 [==============================] - ETA: 0s - loss: 1.2537 - categorical_accuracy: 0.4916INFO:tensorflow:Assets written to: models\\lstm_tn\\assets\n"
     ]
    },
    {
     "name": "stderr",
     "output_type": "stream",
     "text": [
      "INFO:tensorflow:Assets written to: models\\lstm_tn\\assets\n",
      "WARNING:absl:<keras.layers.recurrent.LSTMCell object at 0x000001846D9942B0> has the same name 'LSTMCell' as a built-in Keras object. Consider renaming <class 'keras.layers.recurrent.LSTMCell'> to avoid naming conflicts when loading with `tf.keras.models.load_model`. If renaming is not possible, pass the object in the `custom_objects` parameter of the load function.\n",
      "WARNING:absl:<keras.layers.recurrent.LSTMCell object at 0x000001841FD6FFD0> has the same name 'LSTMCell' as a built-in Keras object. Consider renaming <class 'keras.layers.recurrent.LSTMCell'> to avoid naming conflicts when loading with `tf.keras.models.load_model`. If renaming is not possible, pass the object in the `custom_objects` parameter of the load function.\n",
      "WARNING:absl:<keras.layers.recurrent.LSTMCell object at 0x00000184532C43A0> has the same name 'LSTMCell' as a built-in Keras object. Consider renaming <class 'keras.layers.recurrent.LSTMCell'> to avoid naming conflicts when loading with `tf.keras.models.load_model`. If renaming is not possible, pass the object in the `custom_objects` parameter of the load function.\n",
      "WARNING:absl:<keras.layers.recurrent.LSTMCell object at 0x0000018460D5BA00> has the same name 'LSTMCell' as a built-in Keras object. Consider renaming <class 'keras.layers.recurrent.LSTMCell'> to avoid naming conflicts when loading with `tf.keras.models.load_model`. If renaming is not possible, pass the object in the `custom_objects` parameter of the load function.\n"
     ]
    },
    {
     "name": "stdout",
     "output_type": "stream",
     "text": [
      "853/853 [==============================] - 77s 90ms/step - loss: 1.2537 - categorical_accuracy: 0.4916 - val_loss: 1.3654 - val_categorical_accuracy: 0.4741\n",
      "Epoch 4/100\n",
      "853/853 [==============================] - 65s 76ms/step - loss: 1.2060 - categorical_accuracy: 0.5154 - val_loss: 1.3622 - val_categorical_accuracy: 0.4540\n",
      "Epoch 5/100\n",
      "853/853 [==============================] - ETA: 0s - loss: 1.1684 - categorical_accuracy: 0.5277INFO:tensorflow:Assets written to: models\\lstm_tn\\assets\n"
     ]
    },
    {
     "name": "stderr",
     "output_type": "stream",
     "text": [
      "INFO:tensorflow:Assets written to: models\\lstm_tn\\assets\n",
      "WARNING:absl:<keras.layers.recurrent.LSTMCell object at 0x000001846D9942B0> has the same name 'LSTMCell' as a built-in Keras object. Consider renaming <class 'keras.layers.recurrent.LSTMCell'> to avoid naming conflicts when loading with `tf.keras.models.load_model`. If renaming is not possible, pass the object in the `custom_objects` parameter of the load function.\n",
      "WARNING:absl:<keras.layers.recurrent.LSTMCell object at 0x000001841FD6FFD0> has the same name 'LSTMCell' as a built-in Keras object. Consider renaming <class 'keras.layers.recurrent.LSTMCell'> to avoid naming conflicts when loading with `tf.keras.models.load_model`. If renaming is not possible, pass the object in the `custom_objects` parameter of the load function.\n",
      "WARNING:absl:<keras.layers.recurrent.LSTMCell object at 0x00000184532C43A0> has the same name 'LSTMCell' as a built-in Keras object. Consider renaming <class 'keras.layers.recurrent.LSTMCell'> to avoid naming conflicts when loading with `tf.keras.models.load_model`. If renaming is not possible, pass the object in the `custom_objects` parameter of the load function.\n",
      "WARNING:absl:<keras.layers.recurrent.LSTMCell object at 0x0000018460D5BA00> has the same name 'LSTMCell' as a built-in Keras object. Consider renaming <class 'keras.layers.recurrent.LSTMCell'> to avoid naming conflicts when loading with `tf.keras.models.load_model`. If renaming is not possible, pass the object in the `custom_objects` parameter of the load function.\n"
     ]
    },
    {
     "name": "stdout",
     "output_type": "stream",
     "text": [
      "853/853 [==============================] - 79s 93ms/step - loss: 1.1684 - categorical_accuracy: 0.5277 - val_loss: 1.3009 - val_categorical_accuracy: 0.4955\n",
      "Epoch 6/100\n",
      "853/853 [==============================] - 64s 75ms/step - loss: 1.1411 - categorical_accuracy: 0.5402 - val_loss: 1.4574 - val_categorical_accuracy: 0.4540\n",
      "Epoch 7/100\n",
      "853/853 [==============================] - 65s 77ms/step - loss: 1.1117 - categorical_accuracy: 0.5553 - val_loss: 1.3773 - val_categorical_accuracy: 0.4761\n",
      "Epoch 8/100\n",
      "853/853 [==============================] - 65s 76ms/step - loss: 1.0838 - categorical_accuracy: 0.5676 - val_loss: 1.3385 - val_categorical_accuracy: 0.4771\n",
      "Epoch 9/100\n",
      "853/853 [==============================] - ETA: 0s - loss: 1.0582 - categorical_accuracy: 0.5773INFO:tensorflow:Assets written to: models\\lstm_tn\\assets\n"
     ]
    },
    {
     "name": "stderr",
     "output_type": "stream",
     "text": [
      "INFO:tensorflow:Assets written to: models\\lstm_tn\\assets\n",
      "WARNING:absl:<keras.layers.recurrent.LSTMCell object at 0x000001846D9942B0> has the same name 'LSTMCell' as a built-in Keras object. Consider renaming <class 'keras.layers.recurrent.LSTMCell'> to avoid naming conflicts when loading with `tf.keras.models.load_model`. If renaming is not possible, pass the object in the `custom_objects` parameter of the load function.\n",
      "WARNING:absl:<keras.layers.recurrent.LSTMCell object at 0x000001841FD6FFD0> has the same name 'LSTMCell' as a built-in Keras object. Consider renaming <class 'keras.layers.recurrent.LSTMCell'> to avoid naming conflicts when loading with `tf.keras.models.load_model`. If renaming is not possible, pass the object in the `custom_objects` parameter of the load function.\n",
      "WARNING:absl:<keras.layers.recurrent.LSTMCell object at 0x00000184532C43A0> has the same name 'LSTMCell' as a built-in Keras object. Consider renaming <class 'keras.layers.recurrent.LSTMCell'> to avoid naming conflicts when loading with `tf.keras.models.load_model`. If renaming is not possible, pass the object in the `custom_objects` parameter of the load function.\n",
      "WARNING:absl:<keras.layers.recurrent.LSTMCell object at 0x0000018460D5BA00> has the same name 'LSTMCell' as a built-in Keras object. Consider renaming <class 'keras.layers.recurrent.LSTMCell'> to avoid naming conflicts when loading with `tf.keras.models.load_model`. If renaming is not possible, pass the object in the `custom_objects` parameter of the load function.\n"
     ]
    },
    {
     "name": "stdout",
     "output_type": "stream",
     "text": [
      "853/853 [==============================] - 79s 93ms/step - loss: 1.0582 - categorical_accuracy: 0.5773 - val_loss: 1.2376 - val_categorical_accuracy: 0.5223\n",
      "Epoch 10/100\n",
      "853/853 [==============================] - 64s 75ms/step - loss: 1.0418 - categorical_accuracy: 0.5843 - val_loss: 1.3387 - val_categorical_accuracy: 0.4929\n",
      "Epoch 11/100\n",
      "853/853 [==============================] - ETA: 0s - loss: 1.0200 - categorical_accuracy: 0.5960INFO:tensorflow:Assets written to: models\\lstm_tn\\assets\n"
     ]
    },
    {
     "name": "stderr",
     "output_type": "stream",
     "text": [
      "INFO:tensorflow:Assets written to: models\\lstm_tn\\assets\n",
      "WARNING:absl:<keras.layers.recurrent.LSTMCell object at 0x000001846D9942B0> has the same name 'LSTMCell' as a built-in Keras object. Consider renaming <class 'keras.layers.recurrent.LSTMCell'> to avoid naming conflicts when loading with `tf.keras.models.load_model`. If renaming is not possible, pass the object in the `custom_objects` parameter of the load function.\n",
      "WARNING:absl:<keras.layers.recurrent.LSTMCell object at 0x000001841FD6FFD0> has the same name 'LSTMCell' as a built-in Keras object. Consider renaming <class 'keras.layers.recurrent.LSTMCell'> to avoid naming conflicts when loading with `tf.keras.models.load_model`. If renaming is not possible, pass the object in the `custom_objects` parameter of the load function.\n",
      "WARNING:absl:<keras.layers.recurrent.LSTMCell object at 0x00000184532C43A0> has the same name 'LSTMCell' as a built-in Keras object. Consider renaming <class 'keras.layers.recurrent.LSTMCell'> to avoid naming conflicts when loading with `tf.keras.models.load_model`. If renaming is not possible, pass the object in the `custom_objects` parameter of the load function.\n",
      "WARNING:absl:<keras.layers.recurrent.LSTMCell object at 0x0000018460D5BA00> has the same name 'LSTMCell' as a built-in Keras object. Consider renaming <class 'keras.layers.recurrent.LSTMCell'> to avoid naming conflicts when loading with `tf.keras.models.load_model`. If renaming is not possible, pass the object in the `custom_objects` parameter of the load function.\n"
     ]
    },
    {
     "name": "stdout",
     "output_type": "stream",
     "text": [
      "853/853 [==============================] - 78s 92ms/step - loss: 1.0200 - categorical_accuracy: 0.5960 - val_loss: 1.2028 - val_categorical_accuracy: 0.5318\n",
      "Epoch 12/100\n",
      "853/853 [==============================] - ETA: 0s - loss: 0.9989 - categorical_accuracy: 0.6011INFO:tensorflow:Assets written to: models\\lstm_tn\\assets\n"
     ]
    },
    {
     "name": "stderr",
     "output_type": "stream",
     "text": [
      "INFO:tensorflow:Assets written to: models\\lstm_tn\\assets\n",
      "WARNING:absl:<keras.layers.recurrent.LSTMCell object at 0x000001846D9942B0> has the same name 'LSTMCell' as a built-in Keras object. Consider renaming <class 'keras.layers.recurrent.LSTMCell'> to avoid naming conflicts when loading with `tf.keras.models.load_model`. If renaming is not possible, pass the object in the `custom_objects` parameter of the load function.\n",
      "WARNING:absl:<keras.layers.recurrent.LSTMCell object at 0x000001841FD6FFD0> has the same name 'LSTMCell' as a built-in Keras object. Consider renaming <class 'keras.layers.recurrent.LSTMCell'> to avoid naming conflicts when loading with `tf.keras.models.load_model`. If renaming is not possible, pass the object in the `custom_objects` parameter of the load function.\n",
      "WARNING:absl:<keras.layers.recurrent.LSTMCell object at 0x00000184532C43A0> has the same name 'LSTMCell' as a built-in Keras object. Consider renaming <class 'keras.layers.recurrent.LSTMCell'> to avoid naming conflicts when loading with `tf.keras.models.load_model`. If renaming is not possible, pass the object in the `custom_objects` parameter of the load function.\n",
      "WARNING:absl:<keras.layers.recurrent.LSTMCell object at 0x0000018460D5BA00> has the same name 'LSTMCell' as a built-in Keras object. Consider renaming <class 'keras.layers.recurrent.LSTMCell'> to avoid naming conflicts when loading with `tf.keras.models.load_model`. If renaming is not possible, pass the object in the `custom_objects` parameter of the load function.\n"
     ]
    },
    {
     "name": "stdout",
     "output_type": "stream",
     "text": [
      "853/853 [==============================] - 77s 90ms/step - loss: 0.9989 - categorical_accuracy: 0.6011 - val_loss: 1.1715 - val_categorical_accuracy: 0.5460\n",
      "Epoch 13/100\n",
      "853/853 [==============================] - 62s 73ms/step - loss: 0.9724 - categorical_accuracy: 0.6137 - val_loss: 1.2972 - val_categorical_accuracy: 0.5328\n",
      "Epoch 14/100\n",
      "853/853 [==============================] - ETA: 0s - loss: 0.9508 - categorical_accuracy: 0.6223INFO:tensorflow:Assets written to: models\\lstm_tn\\assets\n"
     ]
    },
    {
     "name": "stderr",
     "output_type": "stream",
     "text": [
      "INFO:tensorflow:Assets written to: models\\lstm_tn\\assets\n",
      "WARNING:absl:<keras.layers.recurrent.LSTMCell object at 0x000001846D9942B0> has the same name 'LSTMCell' as a built-in Keras object. Consider renaming <class 'keras.layers.recurrent.LSTMCell'> to avoid naming conflicts when loading with `tf.keras.models.load_model`. If renaming is not possible, pass the object in the `custom_objects` parameter of the load function.\n",
      "WARNING:absl:<keras.layers.recurrent.LSTMCell object at 0x000001841FD6FFD0> has the same name 'LSTMCell' as a built-in Keras object. Consider renaming <class 'keras.layers.recurrent.LSTMCell'> to avoid naming conflicts when loading with `tf.keras.models.load_model`. If renaming is not possible, pass the object in the `custom_objects` parameter of the load function.\n",
      "WARNING:absl:<keras.layers.recurrent.LSTMCell object at 0x00000184532C43A0> has the same name 'LSTMCell' as a built-in Keras object. Consider renaming <class 'keras.layers.recurrent.LSTMCell'> to avoid naming conflicts when loading with `tf.keras.models.load_model`. If renaming is not possible, pass the object in the `custom_objects` parameter of the load function.\n",
      "WARNING:absl:<keras.layers.recurrent.LSTMCell object at 0x0000018460D5BA00> has the same name 'LSTMCell' as a built-in Keras object. Consider renaming <class 'keras.layers.recurrent.LSTMCell'> to avoid naming conflicts when loading with `tf.keras.models.load_model`. If renaming is not possible, pass the object in the `custom_objects` parameter of the load function.\n"
     ]
    },
    {
     "name": "stdout",
     "output_type": "stream",
     "text": [
      "853/853 [==============================] - 78s 91ms/step - loss: 0.9508 - categorical_accuracy: 0.6223 - val_loss: 1.2092 - val_categorical_accuracy: 0.5582\n",
      "Epoch 15/100\n",
      "853/853 [==============================] - 63s 74ms/step - loss: 0.9284 - categorical_accuracy: 0.6308 - val_loss: 1.3650 - val_categorical_accuracy: 0.5137\n",
      "Epoch 16/100\n",
      "853/853 [==============================] - 64s 75ms/step - loss: 0.9131 - categorical_accuracy: 0.6401 - val_loss: 1.2768 - val_categorical_accuracy: 0.5285\n",
      "Epoch 17/100\n",
      "853/853 [==============================] - 65s 76ms/step - loss: 0.8814 - categorical_accuracy: 0.6512 - val_loss: 1.3723 - val_categorical_accuracy: 0.5160\n",
      "Epoch 18/100\n",
      "853/853 [==============================] - 64s 75ms/step - loss: 0.8677 - categorical_accuracy: 0.6562 - val_loss: 1.3216 - val_categorical_accuracy: 0.5249\n",
      "Epoch 19/100\n",
      "853/853 [==============================] - 64s 75ms/step - loss: 0.8459 - categorical_accuracy: 0.6666 - val_loss: 1.2859 - val_categorical_accuracy: 0.5193\n",
      "Epoch 20/100\n",
      "853/853 [==============================] - 64s 75ms/step - loss: 0.8344 - categorical_accuracy: 0.6731 - val_loss: 1.2507 - val_categorical_accuracy: 0.5460\n",
      "Epoch 21/100\n",
      "853/853 [==============================] - 64s 74ms/step - loss: 0.8177 - categorical_accuracy: 0.6791 - val_loss: 1.3879 - val_categorical_accuracy: 0.5236\n",
      "Epoch 22/100\n",
      "853/853 [==============================] - 63s 74ms/step - loss: 0.8006 - categorical_accuracy: 0.6839 - val_loss: 1.3457 - val_categorical_accuracy: 0.5275\n",
      "Epoch 23/100\n",
      "853/853 [==============================] - 63s 74ms/step - loss: 0.7801 - categorical_accuracy: 0.6939 - val_loss: 1.3541 - val_categorical_accuracy: 0.5285\n",
      "Epoch 24/100\n",
      "853/853 [==============================] - 64s 75ms/step - loss: 0.7639 - categorical_accuracy: 0.7028 - val_loss: 1.3527 - val_categorical_accuracy: 0.5364\n",
      "\n",
      "\n",
      "-----------------END-----------------\n",
      "\n",
      "\n",
      "\n",
      "\n",
      "-----------------SC-----------------\n",
      "\n",
      "\n",
      "Shape of the feature =  (126, 7)\n",
      "(n train, n val, n test) =  (27294, 3033)\n",
      "Model: \"model_5\"\n",
      "_________________________________________________________________\n",
      " Layer (type)                Output Shape              Param #   \n",
      "=================================================================\n",
      " input_6 (InputLayer)        [(None, 126, 7)]          0         \n",
      "                                                                 \n",
      " conv1d_10 (Conv1D)          (None, 126, 32)           1152      \n",
      "                                                                 \n",
      " batch_normalization_10 (Bat  (None, 126, 32)          128       \n",
      " chNormalization)                                                \n",
      "                                                                 \n",
      " activation_10 (Activation)  (None, 126, 32)           0         \n",
      "                                                                 \n",
      " max_pooling1d_15 (MaxPoolin  (None, 63, 32)           0         \n",
      " g1D)                                                            \n",
      "                                                                 \n",
      " conv1d_11 (Conv1D)          (None, 63, 32)            5152      \n",
      "                                                                 \n",
      " batch_normalization_11 (Bat  (None, 63, 32)           128       \n",
      " chNormalization)                                                \n",
      "                                                                 \n",
      " activation_11 (Activation)  (None, 63, 32)            0         \n",
      "                                                                 \n",
      " max_pooling1d_16 (MaxPoolin  (None, 31, 32)           0         \n",
      " g1D)                                                            \n",
      "                                                                 \n",
      " bidirectional_10 (Bidirecti  (None, 31, 64)           16640     \n",
      " onal)                                                           \n",
      "                                                                 \n",
      " bidirectional_11 (Bidirecti  (None, 31, 64)           24832     \n",
      " onal)                                                           \n",
      "                                                                 \n",
      " max_pooling1d_17 (MaxPoolin  (None, 15, 64)           0         \n",
      " g1D)                                                            \n",
      "                                                                 \n",
      " flatten_5 (Flatten)         (None, 960)               0         \n",
      "                                                                 \n",
      " dropout_5 (Dropout)         (None, 960)               0         \n",
      "                                                                 \n",
      " dense_15 (Dense)            (None, 256)               246016    \n",
      "                                                                 \n",
      " dense_16 (Dense)            (None, 256)               65792     \n",
      "                                                                 \n",
      " dense_17 (Dense)            (None, 7)                 1799      \n",
      "                                                                 \n",
      "=================================================================\n",
      "Total params: 361,639\n",
      "Trainable params: 361,511\n",
      "Non-trainable params: 128\n",
      "_________________________________________________________________\n",
      "Epoch 1/100\n",
      "853/853 [==============================] - ETA: 0s - loss: 1.5667 - categorical_accuracy: 0.3602INFO:tensorflow:Assets written to: models\\lstm_sc\\assets\n"
     ]
    },
    {
     "name": "stderr",
     "output_type": "stream",
     "text": [
      "INFO:tensorflow:Assets written to: models\\lstm_sc\\assets\n",
      "WARNING:absl:<keras.layers.recurrent.LSTMCell object at 0x0000018487AD0D00> has the same name 'LSTMCell' as a built-in Keras object. Consider renaming <class 'keras.layers.recurrent.LSTMCell'> to avoid naming conflicts when loading with `tf.keras.models.load_model`. If renaming is not possible, pass the object in the `custom_objects` parameter of the load function.\n",
      "WARNING:absl:<keras.layers.recurrent.LSTMCell object at 0x0000018487989120> has the same name 'LSTMCell' as a built-in Keras object. Consider renaming <class 'keras.layers.recurrent.LSTMCell'> to avoid naming conflicts when loading with `tf.keras.models.load_model`. If renaming is not possible, pass the object in the `custom_objects` parameter of the load function.\n",
      "WARNING:absl:<keras.layers.recurrent.LSTMCell object at 0x000001848F0D1930> has the same name 'LSTMCell' as a built-in Keras object. Consider renaming <class 'keras.layers.recurrent.LSTMCell'> to avoid naming conflicts when loading with `tf.keras.models.load_model`. If renaming is not possible, pass the object in the `custom_objects` parameter of the load function.\n",
      "WARNING:absl:<keras.layers.recurrent.LSTMCell object at 0x000001841E560B20> has the same name 'LSTMCell' as a built-in Keras object. Consider renaming <class 'keras.layers.recurrent.LSTMCell'> to avoid naming conflicts when loading with `tf.keras.models.load_model`. If renaming is not possible, pass the object in the `custom_objects` parameter of the load function.\n"
     ]
    },
    {
     "name": "stdout",
     "output_type": "stream",
     "text": [
      "853/853 [==============================] - 84s 90ms/step - loss: 1.5667 - categorical_accuracy: 0.3602 - val_loss: 1.5191 - val_categorical_accuracy: 0.3475\n",
      "Epoch 2/100\n",
      "853/853 [==============================] - ETA: 0s - loss: 1.3255 - categorical_accuracy: 0.4639INFO:tensorflow:Assets written to: models\\lstm_sc\\assets\n"
     ]
    },
    {
     "name": "stderr",
     "output_type": "stream",
     "text": [
      "INFO:tensorflow:Assets written to: models\\lstm_sc\\assets\n",
      "WARNING:absl:<keras.layers.recurrent.LSTMCell object at 0x0000018487AD0D00> has the same name 'LSTMCell' as a built-in Keras object. Consider renaming <class 'keras.layers.recurrent.LSTMCell'> to avoid naming conflicts when loading with `tf.keras.models.load_model`. If renaming is not possible, pass the object in the `custom_objects` parameter of the load function.\n",
      "WARNING:absl:<keras.layers.recurrent.LSTMCell object at 0x0000018487989120> has the same name 'LSTMCell' as a built-in Keras object. Consider renaming <class 'keras.layers.recurrent.LSTMCell'> to avoid naming conflicts when loading with `tf.keras.models.load_model`. If renaming is not possible, pass the object in the `custom_objects` parameter of the load function.\n",
      "WARNING:absl:<keras.layers.recurrent.LSTMCell object at 0x000001848F0D1930> has the same name 'LSTMCell' as a built-in Keras object. Consider renaming <class 'keras.layers.recurrent.LSTMCell'> to avoid naming conflicts when loading with `tf.keras.models.load_model`. If renaming is not possible, pass the object in the `custom_objects` parameter of the load function.\n",
      "WARNING:absl:<keras.layers.recurrent.LSTMCell object at 0x000001841E560B20> has the same name 'LSTMCell' as a built-in Keras object. Consider renaming <class 'keras.layers.recurrent.LSTMCell'> to avoid naming conflicts when loading with `tf.keras.models.load_model`. If renaming is not possible, pass the object in the `custom_objects` parameter of the load function.\n"
     ]
    },
    {
     "name": "stdout",
     "output_type": "stream",
     "text": [
      "853/853 [==============================] - 75s 88ms/step - loss: 1.3255 - categorical_accuracy: 0.4639 - val_loss: 1.4673 - val_categorical_accuracy: 0.4306\n",
      "Epoch 3/100\n",
      "853/853 [==============================] - ETA: 0s - loss: 1.2433 - categorical_accuracy: 0.5003INFO:tensorflow:Assets written to: models\\lstm_sc\\assets\n"
     ]
    },
    {
     "name": "stderr",
     "output_type": "stream",
     "text": [
      "INFO:tensorflow:Assets written to: models\\lstm_sc\\assets\n",
      "WARNING:absl:<keras.layers.recurrent.LSTMCell object at 0x0000018487AD0D00> has the same name 'LSTMCell' as a built-in Keras object. Consider renaming <class 'keras.layers.recurrent.LSTMCell'> to avoid naming conflicts when loading with `tf.keras.models.load_model`. If renaming is not possible, pass the object in the `custom_objects` parameter of the load function.\n",
      "WARNING:absl:<keras.layers.recurrent.LSTMCell object at 0x0000018487989120> has the same name 'LSTMCell' as a built-in Keras object. Consider renaming <class 'keras.layers.recurrent.LSTMCell'> to avoid naming conflicts when loading with `tf.keras.models.load_model`. If renaming is not possible, pass the object in the `custom_objects` parameter of the load function.\n",
      "WARNING:absl:<keras.layers.recurrent.LSTMCell object at 0x000001848F0D1930> has the same name 'LSTMCell' as a built-in Keras object. Consider renaming <class 'keras.layers.recurrent.LSTMCell'> to avoid naming conflicts when loading with `tf.keras.models.load_model`. If renaming is not possible, pass the object in the `custom_objects` parameter of the load function.\n",
      "WARNING:absl:<keras.layers.recurrent.LSTMCell object at 0x000001841E560B20> has the same name 'LSTMCell' as a built-in Keras object. Consider renaming <class 'keras.layers.recurrent.LSTMCell'> to avoid naming conflicts when loading with `tf.keras.models.load_model`. If renaming is not possible, pass the object in the `custom_objects` parameter of the load function.\n"
     ]
    },
    {
     "name": "stdout",
     "output_type": "stream",
     "text": [
      "853/853 [==============================] - 74s 87ms/step - loss: 1.2433 - categorical_accuracy: 0.5003 - val_loss: 1.2894 - val_categorical_accuracy: 0.4807\n",
      "Epoch 4/100\n",
      "853/853 [==============================] - ETA: 0s - loss: 1.1946 - categorical_accuracy: 0.5195INFO:tensorflow:Assets written to: models\\lstm_sc\\assets\n"
     ]
    },
    {
     "name": "stderr",
     "output_type": "stream",
     "text": [
      "INFO:tensorflow:Assets written to: models\\lstm_sc\\assets\n",
      "WARNING:absl:<keras.layers.recurrent.LSTMCell object at 0x0000018487AD0D00> has the same name 'LSTMCell' as a built-in Keras object. Consider renaming <class 'keras.layers.recurrent.LSTMCell'> to avoid naming conflicts when loading with `tf.keras.models.load_model`. If renaming is not possible, pass the object in the `custom_objects` parameter of the load function.\n",
      "WARNING:absl:<keras.layers.recurrent.LSTMCell object at 0x0000018487989120> has the same name 'LSTMCell' as a built-in Keras object. Consider renaming <class 'keras.layers.recurrent.LSTMCell'> to avoid naming conflicts when loading with `tf.keras.models.load_model`. If renaming is not possible, pass the object in the `custom_objects` parameter of the load function.\n",
      "WARNING:absl:<keras.layers.recurrent.LSTMCell object at 0x000001848F0D1930> has the same name 'LSTMCell' as a built-in Keras object. Consider renaming <class 'keras.layers.recurrent.LSTMCell'> to avoid naming conflicts when loading with `tf.keras.models.load_model`. If renaming is not possible, pass the object in the `custom_objects` parameter of the load function.\n",
      "WARNING:absl:<keras.layers.recurrent.LSTMCell object at 0x000001841E560B20> has the same name 'LSTMCell' as a built-in Keras object. Consider renaming <class 'keras.layers.recurrent.LSTMCell'> to avoid naming conflicts when loading with `tf.keras.models.load_model`. If renaming is not possible, pass the object in the `custom_objects` parameter of the load function.\n"
     ]
    },
    {
     "name": "stdout",
     "output_type": "stream",
     "text": [
      "853/853 [==============================] - 75s 88ms/step - loss: 1.1946 - categorical_accuracy: 0.5195 - val_loss: 1.2241 - val_categorical_accuracy: 0.5140\n",
      "Epoch 5/100\n",
      "853/853 [==============================] - 71s 83ms/step - loss: 1.1582 - categorical_accuracy: 0.5363 - val_loss: 1.2144 - val_categorical_accuracy: 0.5110\n",
      "Epoch 6/100\n",
      "853/853 [==============================] - ETA: 0s - loss: 1.1306 - categorical_accuracy: 0.5476INFO:tensorflow:Assets written to: models\\lstm_sc\\assets\n"
     ]
    },
    {
     "name": "stderr",
     "output_type": "stream",
     "text": [
      "INFO:tensorflow:Assets written to: models\\lstm_sc\\assets\n",
      "WARNING:absl:<keras.layers.recurrent.LSTMCell object at 0x0000018487AD0D00> has the same name 'LSTMCell' as a built-in Keras object. Consider renaming <class 'keras.layers.recurrent.LSTMCell'> to avoid naming conflicts when loading with `tf.keras.models.load_model`. If renaming is not possible, pass the object in the `custom_objects` parameter of the load function.\n",
      "WARNING:absl:<keras.layers.recurrent.LSTMCell object at 0x0000018487989120> has the same name 'LSTMCell' as a built-in Keras object. Consider renaming <class 'keras.layers.recurrent.LSTMCell'> to avoid naming conflicts when loading with `tf.keras.models.load_model`. If renaming is not possible, pass the object in the `custom_objects` parameter of the load function.\n",
      "WARNING:absl:<keras.layers.recurrent.LSTMCell object at 0x000001848F0D1930> has the same name 'LSTMCell' as a built-in Keras object. Consider renaming <class 'keras.layers.recurrent.LSTMCell'> to avoid naming conflicts when loading with `tf.keras.models.load_model`. If renaming is not possible, pass the object in the `custom_objects` parameter of the load function.\n",
      "WARNING:absl:<keras.layers.recurrent.LSTMCell object at 0x000001841E560B20> has the same name 'LSTMCell' as a built-in Keras object. Consider renaming <class 'keras.layers.recurrent.LSTMCell'> to avoid naming conflicts when loading with `tf.keras.models.load_model`. If renaming is not possible, pass the object in the `custom_objects` parameter of the load function.\n"
     ]
    },
    {
     "name": "stdout",
     "output_type": "stream",
     "text": [
      "853/853 [==============================] - 86s 100ms/step - loss: 1.1306 - categorical_accuracy: 0.5476 - val_loss: 1.2102 - val_categorical_accuracy: 0.5193\n",
      "Epoch 7/100\n",
      "853/853 [==============================] - ETA: 0s - loss: 1.1070 - categorical_accuracy: 0.5576INFO:tensorflow:Assets written to: models\\lstm_sc\\assets\n"
     ]
    },
    {
     "name": "stderr",
     "output_type": "stream",
     "text": [
      "INFO:tensorflow:Assets written to: models\\lstm_sc\\assets\n",
      "WARNING:absl:<keras.layers.recurrent.LSTMCell object at 0x0000018487AD0D00> has the same name 'LSTMCell' as a built-in Keras object. Consider renaming <class 'keras.layers.recurrent.LSTMCell'> to avoid naming conflicts when loading with `tf.keras.models.load_model`. If renaming is not possible, pass the object in the `custom_objects` parameter of the load function.\n",
      "WARNING:absl:<keras.layers.recurrent.LSTMCell object at 0x0000018487989120> has the same name 'LSTMCell' as a built-in Keras object. Consider renaming <class 'keras.layers.recurrent.LSTMCell'> to avoid naming conflicts when loading with `tf.keras.models.load_model`. If renaming is not possible, pass the object in the `custom_objects` parameter of the load function.\n",
      "WARNING:absl:<keras.layers.recurrent.LSTMCell object at 0x000001848F0D1930> has the same name 'LSTMCell' as a built-in Keras object. Consider renaming <class 'keras.layers.recurrent.LSTMCell'> to avoid naming conflicts when loading with `tf.keras.models.load_model`. If renaming is not possible, pass the object in the `custom_objects` parameter of the load function.\n",
      "WARNING:absl:<keras.layers.recurrent.LSTMCell object at 0x000001841E560B20> has the same name 'LSTMCell' as a built-in Keras object. Consider renaming <class 'keras.layers.recurrent.LSTMCell'> to avoid naming conflicts when loading with `tf.keras.models.load_model`. If renaming is not possible, pass the object in the `custom_objects` parameter of the load function.\n"
     ]
    },
    {
     "name": "stdout",
     "output_type": "stream",
     "text": [
      "853/853 [==============================] - 84s 99ms/step - loss: 1.1070 - categorical_accuracy: 0.5576 - val_loss: 1.2045 - val_categorical_accuracy: 0.5348\n",
      "Epoch 8/100\n",
      "853/853 [==============================] - ETA: 0s - loss: 1.0779 - categorical_accuracy: 0.5696INFO:tensorflow:Assets written to: models\\lstm_sc\\assets\n"
     ]
    },
    {
     "name": "stderr",
     "output_type": "stream",
     "text": [
      "INFO:tensorflow:Assets written to: models\\lstm_sc\\assets\n",
      "WARNING:absl:<keras.layers.recurrent.LSTMCell object at 0x0000018487AD0D00> has the same name 'LSTMCell' as a built-in Keras object. Consider renaming <class 'keras.layers.recurrent.LSTMCell'> to avoid naming conflicts when loading with `tf.keras.models.load_model`. If renaming is not possible, pass the object in the `custom_objects` parameter of the load function.\n",
      "WARNING:absl:<keras.layers.recurrent.LSTMCell object at 0x0000018487989120> has the same name 'LSTMCell' as a built-in Keras object. Consider renaming <class 'keras.layers.recurrent.LSTMCell'> to avoid naming conflicts when loading with `tf.keras.models.load_model`. If renaming is not possible, pass the object in the `custom_objects` parameter of the load function.\n",
      "WARNING:absl:<keras.layers.recurrent.LSTMCell object at 0x000001848F0D1930> has the same name 'LSTMCell' as a built-in Keras object. Consider renaming <class 'keras.layers.recurrent.LSTMCell'> to avoid naming conflicts when loading with `tf.keras.models.load_model`. If renaming is not possible, pass the object in the `custom_objects` parameter of the load function.\n",
      "WARNING:absl:<keras.layers.recurrent.LSTMCell object at 0x000001841E560B20> has the same name 'LSTMCell' as a built-in Keras object. Consider renaming <class 'keras.layers.recurrent.LSTMCell'> to avoid naming conflicts when loading with `tf.keras.models.load_model`. If renaming is not possible, pass the object in the `custom_objects` parameter of the load function.\n"
     ]
    },
    {
     "name": "stdout",
     "output_type": "stream",
     "text": [
      "853/853 [==============================] - 83s 98ms/step - loss: 1.0779 - categorical_accuracy: 0.5696 - val_loss: 1.1555 - val_categorical_accuracy: 0.5397\n",
      "Epoch 9/100\n",
      "853/853 [==============================] - 69s 81ms/step - loss: 1.0627 - categorical_accuracy: 0.5788 - val_loss: 1.2233 - val_categorical_accuracy: 0.5028\n",
      "Epoch 10/100\n",
      "853/853 [==============================] - 69s 81ms/step - loss: 1.0435 - categorical_accuracy: 0.5898 - val_loss: 1.3170 - val_categorical_accuracy: 0.5097\n",
      "Epoch 11/100\n",
      "853/853 [==============================] - ETA: 0s - loss: 1.0191 - categorical_accuracy: 0.5942INFO:tensorflow:Assets written to: models\\lstm_sc\\assets\n"
     ]
    },
    {
     "name": "stderr",
     "output_type": "stream",
     "text": [
      "INFO:tensorflow:Assets written to: models\\lstm_sc\\assets\n",
      "WARNING:absl:<keras.layers.recurrent.LSTMCell object at 0x0000018487AD0D00> has the same name 'LSTMCell' as a built-in Keras object. Consider renaming <class 'keras.layers.recurrent.LSTMCell'> to avoid naming conflicts when loading with `tf.keras.models.load_model`. If renaming is not possible, pass the object in the `custom_objects` parameter of the load function.\n",
      "WARNING:absl:<keras.layers.recurrent.LSTMCell object at 0x0000018487989120> has the same name 'LSTMCell' as a built-in Keras object. Consider renaming <class 'keras.layers.recurrent.LSTMCell'> to avoid naming conflicts when loading with `tf.keras.models.load_model`. If renaming is not possible, pass the object in the `custom_objects` parameter of the load function.\n",
      "WARNING:absl:<keras.layers.recurrent.LSTMCell object at 0x000001848F0D1930> has the same name 'LSTMCell' as a built-in Keras object. Consider renaming <class 'keras.layers.recurrent.LSTMCell'> to avoid naming conflicts when loading with `tf.keras.models.load_model`. If renaming is not possible, pass the object in the `custom_objects` parameter of the load function.\n",
      "WARNING:absl:<keras.layers.recurrent.LSTMCell object at 0x000001841E560B20> has the same name 'LSTMCell' as a built-in Keras object. Consider renaming <class 'keras.layers.recurrent.LSTMCell'> to avoid naming conflicts when loading with `tf.keras.models.load_model`. If renaming is not possible, pass the object in the `custom_objects` parameter of the load function.\n"
     ]
    },
    {
     "name": "stdout",
     "output_type": "stream",
     "text": [
      "853/853 [==============================] - 84s 99ms/step - loss: 1.0191 - categorical_accuracy: 0.5942 - val_loss: 1.2209 - val_categorical_accuracy: 0.5480\n",
      "Epoch 12/100\n",
      "853/853 [==============================] - ETA: 0s - loss: 0.9980 - categorical_accuracy: 0.6050INFO:tensorflow:Assets written to: models\\lstm_sc\\assets\n"
     ]
    },
    {
     "name": "stderr",
     "output_type": "stream",
     "text": [
      "INFO:tensorflow:Assets written to: models\\lstm_sc\\assets\n",
      "WARNING:absl:<keras.layers.recurrent.LSTMCell object at 0x0000018487AD0D00> has the same name 'LSTMCell' as a built-in Keras object. Consider renaming <class 'keras.layers.recurrent.LSTMCell'> to avoid naming conflicts when loading with `tf.keras.models.load_model`. If renaming is not possible, pass the object in the `custom_objects` parameter of the load function.\n",
      "WARNING:absl:<keras.layers.recurrent.LSTMCell object at 0x0000018487989120> has the same name 'LSTMCell' as a built-in Keras object. Consider renaming <class 'keras.layers.recurrent.LSTMCell'> to avoid naming conflicts when loading with `tf.keras.models.load_model`. If renaming is not possible, pass the object in the `custom_objects` parameter of the load function.\n",
      "WARNING:absl:<keras.layers.recurrent.LSTMCell object at 0x000001848F0D1930> has the same name 'LSTMCell' as a built-in Keras object. Consider renaming <class 'keras.layers.recurrent.LSTMCell'> to avoid naming conflicts when loading with `tf.keras.models.load_model`. If renaming is not possible, pass the object in the `custom_objects` parameter of the load function.\n",
      "WARNING:absl:<keras.layers.recurrent.LSTMCell object at 0x000001841E560B20> has the same name 'LSTMCell' as a built-in Keras object. Consider renaming <class 'keras.layers.recurrent.LSTMCell'> to avoid naming conflicts when loading with `tf.keras.models.load_model`. If renaming is not possible, pass the object in the `custom_objects` parameter of the load function.\n"
     ]
    },
    {
     "name": "stdout",
     "output_type": "stream",
     "text": [
      "853/853 [==============================] - 82s 97ms/step - loss: 0.9980 - categorical_accuracy: 0.6050 - val_loss: 1.1920 - val_categorical_accuracy: 0.5496\n",
      "Epoch 13/100\n",
      "853/853 [==============================] - 68s 79ms/step - loss: 0.9927 - categorical_accuracy: 0.6056 - val_loss: 1.2056 - val_categorical_accuracy: 0.5470\n",
      "Epoch 14/100\n",
      "853/853 [==============================] - ETA: 0s - loss: 0.9739 - categorical_accuracy: 0.6146INFO:tensorflow:Assets written to: models\\lstm_sc\\assets\n"
     ]
    },
    {
     "name": "stderr",
     "output_type": "stream",
     "text": [
      "INFO:tensorflow:Assets written to: models\\lstm_sc\\assets\n",
      "WARNING:absl:<keras.layers.recurrent.LSTMCell object at 0x0000018487AD0D00> has the same name 'LSTMCell' as a built-in Keras object. Consider renaming <class 'keras.layers.recurrent.LSTMCell'> to avoid naming conflicts when loading with `tf.keras.models.load_model`. If renaming is not possible, pass the object in the `custom_objects` parameter of the load function.\n",
      "WARNING:absl:<keras.layers.recurrent.LSTMCell object at 0x0000018487989120> has the same name 'LSTMCell' as a built-in Keras object. Consider renaming <class 'keras.layers.recurrent.LSTMCell'> to avoid naming conflicts when loading with `tf.keras.models.load_model`. If renaming is not possible, pass the object in the `custom_objects` parameter of the load function.\n",
      "WARNING:absl:<keras.layers.recurrent.LSTMCell object at 0x000001848F0D1930> has the same name 'LSTMCell' as a built-in Keras object. Consider renaming <class 'keras.layers.recurrent.LSTMCell'> to avoid naming conflicts when loading with `tf.keras.models.load_model`. If renaming is not possible, pass the object in the `custom_objects` parameter of the load function.\n",
      "WARNING:absl:<keras.layers.recurrent.LSTMCell object at 0x000001841E560B20> has the same name 'LSTMCell' as a built-in Keras object. Consider renaming <class 'keras.layers.recurrent.LSTMCell'> to avoid naming conflicts when loading with `tf.keras.models.load_model`. If renaming is not possible, pass the object in the `custom_objects` parameter of the load function.\n"
     ]
    },
    {
     "name": "stdout",
     "output_type": "stream",
     "text": [
      "853/853 [==============================] - 83s 97ms/step - loss: 0.9739 - categorical_accuracy: 0.6146 - val_loss: 1.1194 - val_categorical_accuracy: 0.5579\n",
      "Epoch 15/100\n",
      "853/853 [==============================] - 69s 80ms/step - loss: 0.9538 - categorical_accuracy: 0.6248 - val_loss: 1.2051 - val_categorical_accuracy: 0.5440\n",
      "Epoch 16/100\n",
      "853/853 [==============================] - 69s 80ms/step - loss: 0.9335 - categorical_accuracy: 0.6345 - val_loss: 1.1942 - val_categorical_accuracy: 0.5424\n",
      "Epoch 17/100\n",
      "853/853 [==============================] - 72s 85ms/step - loss: 0.9237 - categorical_accuracy: 0.6355 - val_loss: 1.2056 - val_categorical_accuracy: 0.5434\n",
      "Epoch 18/100\n",
      "853/853 [==============================] - 71s 83ms/step - loss: 0.9083 - categorical_accuracy: 0.6455 - val_loss: 1.7865 - val_categorical_accuracy: 0.4520\n",
      "Epoch 19/100\n",
      "853/853 [==============================] - 69s 81ms/step - loss: 0.8872 - categorical_accuracy: 0.6511 - val_loss: 1.4356 - val_categorical_accuracy: 0.5045\n",
      "Epoch 20/100\n",
      "853/853 [==============================] - ETA: 0s - loss: 0.8713 - categorical_accuracy: 0.6576INFO:tensorflow:Assets written to: models\\lstm_sc\\assets\n"
     ]
    },
    {
     "name": "stderr",
     "output_type": "stream",
     "text": [
      "INFO:tensorflow:Assets written to: models\\lstm_sc\\assets\n",
      "WARNING:absl:<keras.layers.recurrent.LSTMCell object at 0x0000018487AD0D00> has the same name 'LSTMCell' as a built-in Keras object. Consider renaming <class 'keras.layers.recurrent.LSTMCell'> to avoid naming conflicts when loading with `tf.keras.models.load_model`. If renaming is not possible, pass the object in the `custom_objects` parameter of the load function.\n",
      "WARNING:absl:<keras.layers.recurrent.LSTMCell object at 0x0000018487989120> has the same name 'LSTMCell' as a built-in Keras object. Consider renaming <class 'keras.layers.recurrent.LSTMCell'> to avoid naming conflicts when loading with `tf.keras.models.load_model`. If renaming is not possible, pass the object in the `custom_objects` parameter of the load function.\n",
      "WARNING:absl:<keras.layers.recurrent.LSTMCell object at 0x000001848F0D1930> has the same name 'LSTMCell' as a built-in Keras object. Consider renaming <class 'keras.layers.recurrent.LSTMCell'> to avoid naming conflicts when loading with `tf.keras.models.load_model`. If renaming is not possible, pass the object in the `custom_objects` parameter of the load function.\n",
      "WARNING:absl:<keras.layers.recurrent.LSTMCell object at 0x000001841E560B20> has the same name 'LSTMCell' as a built-in Keras object. Consider renaming <class 'keras.layers.recurrent.LSTMCell'> to avoid naming conflicts when loading with `tf.keras.models.load_model`. If renaming is not possible, pass the object in the `custom_objects` parameter of the load function.\n"
     ]
    },
    {
     "name": "stdout",
     "output_type": "stream",
     "text": [
      "853/853 [==============================] - 81s 96ms/step - loss: 0.8713 - categorical_accuracy: 0.6576 - val_loss: 1.2093 - val_categorical_accuracy: 0.5651\n",
      "Epoch 21/100\n",
      "853/853 [==============================] - 65s 77ms/step - loss: 0.8548 - categorical_accuracy: 0.6625 - val_loss: 1.2320 - val_categorical_accuracy: 0.5579\n",
      "Epoch 22/100\n",
      "853/853 [==============================] - ETA: 0s - loss: 0.8391 - categorical_accuracy: 0.6690INFO:tensorflow:Assets written to: models\\lstm_sc\\assets\n"
     ]
    },
    {
     "name": "stderr",
     "output_type": "stream",
     "text": [
      "INFO:tensorflow:Assets written to: models\\lstm_sc\\assets\n",
      "WARNING:absl:<keras.layers.recurrent.LSTMCell object at 0x0000018487AD0D00> has the same name 'LSTMCell' as a built-in Keras object. Consider renaming <class 'keras.layers.recurrent.LSTMCell'> to avoid naming conflicts when loading with `tf.keras.models.load_model`. If renaming is not possible, pass the object in the `custom_objects` parameter of the load function.\n",
      "WARNING:absl:<keras.layers.recurrent.LSTMCell object at 0x0000018487989120> has the same name 'LSTMCell' as a built-in Keras object. Consider renaming <class 'keras.layers.recurrent.LSTMCell'> to avoid naming conflicts when loading with `tf.keras.models.load_model`. If renaming is not possible, pass the object in the `custom_objects` parameter of the load function.\n",
      "WARNING:absl:<keras.layers.recurrent.LSTMCell object at 0x000001848F0D1930> has the same name 'LSTMCell' as a built-in Keras object. Consider renaming <class 'keras.layers.recurrent.LSTMCell'> to avoid naming conflicts when loading with `tf.keras.models.load_model`. If renaming is not possible, pass the object in the `custom_objects` parameter of the load function.\n",
      "WARNING:absl:<keras.layers.recurrent.LSTMCell object at 0x000001841E560B20> has the same name 'LSTMCell' as a built-in Keras object. Consider renaming <class 'keras.layers.recurrent.LSTMCell'> to avoid naming conflicts when loading with `tf.keras.models.load_model`. If renaming is not possible, pass the object in the `custom_objects` parameter of the load function.\n"
     ]
    },
    {
     "name": "stdout",
     "output_type": "stream",
     "text": [
      "853/853 [==============================] - 81s 94ms/step - loss: 0.8391 - categorical_accuracy: 0.6690 - val_loss: 1.2241 - val_categorical_accuracy: 0.5694\n",
      "Epoch 23/100\n",
      "853/853 [==============================] - 66s 77ms/step - loss: 0.8236 - categorical_accuracy: 0.6765 - val_loss: 1.2529 - val_categorical_accuracy: 0.5470\n",
      "Epoch 24/100\n",
      "853/853 [==============================] - 67s 79ms/step - loss: 0.8053 - categorical_accuracy: 0.6830 - val_loss: 1.2644 - val_categorical_accuracy: 0.5513\n",
      "Epoch 25/100\n",
      "853/853 [==============================] - 66s 78ms/step - loss: 0.8002 - categorical_accuracy: 0.6882 - val_loss: 1.2861 - val_categorical_accuracy: 0.5519\n",
      "Epoch 26/100\n",
      "853/853 [==============================] - 67s 78ms/step - loss: 0.7751 - categorical_accuracy: 0.6949 - val_loss: 1.4375 - val_categorical_accuracy: 0.5523\n",
      "Epoch 27/100\n",
      "853/853 [==============================] - 67s 78ms/step - loss: 0.7655 - categorical_accuracy: 0.7007 - val_loss: 1.3042 - val_categorical_accuracy: 0.5374\n",
      "Epoch 28/100\n",
      "853/853 [==============================] - 67s 79ms/step - loss: 0.7523 - categorical_accuracy: 0.7074 - val_loss: 1.3384 - val_categorical_accuracy: 0.5437\n",
      "Epoch 29/100\n",
      "853/853 [==============================] - 66s 78ms/step - loss: 0.7405 - categorical_accuracy: 0.7137 - val_loss: 1.5193 - val_categorical_accuracy: 0.4952\n",
      "Epoch 30/100\n",
      "853/853 [==============================] - 67s 78ms/step - loss: 0.7247 - categorical_accuracy: 0.7195 - val_loss: 1.4525 - val_categorical_accuracy: 0.5430\n",
      "Epoch 31/100\n",
      "853/853 [==============================] - 68s 80ms/step - loss: 0.7113 - categorical_accuracy: 0.7221 - val_loss: 1.2900 - val_categorical_accuracy: 0.5615\n",
      "Epoch 32/100\n",
      "853/853 [==============================] - 67s 79ms/step - loss: 0.6990 - categorical_accuracy: 0.7272 - val_loss: 1.3928 - val_categorical_accuracy: 0.5562\n",
      "\n",
      "\n",
      "-----------------END-----------------\n",
      "\n",
      "\n"
     ]
    }
   ],
   "source": [
    "name_index = 0\n",
    "name_features = ['sg', 'mf', 'cg', 'tn', 'sc']\n",
    "for feature in [sg, mf, cg, tn, sc]:\n",
    "    name = name_features[name_index]\n",
    "    name_index+=1\n",
    "    print('\\n\\n-----------------'+name.upper()+'-----------------\\n\\n')\n",
    "\n",
    "    X_train, X_test, y_train, y_test = get_data(feature)\n",
    "    input_shape = X_train.shape[1:]\n",
    "\n",
    "    model = get_lstm_model(input_shape)\n",
    "    model.summary()\n",
    "\n",
    "    model.compile(optimizer =  'adam', loss='categorical_crossentropy', metrics=['categorical_accuracy'])\n",
    "    \n",
    "    batch_size=32\n",
    "    epochs = 100\n",
    "\n",
    "    callbacks_list = [EarlyStopping(patience = 10, monitor = 'val_categorical_accuracy'),\n",
    "                      ModelCheckpoint('models/lstm_'+name, monitor = 'val_categorical_accuracy', save_best_only = True)]\n",
    "\n",
    "    history = model.fit(X_train, y_train, batch_size=batch_size, epochs = epochs, validation_data = [X_test, y_test], callbacks = callbacks_list)\n",
    "\n",
    "    print('\\n\\n-----------------END-----------------\\n\\n')"
   ]
  },
  {
   "cell_type": "markdown",
   "metadata": {},
   "source": [
    "## Creating and Training the ensemble multi input model"
   ]
  },
  {
   "cell_type": "markdown",
   "metadata": {},
   "source": [
    "Importing the LSTM models for each feature"
   ]
  },
  {
   "cell_type": "code",
   "execution_count": 28,
   "metadata": {},
   "outputs": [],
   "source": [
    "sg_model = tf.keras.models.load_model('models/lstm_sg')\n",
    "sg_model = Sequential(sg_model.layers[:-1])\n",
    "\n",
    "mf_model = tf.keras.models.load_model('models/lstm_mf')\n",
    "mf_model = Sequential(mf_model.layers[:-1])\n",
    "\n",
    "cg_model = tf.keras.models.load_model('models/lstm_cg')\n",
    "cg_model = Sequential(cg_model.layers[:-1])\n",
    "\n",
    "tn_model = tf.keras.models.load_model('models/lstm_tn')\n",
    "tn_model = Sequential(tn_model.layers[:-1])\n",
    "\n",
    "sc_model = tf.keras.models.load_model('models/lstm_sc')\n",
    "sc_model = Sequential(sc_model.layers[:-1])\n",
    "\n",
    "\n",
    "sg_model._name = 'sg_model'\n",
    "mf_model._name = 'mf_model'\n",
    "cg_model._name = 'cg_model'\n",
    "tn_model._name = 'tn_model'\n",
    "sc_model._name = 'sc_model'"
   ]
  },
  {
   "cell_type": "code",
   "execution_count": 29,
   "metadata": {},
   "outputs": [
    {
     "name": "stdout",
     "output_type": "stream",
     "text": [
      "Model: \"sg_model\"\n",
      "_________________________________________________________________\n",
      " Layer (type)                Output Shape              Param #   \n",
      "=================================================================\n",
      " conv1d_2 (Conv1D)           (None, 126, 32)           10272     \n",
      "                                                                 \n",
      " batch_normalization_2 (Batc  (None, 126, 32)          128       \n",
      " hNormalization)                                                 \n",
      "                                                                 \n",
      " activation_2 (Activation)   (None, 126, 32)           0         \n",
      "                                                                 \n",
      " max_pooling1d_3 (MaxPooling  (None, 63, 32)           0         \n",
      " 1D)                                                             \n",
      "                                                                 \n",
      " conv1d_3 (Conv1D)           (None, 63, 32)            5152      \n",
      "                                                                 \n",
      " batch_normalization_3 (Batc  (None, 63, 32)           128       \n",
      " hNormalization)                                                 \n",
      "                                                                 \n",
      " activation_3 (Activation)   (None, 63, 32)            0         \n",
      "                                                                 \n",
      " max_pooling1d_4 (MaxPooling  (None, 31, 32)           0         \n",
      " 1D)                                                             \n",
      "                                                                 \n",
      " bidirectional_2 (Bidirectio  (None, 31, 64)           16640     \n",
      " nal)                                                            \n",
      "                                                                 \n",
      " bidirectional_3 (Bidirectio  (None, 31, 64)           24832     \n",
      " nal)                                                            \n",
      "                                                                 \n",
      " max_pooling1d_5 (MaxPooling  (None, 15, 64)           0         \n",
      " 1D)                                                             \n",
      "                                                                 \n",
      " flatten_1 (Flatten)         (None, 960)               0         \n",
      "                                                                 \n",
      " dropout_1 (Dropout)         (None, 960)               0         \n",
      "                                                                 \n",
      " dense_3 (Dense)             (None, 256)               246016    \n",
      "                                                                 \n",
      " dense_4 (Dense)             (None, 256)               65792     \n",
      "                                                                 \n",
      "=================================================================\n",
      "Total params: 368,960\n",
      "Trainable params: 368,832\n",
      "Non-trainable params: 128\n",
      "_________________________________________________________________\n"
     ]
    }
   ],
   "source": [
    "sg_model.summary()"
   ]
  },
  {
   "cell_type": "markdown",
   "metadata": {},
   "source": [
    "Importing the features"
   ]
  },
  {
   "cell_type": "code",
   "execution_count": 30,
   "metadata": {},
   "outputs": [
    {
     "name": "stdout",
     "output_type": "stream",
     "text": [
      "(n train, n val, n test) =  (27294, 3033)\n"
     ]
    }
   ],
   "source": [
    "sg_train, sg_test = sg[mask_train], sg[mask_test]\n",
    "mf_train, mf_test = mf[mask_train], mf[mask_test]\n",
    "cg_train, cg_test = cg[mask_train], cg[mask_test]\n",
    "tn_train, tn_test = tn[mask_train], tn[mask_test]\n",
    "sc_train, sc_test = sc[mask_train], sc[mask_test]\n",
    "\n",
    "sg_shape = sg[0].shape\n",
    "mf_shape = mf[0].shape\n",
    "cg_shape = cg[0].shape\n",
    "tn_shape = tn[0].shape\n",
    "sc_shape = sc[0].shape\n",
    "\n",
    "print('(n train, n val, n test) = ', (mask_train.shape[0], mask_test.shape[0]))"
   ]
  },
  {
   "cell_type": "markdown",
   "metadata": {},
   "source": [
    "Ensembling the models."
   ]
  },
  {
   "cell_type": "code",
   "execution_count": 31,
   "metadata": {},
   "outputs": [
    {
     "name": "stdout",
     "output_type": "stream",
     "text": [
      "Model: \"model_6\"\n",
      "__________________________________________________________________________________________________\n",
      " Layer (type)                   Output Shape         Param #     Connected to                     \n",
      "==================================================================================================\n",
      " input_12 (InputLayer)          [(None, 126, 64)]    0           []                               \n",
      "                                                                                                  \n",
      " input_13 (InputLayer)          [(None, 126, 20)]    0           []                               \n",
      "                                                                                                  \n",
      " input_14 (InputLayer)          [(None, 126, 12)]    0           []                               \n",
      "                                                                                                  \n",
      " input_15 (InputLayer)          [(None, 126, 6)]     0           []                               \n",
      "                                                                                                  \n",
      " input_16 (InputLayer)          [(None, 126, 7)]     0           []                               \n",
      "                                                                                                  \n",
      " sg_model (Sequential)          (None, 256)          368960      ['input_12[0][0]']               \n",
      "                                                                                                  \n",
      " mf_model (Sequential)          (None, 256)          361920      ['input_13[0][0]']               \n",
      "                                                                                                  \n",
      " cg_model (Sequential)          (None, 256)          360640      ['input_14[0][0]']               \n",
      "                                                                                                  \n",
      " tn_model (Sequential)          (None, 256)          359680      ['input_15[0][0]']               \n",
      "                                                                                                  \n",
      " sc_model (Sequential)          (None, 256)          359840      ['input_16[0][0]']               \n",
      "                                                                                                  \n",
      " dense_18 (Dense)               (None, 64)           16448       ['sg_model[0][0]']               \n",
      "                                                                                                  \n",
      " dense_19 (Dense)               (None, 64)           16448       ['mf_model[0][0]']               \n",
      "                                                                                                  \n",
      " dense_20 (Dense)               (None, 64)           16448       ['cg_model[0][0]']               \n",
      "                                                                                                  \n",
      " dense_21 (Dense)               (None, 64)           16448       ['tn_model[0][0]']               \n",
      "                                                                                                  \n",
      " dense_22 (Dense)               (None, 64)           16448       ['sc_model[0][0]']               \n",
      "                                                                                                  \n",
      " add (Add)                      (None, 64)           0           ['dense_18[0][0]',               \n",
      "                                                                  'dense_19[0][0]',               \n",
      "                                                                  'dense_20[0][0]',               \n",
      "                                                                  'dense_21[0][0]',               \n",
      "                                                                  'dense_22[0][0]']               \n",
      "                                                                                                  \n",
      " dense_23 (Dense)               (None, 7)            455         ['add[0][0]']                    \n",
      "                                                                                                  \n",
      "==================================================================================================\n",
      "Total params: 1,893,735\n",
      "Trainable params: 82,695\n",
      "Non-trainable params: 1,811,040\n",
      "__________________________________________________________________________________________________\n"
     ]
    }
   ],
   "source": [
    "sg_input = Input(shape = sg_shape)\n",
    "mf_input = Input(shape = mf_shape)\n",
    "cg_input = Input(shape = cg_shape)\n",
    "tn_input = Input(shape = tn_shape)\n",
    "sc_input = Input(shape = sc_shape)\n",
    "\n",
    "sg_output = sg_model(sg_input)\n",
    "sg_output = Dense(64, activation = 'swish')(sg_output)\n",
    "\n",
    "mf_output = mf_model(mf_input)\n",
    "mf_output = Dense(64, activation = 'swish')(mf_output)\n",
    "\n",
    "cg_output = cg_model(cg_input)\n",
    "cg_output = Dense(64, activation = 'swish')(cg_output)\n",
    "\n",
    "tn_output = tn_model(tn_input)\n",
    "tn_output = Dense(64, activation = 'swish')(tn_output)\n",
    "\n",
    "sc_output = sc_model(sc_input)\n",
    "sc_output = Dense(64, activation = 'swish')(sc_output)\n",
    "\n",
    "x = add([sg_output, mf_output, cg_output, tn_output, sc_output])\n",
    "\n",
    "output = Dense(7, activation = 'softmax')(x)\n",
    "\n",
    "model = Model([sg_input, mf_input, cg_input, tn_input, sc_input], output)\n",
    "\n",
    "# freezing the base models' weights\n",
    "for l in model.layers[:-7]:\n",
    "    l.trainable = False\n",
    "\n",
    "model.summary()"
   ]
  },
  {
   "cell_type": "markdown",
   "metadata": {},
   "source": [
    "Training the model"
   ]
  },
  {
   "cell_type": "code",
   "execution_count": 33,
   "metadata": {},
   "outputs": [
    {
     "name": "stdout",
     "output_type": "stream",
     "text": [
      "Epoch 1/100\n",
      "853/853 [==============================] - ETA: 0s - loss: 0.2611 - categorical_accuracy: 0.9121INFO:tensorflow:Assets written to: models\\multi_input_model\\assets\n"
     ]
    },
    {
     "name": "stderr",
     "output_type": "stream",
     "text": [
      "INFO:tensorflow:Assets written to: models\\multi_input_model\\assets\n",
      "WARNING:absl:<keras.layers.recurrent.LSTMCell object at 0x0000018678710460> has the same name 'LSTMCell' as a built-in Keras object. Consider renaming <class 'keras.layers.recurrent.LSTMCell'> to avoid naming conflicts when loading with `tf.keras.models.load_model`. If renaming is not possible, pass the object in the `custom_objects` parameter of the load function.\n",
      "WARNING:absl:<keras.layers.recurrent.LSTMCell object at 0x00000186787124D0> has the same name 'LSTMCell' as a built-in Keras object. Consider renaming <class 'keras.layers.recurrent.LSTMCell'> to avoid naming conflicts when loading with `tf.keras.models.load_model`. If renaming is not possible, pass the object in the `custom_objects` parameter of the load function.\n",
      "WARNING:absl:<keras.layers.recurrent.LSTMCell object at 0x0000018678743790> has the same name 'LSTMCell' as a built-in Keras object. Consider renaming <class 'keras.layers.recurrent.LSTMCell'> to avoid naming conflicts when loading with `tf.keras.models.load_model`. If renaming is not possible, pass the object in the `custom_objects` parameter of the load function.\n",
      "WARNING:absl:<keras.layers.recurrent.LSTMCell object at 0x0000018678740490> has the same name 'LSTMCell' as a built-in Keras object. Consider renaming <class 'keras.layers.recurrent.LSTMCell'> to avoid naming conflicts when loading with `tf.keras.models.load_model`. If renaming is not possible, pass the object in the `custom_objects` parameter of the load function.\n",
      "WARNING:absl:<keras.layers.recurrent.LSTMCell object at 0x00000185B18967A0> has the same name 'LSTMCell' as a built-in Keras object. Consider renaming <class 'keras.layers.recurrent.LSTMCell'> to avoid naming conflicts when loading with `tf.keras.models.load_model`. If renaming is not possible, pass the object in the `custom_objects` parameter of the load function.\n",
      "WARNING:absl:<keras.layers.recurrent.LSTMCell object at 0x00000185B1895C90> has the same name 'LSTMCell' as a built-in Keras object. Consider renaming <class 'keras.layers.recurrent.LSTMCell'> to avoid naming conflicts when loading with `tf.keras.models.load_model`. If renaming is not possible, pass the object in the `custom_objects` parameter of the load function.\n",
      "WARNING:absl:<keras.layers.recurrent.LSTMCell object at 0x00000185B1827760> has the same name 'LSTMCell' as a built-in Keras object. Consider renaming <class 'keras.layers.recurrent.LSTMCell'> to avoid naming conflicts when loading with `tf.keras.models.load_model`. If renaming is not possible, pass the object in the `custom_objects` parameter of the load function.\n",
      "WARNING:absl:<keras.layers.recurrent.LSTMCell object at 0x00000185B1827070> has the same name 'LSTMCell' as a built-in Keras object. Consider renaming <class 'keras.layers.recurrent.LSTMCell'> to avoid naming conflicts when loading with `tf.keras.models.load_model`. If renaming is not possible, pass the object in the `custom_objects` parameter of the load function.\n",
      "WARNING:absl:<keras.layers.recurrent.LSTMCell object at 0x0000018698078790> has the same name 'LSTMCell' as a built-in Keras object. Consider renaming <class 'keras.layers.recurrent.LSTMCell'> to avoid naming conflicts when loading with `tf.keras.models.load_model`. If renaming is not possible, pass the object in the `custom_objects` parameter of the load function.\n",
      "WARNING:absl:<keras.layers.recurrent.LSTMCell object at 0x0000018698079000> has the same name 'LSTMCell' as a built-in Keras object. Consider renaming <class 'keras.layers.recurrent.LSTMCell'> to avoid naming conflicts when loading with `tf.keras.models.load_model`. If renaming is not possible, pass the object in the `custom_objects` parameter of the load function.\n",
      "WARNING:absl:<keras.layers.recurrent.LSTMCell object at 0x000001869807AEF0> has the same name 'LSTMCell' as a built-in Keras object. Consider renaming <class 'keras.layers.recurrent.LSTMCell'> to avoid naming conflicts when loading with `tf.keras.models.load_model`. If renaming is not possible, pass the object in the `custom_objects` parameter of the load function.\n",
      "WARNING:absl:<keras.layers.recurrent.LSTMCell object at 0x000001869807B7C0> has the same name 'LSTMCell' as a built-in Keras object. Consider renaming <class 'keras.layers.recurrent.LSTMCell'> to avoid naming conflicts when loading with `tf.keras.models.load_model`. If renaming is not possible, pass the object in the `custom_objects` parameter of the load function.\n",
      "WARNING:absl:<keras.layers.recurrent.LSTMCell object at 0x00000186B32F41F0> has the same name 'LSTMCell' as a built-in Keras object. Consider renaming <class 'keras.layers.recurrent.LSTMCell'> to avoid naming conflicts when loading with `tf.keras.models.load_model`. If renaming is not possible, pass the object in the `custom_objects` parameter of the load function.\n",
      "WARNING:absl:<keras.layers.recurrent.LSTMCell object at 0x00000186B32F4AC0> has the same name 'LSTMCell' as a built-in Keras object. Consider renaming <class 'keras.layers.recurrent.LSTMCell'> to avoid naming conflicts when loading with `tf.keras.models.load_model`. If renaming is not possible, pass the object in the `custom_objects` parameter of the load function.\n",
      "WARNING:absl:<keras.layers.recurrent.LSTMCell object at 0x00000186B32F69B0> has the same name 'LSTMCell' as a built-in Keras object. Consider renaming <class 'keras.layers.recurrent.LSTMCell'> to avoid naming conflicts when loading with `tf.keras.models.load_model`. If renaming is not possible, pass the object in the `custom_objects` parameter of the load function.\n",
      "WARNING:absl:<keras.layers.recurrent.LSTMCell object at 0x00000186B32F7280> has the same name 'LSTMCell' as a built-in Keras object. Consider renaming <class 'keras.layers.recurrent.LSTMCell'> to avoid naming conflicts when loading with `tf.keras.models.load_model`. If renaming is not possible, pass the object in the `custom_objects` parameter of the load function.\n",
      "WARNING:absl:<keras.layers.recurrent.LSTMCell object at 0x00000186D25478B0> has the same name 'LSTMCell' as a built-in Keras object. Consider renaming <class 'keras.layers.recurrent.LSTMCell'> to avoid naming conflicts when loading with `tf.keras.models.load_model`. If renaming is not possible, pass the object in the `custom_objects` parameter of the load function.\n",
      "WARNING:absl:<keras.layers.recurrent.LSTMCell object at 0x00000186D2568370> has the same name 'LSTMCell' as a built-in Keras object. Consider renaming <class 'keras.layers.recurrent.LSTMCell'> to avoid naming conflicts when loading with `tf.keras.models.load_model`. If renaming is not possible, pass the object in the `custom_objects` parameter of the load function.\n",
      "WARNING:absl:<keras.layers.recurrent.LSTMCell object at 0x00000186D256A0B0> has the same name 'LSTMCell' as a built-in Keras object. Consider renaming <class 'keras.layers.recurrent.LSTMCell'> to avoid naming conflicts when loading with `tf.keras.models.load_model`. If renaming is not possible, pass the object in the `custom_objects` parameter of the load function.\n",
      "WARNING:absl:<keras.layers.recurrent.LSTMCell object at 0x00000186D256A980> has the same name 'LSTMCell' as a built-in Keras object. Consider renaming <class 'keras.layers.recurrent.LSTMCell'> to avoid naming conflicts when loading with `tf.keras.models.load_model`. If renaming is not possible, pass the object in the `custom_objects` parameter of the load function.\n"
     ]
    },
    {
     "name": "stdout",
     "output_type": "stream",
     "text": [
      "853/853 [==============================] - 424s 354ms/step - loss: 0.2611 - categorical_accuracy: 0.9121 - val_loss: 1.1890 - val_categorical_accuracy: 0.7349\n",
      "Epoch 2/100\n",
      "853/853 [==============================] - 116s 136ms/step - loss: 0.1034 - categorical_accuracy: 0.9615 - val_loss: 1.4183 - val_categorical_accuracy: 0.7234\n",
      "Epoch 3/100\n",
      "853/853 [==============================] - 116s 136ms/step - loss: 0.0925 - categorical_accuracy: 0.9660 - val_loss: 1.5569 - val_categorical_accuracy: 0.7155\n",
      "Epoch 4/100\n",
      "853/853 [==============================] - 119s 139ms/step - loss: 0.0844 - categorical_accuracy: 0.9695 - val_loss: 1.5954 - val_categorical_accuracy: 0.7260\n",
      "Epoch 5/100\n",
      "853/853 [==============================] - 118s 138ms/step - loss: 0.0819 - categorical_accuracy: 0.9692 - val_loss: 1.5983 - val_categorical_accuracy: 0.7263\n",
      "Epoch 6/100\n",
      "853/853 [==============================] - 113s 132ms/step - loss: 0.0776 - categorical_accuracy: 0.9715 - val_loss: 1.6198 - val_categorical_accuracy: 0.7204\n",
      "Epoch 7/100\n",
      "853/853 [==============================] - 106s 125ms/step - loss: 0.0710 - categorical_accuracy: 0.9744 - val_loss: 1.6506 - val_categorical_accuracy: 0.7221\n",
      "Epoch 8/100\n",
      "853/853 [==============================] - 106s 124ms/step - loss: 0.0689 - categorical_accuracy: 0.9748 - val_loss: 1.6939 - val_categorical_accuracy: 0.7188\n",
      "Epoch 9/100\n",
      "853/853 [==============================] - 106s 125ms/step - loss: 0.0656 - categorical_accuracy: 0.9768 - val_loss: 1.7311 - val_categorical_accuracy: 0.7280\n",
      "Epoch 10/100\n",
      "853/853 [==============================] - 106s 124ms/step - loss: 0.0642 - categorical_accuracy: 0.9764 - val_loss: 1.7428 - val_categorical_accuracy: 0.7181\n",
      "Epoch 11/100\n",
      "853/853 [==============================] - 106s 124ms/step - loss: 0.0584 - categorical_accuracy: 0.9788 - val_loss: 1.7763 - val_categorical_accuracy: 0.7244\n"
     ]
    }
   ],
   "source": [
    "X_train = [sg_train, mf_train, cg_train, tn_train, sc_train]\n",
    "X_test = [sg_test,mf_test,cg_test,tn_test,sc_test] \n",
    "\n",
    "model.compile(optimizer = 'adam', loss = 'categorical_crossentropy', metrics = ['categorical_accuracy'])\n",
    "\n",
    "batch_size=32\n",
    "epochs = 100\n",
    "\n",
    "callbacks_list = [EarlyStopping(patience = 10, monitor = 'val_categorical_accuracy'),\n",
    "                    ModelCheckpoint('models/multi_input_model', monitor = 'val_categorical_accuracy', save_best_only = True)]\n",
    "\n",
    "history = model.fit(X_train, y_train, batch_size=batch_size, epochs = epochs, validation_data = [X_test, y_test], callbacks = callbacks_list)"
   ]
  },
  {
   "cell_type": "markdown",
   "metadata": {},
   "source": [
    "## Results"
   ]
  },
  {
   "cell_type": "code",
   "execution_count": 9,
   "metadata": {},
   "outputs": [],
   "source": [
    "sg_test = sg[mask_test]\n",
    "mf_test = mf[mask_test]\n",
    "cg_test = cg[mask_test]\n",
    "tn_test = tn[mask_test]\n",
    "sc_test = sc[mask_test]\n",
    "\n",
    "X_test = [sg_test, mf_test, cg_test, tn_test, sc_test]"
   ]
  },
  {
   "cell_type": "markdown",
   "metadata": {},
   "source": [
    "### Results per origin"
   ]
  },
  {
   "cell_type": "markdown",
   "metadata": {},
   "source": [
    "Splitting the features per origin"
   ]
  },
  {
   "cell_type": "code",
   "execution_count": 11,
   "metadata": {},
   "outputs": [
    {
     "data": {
      "text/html": [
       "<style>#sk-container-id-1 {color: black;background-color: white;}#sk-container-id-1 pre{padding: 0;}#sk-container-id-1 div.sk-toggleable {background-color: white;}#sk-container-id-1 label.sk-toggleable__label {cursor: pointer;display: block;width: 100%;margin-bottom: 0;padding: 0.3em;box-sizing: border-box;text-align: center;}#sk-container-id-1 label.sk-toggleable__label-arrow:before {content: \"▸\";float: left;margin-right: 0.25em;color: #696969;}#sk-container-id-1 label.sk-toggleable__label-arrow:hover:before {color: black;}#sk-container-id-1 div.sk-estimator:hover label.sk-toggleable__label-arrow:before {color: black;}#sk-container-id-1 div.sk-toggleable__content {max-height: 0;max-width: 0;overflow: hidden;text-align: left;background-color: #f0f8ff;}#sk-container-id-1 div.sk-toggleable__content pre {margin: 0.2em;color: black;border-radius: 0.25em;background-color: #f0f8ff;}#sk-container-id-1 input.sk-toggleable__control:checked~div.sk-toggleable__content {max-height: 200px;max-width: 100%;overflow: auto;}#sk-container-id-1 input.sk-toggleable__control:checked~label.sk-toggleable__label-arrow:before {content: \"▾\";}#sk-container-id-1 div.sk-estimator input.sk-toggleable__control:checked~label.sk-toggleable__label {background-color: #d4ebff;}#sk-container-id-1 div.sk-label input.sk-toggleable__control:checked~label.sk-toggleable__label {background-color: #d4ebff;}#sk-container-id-1 input.sk-hidden--visually {border: 0;clip: rect(1px 1px 1px 1px);clip: rect(1px, 1px, 1px, 1px);height: 1px;margin: -1px;overflow: hidden;padding: 0;position: absolute;width: 1px;}#sk-container-id-1 div.sk-estimator {font-family: monospace;background-color: #f0f8ff;border: 1px dotted black;border-radius: 0.25em;box-sizing: border-box;margin-bottom: 0.5em;}#sk-container-id-1 div.sk-estimator:hover {background-color: #d4ebff;}#sk-container-id-1 div.sk-parallel-item::after {content: \"\";width: 100%;border-bottom: 1px solid gray;flex-grow: 1;}#sk-container-id-1 div.sk-label:hover label.sk-toggleable__label {background-color: #d4ebff;}#sk-container-id-1 div.sk-serial::before {content: \"\";position: absolute;border-left: 1px solid gray;box-sizing: border-box;top: 0;bottom: 0;left: 50%;z-index: 0;}#sk-container-id-1 div.sk-serial {display: flex;flex-direction: column;align-items: center;background-color: white;padding-right: 0.2em;padding-left: 0.2em;position: relative;}#sk-container-id-1 div.sk-item {position: relative;z-index: 1;}#sk-container-id-1 div.sk-parallel {display: flex;align-items: stretch;justify-content: center;background-color: white;position: relative;}#sk-container-id-1 div.sk-item::before, #sk-container-id-1 div.sk-parallel-item::before {content: \"\";position: absolute;border-left: 1px solid gray;box-sizing: border-box;top: 0;bottom: 0;left: 50%;z-index: -1;}#sk-container-id-1 div.sk-parallel-item {display: flex;flex-direction: column;z-index: 1;position: relative;background-color: white;}#sk-container-id-1 div.sk-parallel-item:first-child::after {align-self: flex-end;width: 50%;}#sk-container-id-1 div.sk-parallel-item:last-child::after {align-self: flex-start;width: 50%;}#sk-container-id-1 div.sk-parallel-item:only-child::after {width: 0;}#sk-container-id-1 div.sk-dashed-wrapped {border: 1px dashed gray;margin: 0 0.4em 0.5em 0.4em;box-sizing: border-box;padding-bottom: 0.4em;background-color: white;}#sk-container-id-1 div.sk-label label {font-family: monospace;font-weight: bold;display: inline-block;line-height: 1.2em;}#sk-container-id-1 div.sk-label-container {text-align: center;}#sk-container-id-1 div.sk-container {/* jupyter's `normalize.less` sets `[hidden] { display: none; }` but bootstrap.min.css set `[hidden] { display: none !important; }` so we also need the `!important` here to be able to override the default hidden behavior on the sphinx rendered scikit-learn.org. See: https://github.com/scikit-learn/scikit-learn/issues/21755 */display: inline-block !important;position: relative;}#sk-container-id-1 div.sk-text-repr-fallback {display: none;}</style><div id=\"sk-container-id-1\" class=\"sk-top-container\"><div class=\"sk-text-repr-fallback\"><pre>OneHotEncoder()</pre><b>In a Jupyter environment, please rerun this cell to show the HTML representation or trust the notebook. <br />On GitHub, the HTML representation is unable to render, please try loading this page with nbviewer.org.</b></div><div class=\"sk-container\" hidden><div class=\"sk-item\"><div class=\"sk-estimator sk-toggleable\"><input class=\"sk-toggleable__control sk-hidden--visually\" id=\"sk-estimator-id-1\" type=\"checkbox\" checked><label for=\"sk-estimator-id-1\" class=\"sk-toggleable__label sk-toggleable__label-arrow\">OneHotEncoder</label><div class=\"sk-toggleable__content\"><pre>OneHotEncoder()</pre></div></div></div></div></div>"
      ],
      "text/plain": [
       "OneHotEncoder()"
      ]
     },
     "execution_count": 11,
     "metadata": {},
     "output_type": "execute_result"
    }
   ],
   "source": [
    "crema_mask = train_df['origin']=='crema'\n",
    "crema_mask = np.array(crema_mask[crema_mask].index)\n",
    "crema_mask = np.intersect1d(crema_mask, mask_test)\n",
    "sg_crema = sg[crema_mask]\n",
    "mf_crema = mf[crema_mask]\n",
    "cg_crema = cg[crema_mask]\n",
    "tn_crema = tn[crema_mask]\n",
    "sc_crema = sc[crema_mask]\n",
    "\n",
    "ravdess_mask = train_df['origin']=='ravdess'\n",
    "ravdess_mask = np.array(ravdess_mask[ravdess_mask].index)\n",
    "ravdess_mask = np.intersect1d(ravdess_mask, mask_test)\n",
    "sg_ravdess = sg[ravdess_mask]\n",
    "mf_ravdess = mf[ravdess_mask]\n",
    "cg_ravdess = cg[ravdess_mask]\n",
    "tn_ravdess = tn[ravdess_mask]\n",
    "sc_ravdess = sc[ravdess_mask]\n",
    "\n",
    "savee_mask = train_df['origin']=='savee'\n",
    "savee_mask = np.array(savee_mask[savee_mask].index)\n",
    "savee_mask = np.intersect1d(savee_mask, mask_test)\n",
    "sg_savee = sg[savee_mask]\n",
    "mf_savee = mf[savee_mask]\n",
    "cg_savee = cg[savee_mask]\n",
    "tn_savee = tn[savee_mask]\n",
    "sc_savee = sc[savee_mask]\n",
    "\n",
    "tess_mask = train_df['origin']=='tess'\n",
    "tess_mask = np.array(tess_mask[tess_mask].index)\n",
    "tess_mask = np.intersect1d(tess_mask, mask_test)\n",
    "sg_tess = sg[tess_mask]\n",
    "mf_tess = mf[tess_mask]\n",
    "cg_tess = cg[tess_mask]\n",
    "tn_tess = tn[tess_mask]\n",
    "sc_tess = sc[tess_mask]\n",
    "\n",
    "\n",
    "ems = np.array(['angry', 'disgust', 'fear', 'happy', 'neutral', 'sadness','surprise'])\n",
    "enc = OneHotEncoder()\n",
    "enc.fit(ems.reshape(-1,1))"
   ]
  },
  {
   "cell_type": "code",
   "execution_count": 15,
   "metadata": {},
   "outputs": [],
   "source": [
    "X_crema = [sg_crema, mf_crema, cg_crema, tn_crema, sc_crema]\n",
    "X_ravdess = [sg_ravdess, mf_ravdess, cg_ravdess, tn_ravdess, sc_ravdess]\n",
    "X_savee = [sg_savee, mf_savee, cg_savee, tn_savee, sc_savee]\n",
    "X_tess = [sg_tess, mf_tess, cg_tess, tn_tess, sc_tess]\n",
    "\n",
    "y_crema = y[crema_mask]\n",
    "y_ravdess = y[ravdess_mask]\n",
    "y_savee = y[savee_mask]\n",
    "y_tess = y[tess_mask]"
   ]
  },
  {
   "cell_type": "code",
   "execution_count": 33,
   "metadata": {},
   "outputs": [
    {
     "data": {
      "image/png": "[encoded data removed]",
      "text/plain": [
       "<Figure size 1440x1080 with 8 Axes>"
      ]
     },
     "metadata": {
      "needs_background": "light"
     },
     "output_type": "display_data"
    }
   ],
   "source": [
    "fig, axs = plt.subplots(2, 2, figsize = (20,15))\n",
    "origins = ['crema', 'ravdess', 'savee', 'tess']\n",
    "index = 0\n",
    "for Xt, yt in list(zip([X_crema, X_ravdess, X_savee, X_tess], [y_crema, y_ravdess, y_savee, y_tess])):\n",
    "    y_pred = model.predict(Xt)\n",
    "    y_pred_label = enc.inverse_transform(y_pred)\n",
    "    y_test_label = enc.inverse_transform(yt)\n",
    "    cr = classification_report(y_test_label, y_pred_label, digits = 2, output_dict=True)\n",
    "    if index ==0:\n",
    "        i,j=0,0\n",
    "    elif index == 1:\n",
    "        i,j=0,1\n",
    "    elif index == 2:\n",
    "        i,j=1,0\n",
    "    else:\n",
    "        i,j=1,1\n",
    "\n",
    "    cr = pd.DataFrame(cr).T\n",
    "    cr.iloc[:,:3]=cr.iloc[:,:3].apply(lambda x: round(x, 3))\n",
    "    cr.iloc[:,3]=cr.iloc[:,3].astype(int)\n",
    "    sns.heatmap(cr, ax = axs[i,j], vmin=0, vmax=1, linecolor='white', cmap='Greens', linewidth=1, annot=True, fmt='')\n",
    "    axs[i,j].set_title('Classification Report '+origins[index], size = 20)\n",
    "\n",
    "    index+=1\n"
   ]
  },
  {
   "cell_type": "markdown",
   "metadata": {},
   "source": [
    "### Results on the merged dataset"
   ]
  },
  {
   "cell_type": "code",
   "execution_count": 41,
   "metadata": {},
   "outputs": [
    {
     "data": {
      "text/plain": [
       "Text(0.5, 1.0, 'Classification Report')"
      ]
     },
     "execution_count": 41,
     "metadata": {},
     "output_type": "execute_result"
    },
    {
     "data": {
      "image/png": "[encoded data removed]",
      "text/plain": [
       "<Figure size 1440x504 with 4 Axes>"
      ]
     },
     "metadata": {
      "needs_background": "light"
     },
     "output_type": "display_data"
    }
   ],
   "source": [
    "y_pred = model.predict(X_test)\n",
    "y_pred_label = enc.inverse_transform(y_pred)\n",
    "y_test_label = enc.inverse_transform(y_test)\n",
    "fig, axs = plt.subplots(1, 2, figsize = (20,7))\n",
    "\n",
    "# heat map of the confusion matrix\n",
    "\n",
    "cm = confusion_matrix(y_pred_label, y_test_label)\n",
    "cm = pd.DataFrame(cm , index = [i for i in ems] , columns = [i for i in ems])\n",
    "sns.heatmap(cm,  ax = axs[0], linecolor='white', cmap='Blues', linewidth=1, annot=True, fmt='')\n",
    "axs[0].set_title('Confusion Matrix', size=20)\n",
    "axs[0].set_xlabel('Predicted Labels', size=14)\n",
    "axs[0].set_ylabel('Actual Labels', size=14)\n",
    "\n",
    "# heat map of the classification report\n",
    "\n",
    "cr = classification_report(y_test_label, y_pred_label, digits = 2, output_dict = True)\n",
    "cr = pd.DataFrame(cr).T\n",
    "cr.iloc[:,:3]=cr.iloc[:,:3].apply(lambda x: round(x, 3))\n",
    "cr.iloc[:,3]=cr.iloc[:,3].astype(int)\n",
    "sns.heatmap(cr, ax = axs[1], vmin=0, vmax=1, linecolor='white', cmap='Greens', linewidth=1, annot=True, fmt='')\n",
    "axs[1].set_title('Classification Report', size = 20)"
   ]
  }
 ],
 "metadata": {
  "interpreter": {
   "hash": "e786df0e509bcafdf594f3f1fdb10913214f077180f77822c40f17b487c6fdfa"
  },
  "kernelspec": {
   "display_name": "Python 3.10.4 ('loop_!')",
   "language": "python",
   "name": "python3"
  },
  "language_info": {
   "codemirror_mode": {
    "name": "ipython",
    "version": 3
   },
   "file_extension": ".py",
   "mimetype": "text/x-python",
   "name": "python",
   "nbconvert_exporter": "python",
   "pygments_lexer": "ipython3",
   "version": "3.10.4"
  },
  "orig_nbformat": 4
 },
 "nbformat": 4,
 "nbformat_minor": 2
}
