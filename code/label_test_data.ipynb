{
 "cells": [
  {
   "cell_type": "markdown",
   "metadata": {},
   "source": [
    "##### Importing Dependencies and dataset"
   ]
  },
  {
   "cell_type": "code",
   "execution_count": null,
   "metadata": {},
   "outputs": [],
   "source": [
    "import pandas as pd\n",
    "import numpy as np \n",
    "import matplotlib.pyplot as plt \n",
    "import tensorflow as tf \n",
    "import os\n",
    "import librosa\n",
    "from sklearn.preprocessing import OneHotEncoder\n",
    "\n",
    "from Utils import AudioUtil"
   ]
  },
  {
   "cell_type": "code",
   "execution_count": 3,
   "metadata": {},
   "outputs": [
    {
     "name": "stdout",
     "output_type": "stream",
     "text": [
      "c:\\Users\\david\\Desktop\\LOOP_Q_PRIZE\n",
      "c:\\Users\\david\\Desktop\\LOOP_Q_PRIZE\\test\n"
     ]
    }
   ],
   "source": [
    "main_dir=os.getcwd()\n",
    "test_dir=main_dir+'\\\\test'\n",
    "print('{}\\n{}'.format(main_dir, test_dir))"
   ]
  },
  {
   "cell_type": "code",
   "execution_count": 26,
   "metadata": {},
   "outputs": [
    {
     "name": "stdout",
     "output_type": "stream",
     "text": [
      "Number of rows: 1385\n"
     ]
    },
    {
     "data": {
      "text/html": [
       "<div>\n",
       "<style scoped>\n",
       "    .dataframe tbody tr th:only-of-type {\n",
       "        vertical-align: middle;\n",
       "    }\n",
       "\n",
       "    .dataframe tbody tr th {\n",
       "        vertical-align: top;\n",
       "    }\n",
       "\n",
       "    .dataframe thead th {\n",
       "        text-align: right;\n",
       "    }\n",
       "</style>\n",
       "<table border=\"1\" class=\"dataframe\">\n",
       "  <thead>\n",
       "    <tr style=\"text-align: right;\">\n",
       "      <th></th>\n",
       "      <th>file_id</th>\n",
       "      <th>origin</th>\n",
       "      <th>predicted_emotion</th>\n",
       "    </tr>\n",
       "  </thead>\n",
       "  <tbody>\n",
       "    <tr>\n",
       "      <th>727</th>\n",
       "      <td>f4825714-603d-4ae8-a190-365a97b3a3e8.wav</td>\n",
       "      <td>crema</td>\n",
       "      <td>NaN</td>\n",
       "    </tr>\n",
       "    <tr>\n",
       "      <th>433</th>\n",
       "      <td>b7202182-1c7e-4a7d-912d-28637d2beff1.wav</td>\n",
       "      <td>crema</td>\n",
       "      <td>NaN</td>\n",
       "    </tr>\n",
       "    <tr>\n",
       "      <th>1175</th>\n",
       "      <td>e3e706b3-23be-4bc1-ade2-2ee1280a3501.wav</td>\n",
       "      <td>tess</td>\n",
       "      <td>NaN</td>\n",
       "    </tr>\n",
       "    <tr>\n",
       "      <th>108</th>\n",
       "      <td>6a08e1b1-dcbf-4752-94f4-a5710be9af32.wav</td>\n",
       "      <td>crema</td>\n",
       "      <td>NaN</td>\n",
       "    </tr>\n",
       "    <tr>\n",
       "      <th>1188</th>\n",
       "      <td>bd0170ee-4c07-423c-8444-12ff17ae2e56.wav</td>\n",
       "      <td>tess</td>\n",
       "      <td>NaN</td>\n",
       "    </tr>\n",
       "    <tr>\n",
       "      <th>915</th>\n",
       "      <td>7390a5a4-6df3-4b5b-a38f-292bdca75187.wav</td>\n",
       "      <td>ravdess</td>\n",
       "      <td>NaN</td>\n",
       "    </tr>\n",
       "    <tr>\n",
       "      <th>1093</th>\n",
       "      <td>08cb8e86-8d39-4809-b6b2-922c9de45c13.wav</td>\n",
       "      <td>tess</td>\n",
       "      <td>NaN</td>\n",
       "    </tr>\n",
       "    <tr>\n",
       "      <th>252</th>\n",
       "      <td>d62506af-8a51-47df-bff4-b4e589f77e5d.wav</td>\n",
       "      <td>crema</td>\n",
       "      <td>NaN</td>\n",
       "    </tr>\n",
       "    <tr>\n",
       "      <th>1149</th>\n",
       "      <td>47b517d0-1088-45e9-a73f-ca488ac7522a.wav</td>\n",
       "      <td>tess</td>\n",
       "      <td>NaN</td>\n",
       "    </tr>\n",
       "    <tr>\n",
       "      <th>303</th>\n",
       "      <td>0ae4a147-94f8-4117-af24-13d57a7a2815.wav</td>\n",
       "      <td>crema</td>\n",
       "      <td>NaN</td>\n",
       "    </tr>\n",
       "  </tbody>\n",
       "</table>\n",
       "</div>"
      ],
      "text/plain": [
       "                                       file_id   origin  predicted_emotion\n",
       "727   f4825714-603d-4ae8-a190-365a97b3a3e8.wav    crema                NaN\n",
       "433   b7202182-1c7e-4a7d-912d-28637d2beff1.wav    crema                NaN\n",
       "1175  e3e706b3-23be-4bc1-ade2-2ee1280a3501.wav     tess                NaN\n",
       "108   6a08e1b1-dcbf-4752-94f4-a5710be9af32.wav    crema                NaN\n",
       "1188  bd0170ee-4c07-423c-8444-12ff17ae2e56.wav     tess                NaN\n",
       "915   7390a5a4-6df3-4b5b-a38f-292bdca75187.wav  ravdess                NaN\n",
       "1093  08cb8e86-8d39-4809-b6b2-922c9de45c13.wav     tess                NaN\n",
       "252   d62506af-8a51-47df-bff4-b4e589f77e5d.wav    crema                NaN\n",
       "1149  47b517d0-1088-45e9-a73f-ca488ac7522a.wav     tess                NaN\n",
       "303   0ae4a147-94f8-4117-af24-13d57a7a2815.wav    crema                NaN"
      ]
     },
     "metadata": {},
     "output_type": "display_data"
    }
   ],
   "source": [
    "test_df = pd.read_csv(main_dir+'\\\\2022challengeA_test.csv', index_col=0)\n",
    "n_samples = len(test_df)\n",
    "\n",
    "print('Number of rows: {}'.format(test_df.shape[0]))\n",
    "display(test_df.sample(10))\n",
    "\n",
    "\n",
    "au = AudioUtil()"
   ]
  },
  {
   "cell_type": "markdown",
   "metadata": {},
   "source": [
    "##### extracting features"
   ]
  },
  {
   "cell_type": "code",
   "execution_count": 8,
   "metadata": {},
   "outputs": [],
   "source": [
    "# setting the parameters\n",
    "\n",
    "n_fft = 1024\n",
    "n_mels = 64\n",
    "hop_len = int(n_fft / 2)"
   ]
  },
  {
   "cell_type": "code",
   "execution_count": 9,
   "metadata": {},
   "outputs": [],
   "source": [
    "# inizializing the arrays of the features\n",
    "\n",
    "# Mel spectrogram\n",
    "sg = np.zeros(shape = (n_samples, 126, 64))\n",
    "# MFCCs\n",
    "mf = np.zeros(shape = (n_samples, 126, 20))\n",
    "# Chroma gram\n",
    "cg = np.zeros(shape = (n_samples, 126, 12))\n",
    "# Tonnetz Representation\n",
    "tn = np.zeros(shape = (n_samples, 126, 6))\n",
    "# Spectral contrast\n",
    "sc = np.zeros(shape = (n_samples, 126, 7))"
   ]
  },
  {
   "cell_type": "code",
   "execution_count": 13,
   "metadata": {},
   "outputs": [
    {
     "name": "stdout",
     "output_type": "stream",
     "text": [
      "Creating the dataset with the features ...\n",
      "[=============>]\n",
      "Done !!\n"
     ]
    }
   ],
   "source": [
    "print('Creating the dataset with the features ...')\n",
    "\n",
    "for i in range(n_samples):\n",
    "    audio_file = test_dir + '\\\\' + test_df.loc[i, 'file_id']\n",
    "    aud = librosa.load(audio_file)\n",
    "    aud = au.process_audio(aud)\n",
    "\n",
    "    mel_sg = au.spectro_gram(aud, n_mels = n_mels, n_fft = n_fft, hop_len = hop_len)\n",
    "    mfcc = librosa.feature.mfcc(S = mel_sg)\n",
    "    chroma_gram = librosa.feature.chroma_cqt(y = aud[0], sr = aud[1], hop_length=hop_len)\n",
    "    tonnetz = librosa.feature.tonnetz(chroma = chroma_gram)\n",
    "    spectral_contrast = librosa.feature.spectral_contrast(y = aud[0], sr = aud[1], n_fft = n_fft, hop_length = hop_len)\n",
    "\n",
    "    sg[i] = mel_sg.transpose()\n",
    "    mf[i] = mfcc.transpose()\n",
    "    cg[i] = chroma_gram.transpose()\n",
    "    tn[i] = tonnetz.transpose()\n",
    "    sc[i] = spectral_contrast.transpose() \n",
    "\n",
    "    if i%100==0:\n",
    "        print (str(['=' for i in range(i//100)]+['>']+['.' for i in range(n_samples//100-i//100)]).replace(',','').replace(' ','').replace(\"'\", ''), end='\\r')\n",
    "print()       \n",
    "\n",
    "print('Done !!')"
   ]
  },
  {
   "cell_type": "code",
   "execution_count": 18,
   "metadata": {},
   "outputs": [],
   "source": [
    "X = [sg, mf, cg, tn, sc]"
   ]
  },
  {
   "cell_type": "markdown",
   "metadata": {},
   "source": [
    "##### Importing model"
   ]
  },
  {
   "cell_type": "code",
   "execution_count": 15,
   "metadata": {},
   "outputs": [],
   "source": [
    "model = tf.keras.models.load_model('models/multi_input_model')"
   ]
  },
  {
   "cell_type": "markdown",
   "metadata": {},
   "source": [
    "##### predicting emotions"
   ]
  },
  {
   "cell_type": "code",
   "execution_count": 19,
   "metadata": {},
   "outputs": [],
   "source": [
    "labels = model.predict(X)\n",
    "\n",
    "# Trasforming the One Hot Encoded emotions into strings\n",
    "\n",
    "ems = np.array(['angry', 'disgust', 'fear', 'happy', 'neutral', 'sadness','surprise'])\n",
    "enc = OneHotEncoder()\n",
    "enc.fit(ems.reshape(-1,1))\n",
    "\n",
    "predicted_emotions = enc.inverse_transform(labels)"
   ]
  },
  {
   "cell_type": "markdown",
   "metadata": {},
   "source": [
    "##### Modifying and downloading the final dataset"
   ]
  },
  {
   "cell_type": "code",
   "execution_count": 27,
   "metadata": {},
   "outputs": [],
   "source": [
    "test_df['predicted_emotion'] = predicted_emotions"
   ]
  },
  {
   "cell_type": "code",
   "execution_count": 28,
   "metadata": {},
   "outputs": [
    {
     "data": {
      "text/html": [
       "<div>\n",
       "<style scoped>\n",
       "    .dataframe tbody tr th:only-of-type {\n",
       "        vertical-align: middle;\n",
       "    }\n",
       "\n",
       "    .dataframe tbody tr th {\n",
       "        vertical-align: top;\n",
       "    }\n",
       "\n",
       "    .dataframe thead th {\n",
       "        text-align: right;\n",
       "    }\n",
       "</style>\n",
       "<table border=\"1\" class=\"dataframe\">\n",
       "  <thead>\n",
       "    <tr style=\"text-align: right;\">\n",
       "      <th></th>\n",
       "      <th>file_id</th>\n",
       "      <th>origin</th>\n",
       "      <th>predicted_emotion</th>\n",
       "    </tr>\n",
       "  </thead>\n",
       "  <tbody>\n",
       "    <tr>\n",
       "      <th>767</th>\n",
       "      <td>4f14280d-f7a4-4f7d-901f-45e0d4f5752d.wav</td>\n",
       "      <td>crema</td>\n",
       "      <td>angry</td>\n",
       "    </tr>\n",
       "    <tr>\n",
       "      <th>799</th>\n",
       "      <td>ae807ecd-c69d-4896-b2a9-fe56bb26d033.wav</td>\n",
       "      <td>crema</td>\n",
       "      <td>neutral</td>\n",
       "    </tr>\n",
       "    <tr>\n",
       "      <th>749</th>\n",
       "      <td>e29fd42e-238b-48e9-aa25-d1e7ba080703.wav</td>\n",
       "      <td>crema</td>\n",
       "      <td>disgust</td>\n",
       "    </tr>\n",
       "    <tr>\n",
       "      <th>639</th>\n",
       "      <td>ce1544e9-bd8e-4542-97d4-0ce5b0a62d82.wav</td>\n",
       "      <td>crema</td>\n",
       "      <td>happy</td>\n",
       "    </tr>\n",
       "    <tr>\n",
       "      <th>1107</th>\n",
       "      <td>3ed6c275-307a-497e-bbc4-f3d22852df8e.wav</td>\n",
       "      <td>tess</td>\n",
       "      <td>sadness</td>\n",
       "    </tr>\n",
       "    <tr>\n",
       "      <th>423</th>\n",
       "      <td>d859db96-4436-4775-ae02-3c06f3df1298.wav</td>\n",
       "      <td>crema</td>\n",
       "      <td>disgust</td>\n",
       "    </tr>\n",
       "    <tr>\n",
       "      <th>832</th>\n",
       "      <td>a80474a0-39a5-4d76-9bf8-167645192e90.wav</td>\n",
       "      <td>crema</td>\n",
       "      <td>fear</td>\n",
       "    </tr>\n",
       "    <tr>\n",
       "      <th>1071</th>\n",
       "      <td>e76c17fc-48e1-46a6-b617-0fe9f4a78167.wav</td>\n",
       "      <td>tess</td>\n",
       "      <td>surprise</td>\n",
       "    </tr>\n",
       "    <tr>\n",
       "      <th>1198</th>\n",
       "      <td>ccfe384d-6460-4479-8fbc-ece9e851d981.wav</td>\n",
       "      <td>tess</td>\n",
       "      <td>neutral</td>\n",
       "    </tr>\n",
       "    <tr>\n",
       "      <th>1225</th>\n",
       "      <td>3d96b2f3-5cf5-4482-81e7-0c3867d1f4d8.wav</td>\n",
       "      <td>tess</td>\n",
       "      <td>angry</td>\n",
       "    </tr>\n",
       "  </tbody>\n",
       "</table>\n",
       "</div>"
      ],
      "text/plain": [
       "                                       file_id origin predicted_emotion\n",
       "767   4f14280d-f7a4-4f7d-901f-45e0d4f5752d.wav  crema             angry\n",
       "799   ae807ecd-c69d-4896-b2a9-fe56bb26d033.wav  crema           neutral\n",
       "749   e29fd42e-238b-48e9-aa25-d1e7ba080703.wav  crema           disgust\n",
       "639   ce1544e9-bd8e-4542-97d4-0ce5b0a62d82.wav  crema             happy\n",
       "1107  3ed6c275-307a-497e-bbc4-f3d22852df8e.wav   tess           sadness\n",
       "423   d859db96-4436-4775-ae02-3c06f3df1298.wav  crema           disgust\n",
       "832   a80474a0-39a5-4d76-9bf8-167645192e90.wav  crema              fear\n",
       "1071  e76c17fc-48e1-46a6-b617-0fe9f4a78167.wav   tess          surprise\n",
       "1198  ccfe384d-6460-4479-8fbc-ece9e851d981.wav   tess           neutral\n",
       "1225  3d96b2f3-5cf5-4482-81e7-0c3867d1f4d8.wav   tess             angry"
      ]
     },
     "execution_count": 28,
     "metadata": {},
     "output_type": "execute_result"
    }
   ],
   "source": [
    "test_df.sample(10)"
   ]
  },
  {
   "cell_type": "code",
   "execution_count": 33,
   "metadata": {},
   "outputs": [
    {
     "data": {
      "text/plain": [
       "<AxesSubplot:xlabel='predicted_emotion', ylabel='Count'>"
      ]
     },
     "execution_count": 33,
     "metadata": {},
     "output_type": "execute_result"
    },
    {
     "data": {
      "image/png": "[encoded data removed]",
      "text/plain": [
       "<Figure size 432x288 with 1 Axes>"
      ]
     },
     "metadata": {
      "needs_background": "light"
     },
     "output_type": "display_data"
    }
   ],
   "source": [
    "import seaborn as sns\n",
    "\n",
    "sns.histplot(data = test_df, x = 'predicted_emotion')"
   ]
  },
  {
   "cell_type": "code",
   "execution_count": 36,
   "metadata": {},
   "outputs": [],
   "source": [
    "test_df.to_csv('Baldelli,Davide_Answers.csv')"
   ]
  }
 ],
 "metadata": {
  "interpreter": {
   "hash": "e786df0e509bcafdf594f3f1fdb10913214f077180f77822c40f17b487c6fdfa"
  },
  "kernelspec": {
   "display_name": "Python 3.10.4 ('loop_!')",
   "language": "python",
   "name": "python3"
  },
  "language_info": {
   "codemirror_mode": {
    "name": "ipython",
    "version": 3
   },
   "file_extension": ".py",
   "mimetype": "text/x-python",
   "name": "python",
   "nbconvert_exporter": "python",
   "pygments_lexer": "ipython3",
   "version": "3.10.4"
  },
  "orig_nbformat": 4
 },
 "nbformat": 4,
 "nbformat_minor": 2
}
